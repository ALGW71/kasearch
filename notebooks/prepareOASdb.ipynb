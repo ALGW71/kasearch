{
 "cells": [
  {
   "cell_type": "code",
   "execution_count": 1,
   "id": "49a5a152-dfbd-4593-866b-4ba2cbddb16a",
   "metadata": {},
   "outputs": [],
   "source": [
    "%load_ext autoreload\n",
    "%autoreload 2\n",
    "\n",
    "import os\n",
    "\n",
    "from kasearch import EasySearch, PrepareOASdb, prepare_tiny_oas"
   ]
  },
  {
   "cell_type": "markdown",
   "id": "e7ea9015-4221-42fb-89a7-bf1a91a328ab",
   "metadata": {},
   "source": [
    "#### \"local_oas_path\" needs to be the path to a local version of OAS"
   ]
  },
  {
   "cell_type": "code",
   "execution_count": 2,
   "id": "70dcf116-78b4-481b-8c24-24915c9061b3",
   "metadata": {},
   "outputs": [],
   "source": [
    "local_oas_path = '/path/to/oas/database/'"
   ]
  },
  {
   "cell_type": "markdown",
   "id": "9ff87608-a7e0-4e3e-9cd1-9ab9c11c8271",
   "metadata": {},
   "source": [
    "---------\n",
    "# Prepare the OAS database for KA-Search\n",
    "\n",
    "When new data is added to OAS, re-run this code to create an updated pre-aligned OAS to search"
   ]
  },
  {
   "cell_type": "code",
   "execution_count": 3,
   "id": "2f7cb17e-736c-453b-a25a-e3c0bd31d366",
   "metadata": {},
   "outputs": [],
   "source": [
    "prepared_base_oas_folder =  \"oasdb_newdate\"\n",
    "prepared_small_oas_folder = \"oasdb_small_newdate\"\n",
    "prepared_tiny_oas_folder = \"oasdb_tiny_newdate\""
   ]
  },
  {
   "cell_type": "markdown",
   "id": "2e223d01-26c8-47f7-8af8-a7659f9bd8bc",
   "metadata": {},
   "source": [
    "## All of OAS\n",
    "\n",
    "- filter_data: Whether a set of cleaning steps will be used to filter the OAS data.\n",
    "- local_oas_path: Path to local OAS.\n",
    "- n_jobs: number of threads to use.\n",
    "\n",
    "We normally create files with around 5 million (data_file_size) sequences each. Larger file sizes usually result in faster searches, but will also requires more RAM. "
   ]
  },
  {
   "cell_type": "code",
   "execution_count": null,
   "id": "bbadc70f-c808-4a4d-ae10-2412dd70190a",
   "metadata": {},
   "outputs": [
    {
     "name": "stdout",
     "output_type": "stream",
     "text": [
      "# of unpaired files: 15631\n"
     ]
    }
   ],
   "source": [
    "prepare_oas = PrepareOASdb(\n",
    "    prepared_base_oas_folder, \n",
    "    filter_data = False,\n",
    "    local_oas_path = local_oas_path,\n",
    "    n_jobs = 30,\n",
    ")\n",
    "prepare_oas(data_file_size = 5_000_000)"
   ]
  },
  {
   "cell_type": "markdown",
   "id": "1e8b0aee-a6de-4899-9ba6-8baf90fb4d55",
   "metadata": {},
   "source": [
    "## Small OAS"
   ]
  },
  {
   "cell_type": "code",
   "execution_count": null,
   "id": "b60b7b1b-1f33-41e8-931e-56ff15ded652",
   "metadata": {},
   "outputs": [],
   "source": [
    "prepare_oas = PrepareOASdb(\n",
    "    prepared_small_oas_folder, \n",
    "    filter_data = True,\n",
    "    local_oas_path = local_oas_path,\n",
    "    n_jobs = 30,\n",
    ")\n",
    "prepare_oas(data_file_size = 5_000_000)"
   ]
  },
  {
   "cell_type": "markdown",
   "id": "3ebcee93-4203-4b1c-86e3-82fc6a0a868e",
   "metadata": {},
   "source": [
    "## Tiny OAS"
   ]
  },
  {
   "cell_type": "code",
   "execution_count": null,
   "id": "009eb653-71a7-487d-bcc2-280c99bf3646",
   "metadata": {},
   "outputs": [],
   "source": [
    "prepare_tiny_oas(prepared_tiny_oas_folder, prepared_small_oas_folder)"
   ]
  },
  {
   "cell_type": "markdown",
   "id": "4b59258d-1520-4aef-a99c-d69df594431b",
   "metadata": {},
   "source": [
    "-------------------\n",
    "\n",
    "## Quick test new data sets"
   ]
  },
  {
   "cell_type": "code",
   "execution_count": 9,
   "id": "7aba830e-628f-47e5-ad8c-af45d81c424e",
   "metadata": {},
   "outputs": [],
   "source": [
    "seq = \"QVQLVESGGGVVQPGRSLRLSCAASGFTFSSYGMHWVRQAPGKGLEWVAVIWYDGSNQYYADSVKGRFTISRDNSKNTLFLQMHSLRAEDTAVYYCARGLTSGRYGMDVWGQGTTVTVSS\""
   ]
  },
  {
   "cell_type": "code",
   "execution_count": 11,
   "id": "ae19d202-0e96-403d-9e95-f56804979146",
   "metadata": {
    "tags": []
   },
   "outputs": [
    {
     "data": {
      "text/html": [
       "<div>\n",
       "<style scoped>\n",
       "    .dataframe tbody tr th:only-of-type {\n",
       "        vertical-align: middle;\n",
       "    }\n",
       "\n",
       "    .dataframe tbody tr th {\n",
       "        vertical-align: top;\n",
       "    }\n",
       "\n",
       "    .dataframe thead th {\n",
       "        text-align: right;\n",
       "    }\n",
       "</style>\n",
       "<table border=\"1\" class=\"dataframe\">\n",
       "  <thead>\n",
       "    <tr style=\"text-align: right;\">\n",
       "      <th></th>\n",
       "      <th>sequence</th>\n",
       "      <th>locus</th>\n",
       "      <th>stop_codon</th>\n",
       "      <th>vj_in_frame</th>\n",
       "      <th>v_frameshift</th>\n",
       "      <th>productive</th>\n",
       "      <th>rev_comp</th>\n",
       "      <th>complete_vdj</th>\n",
       "      <th>v_call</th>\n",
       "      <th>d_call</th>\n",
       "      <th>...</th>\n",
       "      <th>BType</th>\n",
       "      <th>Vaccine</th>\n",
       "      <th>Disease</th>\n",
       "      <th>Subject</th>\n",
       "      <th>Longitudinal</th>\n",
       "      <th>Unique sequences</th>\n",
       "      <th>Total sequences</th>\n",
       "      <th>Isotype</th>\n",
       "      <th>Chain</th>\n",
       "      <th>Identity</th>\n",
       "    </tr>\n",
       "  </thead>\n",
       "  <tbody>\n",
       "    <tr>\n",
       "      <th>0</th>\n",
       "      <td>TTCTTAGAAGGTGTCCAGTGTCAGGTGCAGCTGGTGGAGTCTGGGG...</td>\n",
       "      <td>H</td>\n",
       "      <td>F</td>\n",
       "      <td>T</td>\n",
       "      <td>F</td>\n",
       "      <td>T</td>\n",
       "      <td>F</td>\n",
       "      <td>T</td>\n",
       "      <td>IGHV3-33*01</td>\n",
       "      <td>IGHD3-10*01</td>\n",
       "      <td>...</td>\n",
       "      <td>Unsorted-B-Cells</td>\n",
       "      <td>None</td>\n",
       "      <td>None</td>\n",
       "      <td>Subject-HIP3</td>\n",
       "      <td>no</td>\n",
       "      <td>4402426</td>\n",
       "      <td>16554027</td>\n",
       "      <td>IGHM</td>\n",
       "      <td>Heavy</td>\n",
       "      <td>0.950413</td>\n",
       "    </tr>\n",
       "    <tr>\n",
       "      <th>1</th>\n",
       "      <td>GGTTTAGAAGGTGTCCAGTGTCAGGTGCAGCTGGTGGAGTCTGGGG...</td>\n",
       "      <td>H</td>\n",
       "      <td>F</td>\n",
       "      <td>T</td>\n",
       "      <td>F</td>\n",
       "      <td>T</td>\n",
       "      <td>T</td>\n",
       "      <td>T</td>\n",
       "      <td>IGHV3-33*01</td>\n",
       "      <td>IGHD2-2*01</td>\n",
       "      <td>...</td>\n",
       "      <td>Unsorted-B-Cells</td>\n",
       "      <td>None</td>\n",
       "      <td>None</td>\n",
       "      <td>Subject-HIP2</td>\n",
       "      <td>no</td>\n",
       "      <td>4462271</td>\n",
       "      <td>27950084</td>\n",
       "      <td>IGHM</td>\n",
       "      <td>Heavy</td>\n",
       "      <td>0.950000</td>\n",
       "    </tr>\n",
       "    <tr>\n",
       "      <th>2</th>\n",
       "      <td>GCTATAAGAGGTGTCCAGTGTCAGGTGCAGCTGGTGGAGTCTGGGG...</td>\n",
       "      <td>H</td>\n",
       "      <td>F</td>\n",
       "      <td>T</td>\n",
       "      <td>F</td>\n",
       "      <td>T</td>\n",
       "      <td>T</td>\n",
       "      <td>T</td>\n",
       "      <td>IGHV3-33*01</td>\n",
       "      <td>IGHD3-10*01</td>\n",
       "      <td>...</td>\n",
       "      <td>Unsorted-B-Cells</td>\n",
       "      <td>None</td>\n",
       "      <td>None</td>\n",
       "      <td>Subject-HIP3</td>\n",
       "      <td>no</td>\n",
       "      <td>2535194</td>\n",
       "      <td>19627393</td>\n",
       "      <td>IGHM</td>\n",
       "      <td>Heavy</td>\n",
       "      <td>0.950000</td>\n",
       "    </tr>\n",
       "    <tr>\n",
       "      <th>3</th>\n",
       "      <td>GCCCTAAGAGGTGTCCAGTGTCAGGTGCAGCTGGTGGAGTCTGGGG...</td>\n",
       "      <td>H</td>\n",
       "      <td>F</td>\n",
       "      <td>T</td>\n",
       "      <td>F</td>\n",
       "      <td>T</td>\n",
       "      <td>T</td>\n",
       "      <td>T</td>\n",
       "      <td>IGHV3-33*01</td>\n",
       "      <td>IGHD1-7*01</td>\n",
       "      <td>...</td>\n",
       "      <td>Unsorted-B-Cells</td>\n",
       "      <td>None</td>\n",
       "      <td>None</td>\n",
       "      <td>Subject-HIP2</td>\n",
       "      <td>no</td>\n",
       "      <td>4467381</td>\n",
       "      <td>24573380</td>\n",
       "      <td>IGHM</td>\n",
       "      <td>Heavy</td>\n",
       "      <td>0.950000</td>\n",
       "    </tr>\n",
       "    <tr>\n",
       "      <th>4</th>\n",
       "      <td>ATCATACAAGGTGTCCAGTGTCAGGTGCAGCTGGTGGAGTCTGGGG...</td>\n",
       "      <td>H</td>\n",
       "      <td>F</td>\n",
       "      <td>T</td>\n",
       "      <td>F</td>\n",
       "      <td>T</td>\n",
       "      <td>F</td>\n",
       "      <td>T</td>\n",
       "      <td>IGHV3-33*01</td>\n",
       "      <td>IGHD6-19*01</td>\n",
       "      <td>...</td>\n",
       "      <td>Unsorted-B-Cells</td>\n",
       "      <td>None</td>\n",
       "      <td>None</td>\n",
       "      <td>Subject-HIP3</td>\n",
       "      <td>no</td>\n",
       "      <td>4397843</td>\n",
       "      <td>5342677</td>\n",
       "      <td>IGHM</td>\n",
       "      <td>Heavy</td>\n",
       "      <td>0.950000</td>\n",
       "    </tr>\n",
       "  </tbody>\n",
       "</table>\n",
       "<p>5 rows × 113 columns</p>\n",
       "</div>"
      ],
      "text/plain": [
       "                                            sequence locus stop_codon  \\\n",
       "0  TTCTTAGAAGGTGTCCAGTGTCAGGTGCAGCTGGTGGAGTCTGGGG...     H          F   \n",
       "1  GGTTTAGAAGGTGTCCAGTGTCAGGTGCAGCTGGTGGAGTCTGGGG...     H          F   \n",
       "2  GCTATAAGAGGTGTCCAGTGTCAGGTGCAGCTGGTGGAGTCTGGGG...     H          F   \n",
       "3  GCCCTAAGAGGTGTCCAGTGTCAGGTGCAGCTGGTGGAGTCTGGGG...     H          F   \n",
       "4  ATCATACAAGGTGTCCAGTGTCAGGTGCAGCTGGTGGAGTCTGGGG...     H          F   \n",
       "\n",
       "  vj_in_frame v_frameshift productive rev_comp complete_vdj       v_call  \\\n",
       "0           T            F          T        F            T  IGHV3-33*01   \n",
       "1           T            F          T        T            T  IGHV3-33*01   \n",
       "2           T            F          T        T            T  IGHV3-33*01   \n",
       "3           T            F          T        T            T  IGHV3-33*01   \n",
       "4           T            F          T        F            T  IGHV3-33*01   \n",
       "\n",
       "        d_call  ...             BType Vaccine Disease       Subject  \\\n",
       "0  IGHD3-10*01  ...  Unsorted-B-Cells    None    None  Subject-HIP3   \n",
       "1   IGHD2-2*01  ...  Unsorted-B-Cells    None    None  Subject-HIP2   \n",
       "2  IGHD3-10*01  ...  Unsorted-B-Cells    None    None  Subject-HIP3   \n",
       "3   IGHD1-7*01  ...  Unsorted-B-Cells    None    None  Subject-HIP2   \n",
       "4  IGHD6-19*01  ...  Unsorted-B-Cells    None    None  Subject-HIP3   \n",
       "\n",
       "  Longitudinal  Unique sequences  Total sequences  Isotype  Chain  Identity  \n",
       "0           no           4402426         16554027     IGHM  Heavy  0.950413  \n",
       "1           no           4462271         27950084     IGHM  Heavy  0.950000  \n",
       "2           no           2535194         19627393     IGHM  Heavy  0.950000  \n",
       "3           no           4467381         24573380     IGHM  Heavy  0.950000  \n",
       "4           no           4397843          5342677     IGHM  Heavy  0.950000  \n",
       "\n",
       "[5 rows x 113 columns]"
      ]
     },
     "execution_count": 11,
     "metadata": {},
     "output_type": "execute_result"
    }
   ],
   "source": [
    "search_results = EasySearch(seq, database_path = prepared_tiny_oas_folder, keep_best_n=5, n_jobs=30)\n",
    "search_results"
   ]
  }
 ],
 "metadata": {
  "kernelspec": {
   "display_name": "Python [conda env:kasearch-test]",
   "language": "python",
   "name": "conda-env-kasearch-test-py"
  },
  "language_info": {
   "codemirror_mode": {
    "name": "ipython",
    "version": 3
   },
   "file_extension": ".py",
   "mimetype": "text/x-python",
   "name": "python",
   "nbconvert_exporter": "python",
   "pygments_lexer": "ipython3",
   "version": "3.10.6"
  }
 },
 "nbformat": 4,
 "nbformat_minor": 5
}
