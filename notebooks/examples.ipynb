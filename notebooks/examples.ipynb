{
 "cells": [
  {
   "cell_type": "code",
   "execution_count": 1,
   "id": "aa193bab-5157-4d4a-a989-535bc222ca2f",
   "metadata": {},
   "outputs": [],
   "source": [
    "import os\n",
    "\n",
    "import pandas as pd\n",
    "\n",
    "from kasearch import SearchOAS, SetQueries"
   ]
  },
  {
   "cell_type": "code",
   "execution_count": 2,
   "id": "3422c094-eca4-47bb-a1a7-750daa50f10e",
   "metadata": {},
   "outputs": [],
   "source": [
    "raw_queries = [\n",
    "    'QVKLQESGAELARPGASVKLSCKASGYTFTNYWMQWVKQRPGQGLDWIGAIYPGDGNTRYTHKFKGKATLTADKSSSTAYMQLSSLASEDSGVYYCARGEGNYAWFAYWGQGTTVTVSS',\n",
    "    'EVQLQQSGTVLARPGASVKMSCEASGYTFTNYWMHWVKQRPGQGLEWIGAIYPGNSDTSYIQKFKGKAKLTAVTSTTSVYMELSSLTNEDSAVYYCTLYDGYYVFAYWGQGTLVTVSA',\n",
    "    'QVQLLESGGGLVQPGGSLRLSCAASGFTFSTAAMSWVRQAPGKGLEWVSGISGSGSSTYYADSVKGRFTISRDNSKNTLYLQMNSLRAEDTAVYYCARELSYLYSGYYFDYWGQGTLVTVSS',\n",
    "]"
   ]
  },
  {
   "cell_type": "code",
   "execution_count": 3,
   "id": "bc3153a4-41f0-4358-8283-702d6da74706",
   "metadata": {},
   "outputs": [
    {
     "data": {
      "text/plain": [
       "Query(aligned_query=array([81, 86, 75,  0, 76, 81, 69, 83, 71, 65,  0, 69, 76, 65, 82, 80, 71,\n",
       "       65, 83, 86, 75, 76, 83, 67, 75, 65, 83, 71, 89, 84, 70,  0,  0,  0,\n",
       "        0,  0,  0,  0,  0,  0, 84, 78, 89, 87, 77, 81,  0, 87, 86, 75, 81,\n",
       "        0, 82,  0, 80,  0, 71,  0, 81,  0,  0, 71,  0, 76, 68,  0, 87, 73,\n",
       "       71, 65, 73, 89, 80, 71,  0,  0,  0,  0,  0,  0,  0,  0,  0,  0,  0,\n",
       "       68, 71, 78, 84, 82, 89,  0,  0, 84,  0,  0, 72,  0,  0, 75, 70,  0,\n",
       "        0, 75,  0,  0,  0, 71, 75, 65, 84, 76, 84, 65,  0, 68,  0,  0,  0,\n",
       "       75,  0, 83,  0,  0, 83, 83,  0,  0,  0,  0, 84,  0, 65, 89, 77, 81,\n",
       "       76, 83, 83, 76, 65, 83,  0, 69, 68, 83, 71, 86, 89, 89, 67, 65, 82,\n",
       "       71, 69, 71, 78,  0,  0,  0,  0,  0,  0,  0,  0,  0,  0,  0,  0,  0,\n",
       "        0,  0,  0,  0,  0,  0,  0,  0,  0,  0,  0,  0, 89, 65, 87, 70, 65,\n",
       "       89, 87, 71,  0, 81, 71, 84, 84, 86, 84, 86, 83, 83], dtype=int8), chain='Heavy')"
      ]
     },
     "execution_count": 3,
     "metadata": {},
     "output_type": "execute_result"
    }
   ],
   "source": [
    "QueryDB = SetQueries(raw_queries, allowed_species=['Human'], n_jobs=2)\n",
    "QueryDB.queries[0]"
   ]
  },
  {
   "cell_type": "code",
   "execution_count": 4,
   "id": "23231856-1b3d-4b30-9c61-74a972fc7340",
   "metadata": {},
   "outputs": [],
   "source": [
    "DATABASE_PATH = \"/data/icarus/olsen/projects/scan_oas/reports/oas-unpaired/oas-unpaired\""
   ]
  },
  {
   "cell_type": "code",
   "execution_count": 5,
   "id": "3308d382-5c74-4368-a2f3-d02e75345358",
   "metadata": {},
   "outputs": [],
   "source": [
    "search_oas = SearchOAS(database_path=DATABASE_PATH, \n",
    "                                  chain='Heavy', \n",
    "                                  allowed_species=['Human'], \n",
    "                                  n_jobs=1)"
   ]
  },
  {
   "cell_type": "code",
   "execution_count": 6,
   "id": "009f2a34-a98c-48ba-85ed-b3d9c7f903bd",
   "metadata": {
    "tags": []
   },
   "outputs": [
    {
     "name": "stdout",
     "output_type": "stream",
     "text": [
      "3min 6s ± 0 ns per loop (mean ± std. dev. of 1 run, 1 loop each)\n"
     ]
    }
   ],
   "source": [
    "%%timeit -n 1 -r 1\n",
    "search_oas.search(QueryDB.queries[0], keep_best_n=2)"
   ]
  },
  {
   "cell_type": "code",
   "execution_count": 20,
   "id": "91dfaebc-7ac9-409e-96f4-707b70710902",
   "metadata": {},
   "outputs": [
    {
     "data": {
      "text/plain": [
       "array([ 0,  0,  0,  0,  0,  0,  0,  0,  0,  0,  0,  0,  0,  0,  0,  0, 71,\n",
       "       71, 83, 76, 82, 76, 83, 67, 65, 65, 83, 71, 70, 84, 70,  0,  0,  0,\n",
       "        0,  0,  0,  0,  0,  0, 83, 83, 89, 87, 77, 72,  0, 87, 86, 82, 81,\n",
       "        0, 65,  0, 80,  0, 71,  0, 75,  0,  0, 71,  0, 76, 86,  0, 87, 86,\n",
       "       83, 86, 73, 89, 83, 71,  0,  0,  0,  0,  0,  0,  0,  0,  0,  0,  0,\n",
       "        0, 71, 83, 84, 89, 89,  0,  0, 65,  0,  0, 68,  0,  0, 83, 86,  0,\n",
       "        0, 75,  0,  0,  0, 71, 82, 70, 84, 73, 83, 82,  0, 72,  0,  0,  0,\n",
       "       78,  0, 83,  0,  0, 75, 78,  0,  0,  0,  0, 84,  0, 76, 89, 76, 81,\n",
       "       77, 78, 83, 76, 82, 65,  0, 69, 68, 84, 65, 86, 89, 89, 67, 65, 82,\n",
       "       71, 71, 89, 70, 68,  0,  0,  0,  0,  0,  0,  0,  0,  0,  0,  0,  0,\n",
       "        0,  0,  0,  0,  0,  0,  0,  0,  0,  0,  0, 87, 70, 72, 87, 70, 68,\n",
       "       80, 87, 71,  0, 81, 71, 84, 76, 86, 84, 86, 83, 83], dtype=int8)"
      ]
     },
     "execution_count": 20,
     "metadata": {},
     "output_type": "execute_result"
    }
   ],
   "source": [
    "search_oas.current_target_numbering[0]"
   ]
  }
 ],
 "metadata": {
  "kernelspec": {
   "display_name": "oasprocess",
   "language": "python",
   "name": "oasprocess"
  },
  "language_info": {
   "codemirror_mode": {
    "name": "ipython",
    "version": 3
   },
   "file_extension": ".py",
   "mimetype": "text/x-python",
   "name": "python",
   "nbconvert_exporter": "python",
   "pygments_lexer": "ipython3",
   "version": "3.9.7"
  }
 },
 "nbformat": 4,
 "nbformat_minor": 5
}
