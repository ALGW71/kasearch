{
 "cells": [
  {
   "cell_type": "code",
   "execution_count": 1,
   "id": "aa193bab-5157-4d4a-a989-535bc222ca2f",
   "metadata": {},
   "outputs": [],
   "source": [
    "%load_ext autoreload\n",
    "%autoreload 2\n",
    "\n",
    "import os\n",
    "\n",
    "import pandas as pd\n",
    "\n",
    "from kasearch import SearchOAS, SetQueries, ExtractMetadata"
   ]
  },
  {
   "cell_type": "markdown",
   "id": "892d573e-8b1b-4fa2-8973-db4f40588292",
   "metadata": {},
   "source": [
    "## Prepare query sequence (sequence to search with)"
   ]
  },
  {
   "cell_type": "code",
   "execution_count": 2,
   "id": "3422c094-eca4-47bb-a1a7-750daa50f10e",
   "metadata": {},
   "outputs": [],
   "source": [
    "raw_queries = [\n",
    "    'QVKLQESGAELARPGASVKLSCKASGYTFTNYWMQWVKQRPGQGLDWIGAIYPGDGNTRYTHKFKGKATLTADKSSSTAYMQLSSLASEDSGVYYCARGEGNYAWFAYWGQGTTVTVSS',\n",
    "    'EVQLQQSGTVLARPGASVKMSCEASGYTFTNYWMHWVKQRPGQGLEWIGAIYPGNSDTSYIQKFKGKAKLTAVTSTTSVYMELSSLTNEDSAVYYCTLYDGYYVFAYWGQGTLVTVSA',\n",
    "    'QVQLLESGGGLVQPGGSLRLSCAASGFTFSTAAMSWVRQAPGKGLEWVSGISGSGSSTYYADSVKGRFTISRDNSKNTLYLQMNSLRAEDTAVYYCARELSYLYSGYYFDYWGQGTLVTVSS',\n",
    "]"
   ]
  },
  {
   "cell_type": "code",
   "execution_count": 7,
   "id": "bc3153a4-41f0-4358-8283-702d6da74706",
   "metadata": {},
   "outputs": [
    {
     "data": {
      "text/plain": [
       "Query(aligned_query=array([81, 86, 75,  0, 76, 81, 69, 83, 71, 65,  0, 69, 76, 65, 82, 80, 71,\n",
       "       65, 83, 86, 75, 76, 83, 67, 75, 65, 83, 71, 89, 84, 70,  0,  0,  0,\n",
       "        0,  0,  0,  0,  0,  0, 84, 78, 89, 87, 77, 81,  0, 87, 86, 75, 81,\n",
       "        0, 82,  0, 80,  0, 71,  0, 81,  0,  0, 71,  0, 76, 68,  0, 87, 73,\n",
       "       71, 65, 73, 89, 80, 71,  0,  0,  0,  0,  0,  0,  0,  0,  0,  0,  0,\n",
       "       68, 71, 78, 84, 82, 89,  0,  0, 84,  0,  0, 72,  0,  0, 75, 70,  0,\n",
       "        0, 75,  0,  0,  0, 71, 75, 65, 84, 76, 84, 65,  0, 68,  0,  0,  0,\n",
       "       75,  0, 83,  0,  0, 83, 83,  0,  0,  0,  0, 84,  0, 65, 89, 77, 81,\n",
       "       76, 83, 83, 76, 65, 83,  0, 69, 68, 83, 71, 86, 89, 89, 67, 65, 82,\n",
       "       71, 69, 71, 78,  0,  0,  0,  0,  0,  0,  0,  0,  0,  0,  0,  0,  0,\n",
       "        0,  0,  0,  0,  0,  0,  0,  0,  0,  0,  0,  0, 89, 65, 87, 70, 65,\n",
       "       89, 87, 71,  0, 81, 71, 84, 84, 86, 84, 86, 83, 83], dtype=int8), chain='Heavy')"
      ]
     },
     "execution_count": 7,
     "metadata": {},
     "output_type": "execute_result"
    }
   ],
   "source": [
    "QueryDB = SetQueries(raw_queries, n_jobs=2)\n",
    "QueryDB.queries[0]"
   ]
  },
  {
   "cell_type": "markdown",
   "id": "45f8cd27-90b7-48af-83ed-06412c802d11",
   "metadata": {},
   "source": [
    "## Initiate search class and run the search"
   ]
  },
  {
   "cell_type": "code",
   "execution_count": 4,
   "id": "23231856-1b3d-4b30-9c61-74a972fc7340",
   "metadata": {},
   "outputs": [],
   "source": [
    "DATABASE_PATH = \"../data/test_data/\""
   ]
  },
  {
   "cell_type": "code",
   "execution_count": 5,
   "id": "3308d382-5c74-4368-a2f3-d02e75345358",
   "metadata": {},
   "outputs": [],
   "source": [
    "search_oas = SearchOAS(database_path=DATABASE_PATH, \n",
    "                       allowed_chain='Heavy', \n",
    "                       n_jobs=2\n",
    "                      )"
   ]
  },
  {
   "cell_type": "code",
   "execution_count": 6,
   "id": "658152f0-7ce1-4f62-a116-891e1658551d",
   "metadata": {},
   "outputs": [
    {
     "name": "stdout",
     "output_type": "stream",
     "text": [
      "2min 5s ± 0 ns per loop (mean ± std. dev. of 1 run, 1 loop each)\n"
     ]
    }
   ],
   "source": [
    "%%timeit -n 1 -r 1\n",
    "search_oas.search(QueryDB.queries[0], keep_best_n=2)"
   ]
  },
  {
   "cell_type": "code",
   "execution_count": 6,
   "id": "009f2a34-a98c-48ba-85ed-b3d9c7f903bd",
   "metadata": {
    "tags": []
   },
   "outputs": [
    {
     "name": "stdout",
     "output_type": "stream",
     "text": [
      "3min 6s ± 0 ns per loop (mean ± std. dev. of 1 run, 1 loop each)\n"
     ]
    }
   ],
   "source": [
    "%%timeit -n 1 -r 1\n",
    "search_oas.search(QueryDB.queries[0], keep_best_n=2)"
   ]
  },
  {
   "cell_type": "code",
   "execution_count": 7,
   "id": "91dfaebc-7ac9-409e-96f4-707b70710902",
   "metadata": {},
   "outputs": [
    {
     "data": {
      "text/plain": [
       "array([[0.79510413, 0.78571429, 0.83333333],\n",
       "       [0.79161837, 0.78571429, 0.78409091]])"
      ]
     },
     "execution_count": 7,
     "metadata": {},
     "output_type": "execute_result"
    }
   ],
   "source": [
    "search_oas.current_best_identities"
   ]
  },
  {
   "cell_type": "markdown",
   "id": "55cd9816-07a4-4ad1-8cba-19e830d70fd8",
   "metadata": {},
   "source": [
    "## Extract the metadata from matched sequences"
   ]
  },
  {
   "cell_type": "code",
   "execution_count": 4,
   "id": "c5498bf7-7368-4bd6-9c95-8e29e81184db",
   "metadata": {},
   "outputs": [],
   "source": [
    "MetaDB = ExtractMetadata()"
   ]
  },
  {
   "cell_type": "code",
   "execution_count": 5,
   "id": "2d58a3a9-ff0a-4359-9738-a89596ac1781",
   "metadata": {},
   "outputs": [
    {
     "data": {
      "text/html": [
       "<div>\n",
       "<style scoped>\n",
       "    .dataframe tbody tr th:only-of-type {\n",
       "        vertical-align: middle;\n",
       "    }\n",
       "\n",
       "    .dataframe tbody tr th {\n",
       "        vertical-align: top;\n",
       "    }\n",
       "\n",
       "    .dataframe thead th {\n",
       "        text-align: right;\n",
       "    }\n",
       "</style>\n",
       "<table border=\"1\" class=\"dataframe\">\n",
       "  <thead>\n",
       "    <tr style=\"text-align: right;\">\n",
       "      <th></th>\n",
       "      <th>sequence</th>\n",
       "      <th>locus</th>\n",
       "      <th>stop_codon</th>\n",
       "      <th>vj_in_frame</th>\n",
       "      <th>v_frameshift</th>\n",
       "      <th>productive</th>\n",
       "      <th>rev_comp</th>\n",
       "      <th>complete_vdj</th>\n",
       "      <th>v_call</th>\n",
       "      <th>d_call</th>\n",
       "      <th>...</th>\n",
       "      <th>cdr3_start</th>\n",
       "      <th>cdr3_end</th>\n",
       "      <th>np1</th>\n",
       "      <th>np1_length</th>\n",
       "      <th>np2</th>\n",
       "      <th>np2_length</th>\n",
       "      <th>c_region</th>\n",
       "      <th>Redundancy</th>\n",
       "      <th>ANARCI_numbering</th>\n",
       "      <th>ANARCI_status</th>\n",
       "    </tr>\n",
       "  </thead>\n",
       "  <tbody>\n",
       "    <tr>\n",
       "      <th>0</th>\n",
       "      <td>ATGTCCCTCCTTTAATTCCCCAGGTTCAGCTGCAGCAGTCAGGACC...</td>\n",
       "      <td>H</td>\n",
       "      <td>F</td>\n",
       "      <td>T</td>\n",
       "      <td>F</td>\n",
       "      <td>T</td>\n",
       "      <td>F</td>\n",
       "      <td>T</td>\n",
       "      <td>IGHV2-2*02</td>\n",
       "      <td>NaN</td>\n",
       "      <td>...</td>\n",
       "      <td>306.0</td>\n",
       "      <td>329.0</td>\n",
       "      <td>GGGAAG</td>\n",
       "      <td>6.0</td>\n",
       "      <td>NaN</td>\n",
       "      <td>NaN</td>\n",
       "      <td>AGAGTCAGTCCTTCCCAAATGTCTTCCCCCTCGCTCTCTCTCTCTC...</td>\n",
       "      <td>1</td>\n",
       "      <td>{'fwh1': {'1 ': 'Q', '2 ': 'V', '3 ': 'Q', '4 ...</td>\n",
       "      <td>|Deletions: 10, 73||||</td>\n",
       "    </tr>\n",
       "  </tbody>\n",
       "</table>\n",
       "<p>1 rows × 97 columns</p>\n",
       "</div>"
      ],
      "text/plain": [
       "                                            sequence locus stop_codon  \\\n",
       "0  ATGTCCCTCCTTTAATTCCCCAGGTTCAGCTGCAGCAGTCAGGACC...     H          F   \n",
       "\n",
       "  vj_in_frame v_frameshift productive rev_comp complete_vdj      v_call  \\\n",
       "0           T            F          T        F            T  IGHV2-2*02   \n",
       "\n",
       "   d_call  ... cdr3_start cdr3_end     np1 np1_length np2  np2_length  \\\n",
       "0     NaN  ...      306.0    329.0  GGGAAG        6.0 NaN         NaN   \n",
       "\n",
       "                                            c_region  Redundancy  \\\n",
       "0  AGAGTCAGTCCTTCCCAAATGTCTTCCCCCTCGCTCTCTCTCTCTC...           1   \n",
       "\n",
       "                                    ANARCI_numbering           ANARCI_status  \n",
       "0  {'fwh1': {'1 ': 'Q', '2 ': 'V', '3 ': 'Q', '4 ...  |Deletions: 10, 73||||  \n",
       "\n",
       "[1 rows x 97 columns]"
      ]
     },
     "execution_count": 5,
     "metadata": {},
     "output_type": "execute_result"
    }
   ],
   "source": [
    "MetaDB.get_meta(7104, 10)"
   ]
  }
 ],
 "metadata": {
  "kernelspec": {
   "display_name": "kasearch",
   "language": "python",
   "name": "kasearch"
  },
  "language_info": {
   "codemirror_mode": {
    "name": "ipython",
    "version": 3
   },
   "file_extension": ".py",
   "mimetype": "text/x-python",
   "name": "python",
   "nbconvert_exporter": "python",
   "pygments_lexer": "ipython3",
   "version": "3.8.13"
  }
 },
 "nbformat": 4,
 "nbformat_minor": 5
}
