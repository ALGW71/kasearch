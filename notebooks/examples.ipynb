{
 "cells": [
  {
   "cell_type": "code",
   "execution_count": 1,
   "id": "aa193bab-5157-4d4a-a989-535bc222ca2f",
   "metadata": {},
   "outputs": [],
   "source": [
    "%load_ext autoreload\n",
    "%autoreload 2\n",
    "\n",
    "from kasearch import AlignSequences, SearchDB, ExtractMetadata, PrepareDB"
   ]
  },
  {
   "cell_type": "markdown",
   "id": "892d573e-8b1b-4fa2-8973-db4f40588292",
   "metadata": {},
   "source": [
    "## Prepare query sequence (sequence to search with)"
   ]
  },
  {
   "cell_type": "code",
   "execution_count": 2,
   "id": "3422c094-eca4-47bb-a1a7-750daa50f10e",
   "metadata": {},
   "outputs": [],
   "source": [
    "raw_queries = [\n",
    "    'QVKLQESGAELARPGASVKLSCKASGYTFTNYWMQWVKQRPGQGLDWIGAIYPGDGNTRYTHKFKGKATLTADKSSSTAYMQLSSLASEDSGVYYCARGEGNYAWFAYWGQGTTVTVSS',\n",
    "    'EVQLQQSGTVLARPGASVKMSCEASGYTFTNYWMHWVKQRPGQGLEWIGAIYPGNSDTSYIQKFKGKAKLTAVTSTTSVYMELSSLTNEDSAVYYCTLYDGYYVFAYWGQGTLVTVSA',\n",
    "    'QVQLVQSGPEVKKPGTSVKVSCKASGFTFTTSAVQWVRQARGQRLEWIGWIVVGSGNTNYAQKFQERVTITRDMSTTTAYMELSSLRSEDTAVYFCAAPHCNSTSCYDAFDIWGQGTMVTVSS',\n",
    "]"
   ]
  },
  {
   "cell_type": "code",
   "execution_count": 3,
   "id": "bc3153a4-41f0-4358-8283-702d6da74706",
   "metadata": {
    "tags": []
   },
   "outputs": [
    {
     "data": {
      "text/plain": [
       "array([[81, 86, 75,  0, 76, 81, 69, 83, 71, 65,  0, 69, 76, 65, 82, 80,\n",
       "        71, 65, 83, 86, 75, 76, 83, 67, 75, 65, 83, 71, 89, 84, 70,  0,\n",
       "         0,  0,  0,  0,  0,  0,  0,  0, 84, 78, 89, 87, 77, 81,  0, 87,\n",
       "        86, 75, 81,  0, 82,  0, 80,  0, 71,  0, 81,  0,  0, 71,  0, 76,\n",
       "        68,  0, 87, 73, 71, 65, 73, 89, 80, 71,  0,  0,  0,  0,  0,  0,\n",
       "         0,  0,  0,  0,  0, 68, 71, 78, 84, 82, 89,  0,  0, 84,  0,  0,\n",
       "        72,  0,  0, 75, 70,  0,  0, 75,  0,  0,  0, 71, 75, 65, 84, 76,\n",
       "        84, 65,  0, 68,  0,  0,  0, 75,  0, 83,  0,  0, 83, 83,  0,  0,\n",
       "         0,  0, 84,  0, 65, 89, 77, 81, 76, 83, 83, 76, 65, 83,  0, 69,\n",
       "        68, 83, 71, 86, 89, 89, 67, 65, 82, 71, 69, 71, 78,  0,  0,  0,\n",
       "         0,  0,  0,  0,  0,  0,  0,  0,  0,  0,  0,  0,  0,  0,  0,  0,\n",
       "         0,  0,  0,  0,  0,  0, 89, 65, 87, 70, 65, 89, 87, 71,  0, 81,\n",
       "        71, 84, 84, 86, 84, 86, 83, 83],\n",
       "       [69, 86, 81,  0, 76, 81, 81, 83, 71, 84,  0, 86, 76, 65, 82, 80,\n",
       "        71, 65, 83, 86, 75, 77, 83, 67, 69, 65, 83, 71, 89, 84, 70,  0,\n",
       "         0,  0,  0,  0,  0,  0,  0,  0, 84, 78, 89, 87, 77, 72,  0, 87,\n",
       "        86, 75, 81,  0, 82,  0, 80,  0, 71,  0, 81,  0,  0, 71,  0, 76,\n",
       "        69,  0, 87, 73, 71, 65, 73, 89, 80, 71,  0,  0,  0,  0,  0,  0,\n",
       "         0,  0,  0,  0,  0, 78, 83, 68, 84, 83, 89,  0,  0, 73,  0,  0,\n",
       "        81,  0,  0, 75, 70,  0,  0, 75,  0,  0,  0, 71, 75, 65, 75, 76,\n",
       "        84, 65,  0, 86,  0,  0,  0, 84,  0, 83,  0,  0, 84, 84,  0,  0,\n",
       "         0,  0, 83,  0, 86, 89, 77, 69, 76, 83, 83, 76, 84, 78,  0, 69,\n",
       "        68, 83, 65, 86, 89, 89, 67, 84, 76, 89, 68, 71, 89,  0,  0,  0,\n",
       "         0,  0,  0,  0,  0,  0,  0,  0,  0,  0,  0,  0,  0,  0,  0,  0,\n",
       "         0,  0,  0,  0,  0,  0,  0, 89, 86, 70, 65, 89, 87, 71,  0, 81,\n",
       "        71, 84, 76, 86, 84, 86, 83, 65],\n",
       "       [81, 86, 81,  0, 76, 86, 81, 83, 71, 80,  0, 69, 86, 75, 75, 80,\n",
       "        71, 84, 83, 86, 75, 86, 83, 67, 75, 65, 83, 71, 70, 84, 70,  0,\n",
       "         0,  0,  0,  0,  0,  0,  0,  0, 84, 84, 83, 65, 86, 81,  0, 87,\n",
       "        86, 82, 81,  0, 65,  0, 82,  0, 71,  0, 81,  0,  0, 82,  0, 76,\n",
       "        69,  0, 87, 73, 71, 87, 73, 86, 86, 71,  0,  0,  0,  0,  0,  0,\n",
       "         0,  0,  0,  0,  0, 83, 71, 78, 84, 78, 89,  0,  0, 65,  0,  0,\n",
       "        81,  0,  0, 75, 70,  0,  0, 81,  0,  0,  0, 69, 82, 86, 84, 73,\n",
       "        84, 82,  0, 68,  0,  0,  0, 77,  0, 83,  0,  0, 84, 84,  0,  0,\n",
       "         0,  0, 84,  0, 65, 89, 77, 69, 76, 83, 83, 76, 82, 83,  0, 69,\n",
       "        68, 84, 65, 86, 89, 70, 67, 65, 65, 80, 72, 67, 78, 83, 84,  0,\n",
       "         0,  0,  0,  0,  0,  0,  0,  0,  0,  0,  0,  0,  0,  0,  0,  0,\n",
       "         0,  0,  0,  0, 83, 67, 89, 68, 65, 70, 68, 73, 87, 71,  0, 81,\n",
       "        71, 84, 77, 86, 84, 86, 83, 83]], dtype=int8)"
      ]
     },
     "execution_count": 3,
     "metadata": {},
     "output_type": "execute_result"
    }
   ],
   "source": [
    "query_db = AlignSequences(raw_queries, # Sequences as strings to align.\n",
    "                          n_jobs=1     # Allocated number for jobs/threads for the search.\n",
    "                         )\n",
    "query_db.db.aligned_seqs"
   ]
  },
  {
   "cell_type": "markdown",
   "id": "45f8cd27-90b7-48af-83ed-06412c802d11",
   "metadata": {},
   "source": [
    "--------------\n",
    "## Initiate search class \n",
    "\n",
    "- Default will download a prepared version of OAS to search against\n",
    "- Alternatively, you can give it the path for a custom database to search against. (See below for how to create a custom database)."
   ]
  },
  {
   "cell_type": "code",
   "execution_count": 4,
   "id": "23231856-1b3d-4b30-9c61-74a972fc7340",
   "metadata": {},
   "outputs": [],
   "source": [
    "DB_PATH = \"/data/icarus/olsen/projects/ka-search-project/reports/oasdb/oasdb_20220611/\"\n",
    "#DB_PATH = \"../data/db-example\"\n",
    "\n",
    "oasdb = SearchDB(database_path=DB_PATH,       # Path to your database. Default will be to download a prepared version of OAS.\n",
    "                 allowed_chain='Heavy',       # Search against a specific chain. Default is any chain.\n",
    "                 allowed_species='Any',       # Search against a specific species. Default is any species.\n",
    "                 n_jobs=5                     # Allocated number for jobs/threads for the search.\n",
    "                )"
   ]
  },
  {
   "cell_type": "markdown",
   "id": "4792402c-509e-42da-983b-cde0f3548b0b",
   "metadata": {},
   "source": [
    "-----------\n",
    "## Run search\n",
    "\n",
    "A search against all of OAS takes ~22min for each sequence.\n"
   ]
  },
  {
   "cell_type": "code",
   "execution_count": 5,
   "id": "af64af6a-28fe-478d-be4d-48f4c9b31dbf",
   "metadata": {
    "tags": []
   },
   "outputs": [
    {
     "name": "stdout",
     "output_type": "stream",
     "text": [
      "CPU times: user 1h 32min 21s, sys: 6min 12s, total: 1h 38min 33s\n",
      "Wall time: 23min 39s\n"
     ]
    }
   ],
   "source": [
    "%%time \n",
    "oasdb.search(query_db.db.aligned_seqs[2], # Input can only be a single aligned sequence at a time.\n",
    "             keep_best_n=1000,               # You can define how many most similar sequences to return\n",
    "             reset_best=True              # In cases where you want to search with the same sequence against multiple databases, you might want to not reset_best. (True is default)\n",
    "            )"
   ]
  },
  {
   "cell_type": "markdown",
   "id": "a8f03f7f-3660-4c50-bf6a-7815ecb5966e",
   "metadata": {},
   "source": [
    "### Get N best identities\n",
    "\n",
    "Identities of the most similar sequence (1st column), CDRs (2nd column) and CDR3 (3rd column) in all of OAS, can be fetched from the object with the bellow command."
   ]
  },
  {
   "cell_type": "code",
   "execution_count": 6,
   "id": "115a3e0f-102c-48c8-952c-3827b1572d89",
   "metadata": {
    "tags": []
   },
   "outputs": [
    {
     "data": {
      "text/plain": [
       "array([[0.93495935, 0.96875   , 1.        ],\n",
       "       [0.9268293 , 0.96875   , 1.        ],\n",
       "       [0.9255785 , 0.96875   , 1.        ],\n",
       "       ...,\n",
       "       [0.90495384, 0.875     , 0.875     ],\n",
       "       [0.90495384, 0.875     , 0.875     ],\n",
       "       [0.90495384, 0.875     , 0.875     ]], dtype=float32)"
      ]
     },
     "execution_count": 6,
     "metadata": {},
     "output_type": "execute_result"
    }
   ],
   "source": [
    "oasdb.current_best_identities"
   ]
  },
  {
   "cell_type": "markdown",
   "id": "37afb021-1dc9-4145-9775-33691fa3268b",
   "metadata": {},
   "source": [
    "### Get ID's of sequences with the N best identities\n",
    "\n",
    "ID's of the most similar sequence (1st column), CDRs (2nd column) and CDR3 (3rd column) in all of OAS, can be fetched from the object with the bellow command. \n",
    "\n",
    "With ExtractMetadata, these ID's can be used to extract the sequence and its meta data (species, isotype, whole sequence etc.)."
   ]
  },
  {
   "cell_type": "code",
   "execution_count": 7,
   "id": "d2a2dfbc-f58e-415d-95ae-1191e8d7b2e1",
   "metadata": {
    "collapsed": true,
    "jupyter": {
     "outputs_hidden": true
    },
    "tags": []
   },
   "outputs": [
    {
     "data": {
      "text/plain": [
       "array([[[  2938,      4],\n",
       "        [  2957, 172944],\n",
       "        [  2924, 168790]],\n",
       "\n",
       "       [[  2928,     36],\n",
       "        [  2957,  79578],\n",
       "        [  2924, 136494]],\n",
       "\n",
       "       [[  2928,     55],\n",
       "        [  6942,   3044],\n",
       "        [  2924,  53063]],\n",
       "\n",
       "       [[  2928,     41],\n",
       "        [  2924, 105998],\n",
       "        [  2924, 147799]],\n",
       "\n",
       "       [[  2928,     51],\n",
       "        [  6942,  15432],\n",
       "        [  2924,  59586]],\n",
       "\n",
       "       [[  2928,     34],\n",
       "        [  6942,   4113],\n",
       "        [  2924, 134754]],\n",
       "\n",
       "       [[  2916,    300],\n",
       "        [  2957, 141349],\n",
       "        [  2924,  78300]],\n",
       "\n",
       "       [[  2902,      0],\n",
       "        [  2940,  72010],\n",
       "        [  2924, 115282]],\n",
       "\n",
       "       [[  2916,    101],\n",
       "        [  2940, 187233],\n",
       "        [  2924,  54467]],\n",
       "\n",
       "       [[  2928,     44],\n",
       "        [  2957,   5350],\n",
       "        [  2924, 213888]]], dtype=int32)"
      ]
     },
     "execution_count": 7,
     "metadata": {},
     "output_type": "execute_result"
    }
   ],
   "source": [
    "oasdb.current_best_ids"
   ]
  },
  {
   "cell_type": "markdown",
   "id": "55cd9816-07a4-4ad1-8cba-19e830d70fd8",
   "metadata": {},
   "source": [
    "---------\n",
    "## Extract the meta data from matched sequences\n",
    "\n",
    "\n",
    "The meta data for the N best of the different regions, can be extracted with the following indexes.\n",
    "- 0: whole sequence\n",
    "- 1: CDRs\n",
    "- 2: CDR3\n",
    "\n",
    "e.g. \"oasdb.current_best_ids\\[:,0\\]\\\" returns meta data for the N best whole sequence identities.\n",
    "\n",
    "NB: The column \"sequence_alignment_aa\" holds the antibody sequence."
   ]
  },
  {
   "cell_type": "code",
   "execution_count": 14,
   "id": "c5498bf7-7368-4bd6-9c95-8e29e81184db",
   "metadata": {},
   "outputs": [],
   "source": [
    "meta_db = ExtractMetadata()"
   ]
  },
  {
   "cell_type": "code",
   "execution_count": 15,
   "id": "2d58a3a9-ff0a-4359-9738-a89596ac1781",
   "metadata": {
    "tags": []
   },
   "outputs": [
    {
     "ename": "KeyError",
     "evalue": "12645",
     "output_type": "error",
     "traceback": [
      "\u001b[0;31m---------------------------------------------------------------------------\u001b[0m",
      "\u001b[0;31mKeyError\u001b[0m                                  Traceback (most recent call last)",
      "Input \u001b[0;32mIn [15]\u001b[0m, in \u001b[0;36m<cell line: 1>\u001b[0;34m()\u001b[0m\n\u001b[0;32m----> 1\u001b[0m n_best_sequences_whole \u001b[38;5;241m=\u001b[39m \u001b[43mmeta_db\u001b[49m\u001b[38;5;241;43m.\u001b[39;49m\u001b[43mget_meta\u001b[49m\u001b[43m(\u001b[49m\u001b[43moasdb\u001b[49m\u001b[38;5;241;43m.\u001b[39;49m\u001b[43mcurrent_best_ids\u001b[49m\u001b[43m[\u001b[49m\u001b[43m:\u001b[49m\u001b[43m,\u001b[49m\u001b[38;5;241;43m0\u001b[39;49m\u001b[43m]\u001b[49m\u001b[43m)\u001b[49m\n\u001b[1;32m      2\u001b[0m n_best_sequences_cdrs \u001b[38;5;241m=\u001b[39m meta_db\u001b[38;5;241m.\u001b[39mget_meta(oasdb\u001b[38;5;241m.\u001b[39mcurrent_best_ids[:,\u001b[38;5;241m1\u001b[39m])\n\u001b[1;32m      3\u001b[0m n_best_sequences_cdr3 \u001b[38;5;241m=\u001b[39m meta_db\u001b[38;5;241m.\u001b[39mget_meta(oasdb\u001b[38;5;241m.\u001b[39mcurrent_best_ids[:,\u001b[38;5;241m2\u001b[39m])\n",
      "File \u001b[0;32m/data/icarus/olsen/projects/ka-search-project/pkg/kasearch/kasearch/meta_extract.py:37\u001b[0m, in \u001b[0;36mExtractMetadata.get_meta\u001b[0;34m(self, idxs, n_jobs)\u001b[0m\n\u001b[1;32m     34\u001b[0m n_jobs \u001b[38;5;241m=\u001b[39m \u001b[38;5;28mlen\u001b[39m(idxs) \u001b[38;5;28;01mif\u001b[39;00m \u001b[38;5;28mlen\u001b[39m(idxs) \u001b[38;5;241m<\u001b[39m  n_jobs \u001b[38;5;28;01melse\u001b[39;00m n_jobs\n\u001b[1;32m     35\u001b[0m chunksize\u001b[38;5;241m=\u001b[39m\u001b[38;5;28mlen\u001b[39m(idxs) \u001b[38;5;241m/\u001b[39m\u001b[38;5;241m/\u001b[39m n_jobs\n\u001b[0;32m---> 37\u001b[0m \u001b[38;5;28;01mreturn\u001b[39;00m pd\u001b[38;5;241m.\u001b[39mconcat(\u001b[43mParallel\u001b[49m\u001b[43m(\u001b[49m\u001b[43mn_jobs\u001b[49m\u001b[38;5;241;43m=\u001b[39;49m\u001b[43mn_jobs\u001b[49m\u001b[43m)\u001b[49m\u001b[43m(\u001b[49m\u001b[43mdelayed\u001b[49m\u001b[43m(\u001b[49m\u001b[38;5;28;43mself\u001b[39;49m\u001b[38;5;241;43m.\u001b[39;49m\u001b[43m_get_single_meta\u001b[49m\u001b[43m)\u001b[49m\u001b[43m(\u001b[49m\u001b[43midx\u001b[49m\u001b[43m)\u001b[49m\u001b[43m \u001b[49m\u001b[38;5;28;43;01mfor\u001b[39;49;00m\u001b[43m \u001b[49m\u001b[43midx\u001b[49m\u001b[43m \u001b[49m\u001b[38;5;129;43;01min\u001b[39;49;00m\u001b[43m \u001b[49m\u001b[43midxs\u001b[49m\u001b[43m)\u001b[49m, axis\u001b[38;5;241m=\u001b[39m\u001b[38;5;241m1\u001b[39m)\u001b[38;5;241m.\u001b[39mT\n",
      "File \u001b[0;32m/data/icarus/olsen/miniconda3/envs/oas-update/lib/python3.10/site-packages/joblib/parallel.py:1046\u001b[0m, in \u001b[0;36mParallel.__call__\u001b[0;34m(self, iterable)\u001b[0m\n\u001b[1;32m   1043\u001b[0m \u001b[38;5;28;01mif\u001b[39;00m \u001b[38;5;28mself\u001b[39m\u001b[38;5;241m.\u001b[39mdispatch_one_batch(iterator):\n\u001b[1;32m   1044\u001b[0m     \u001b[38;5;28mself\u001b[39m\u001b[38;5;241m.\u001b[39m_iterating \u001b[38;5;241m=\u001b[39m \u001b[38;5;28mself\u001b[39m\u001b[38;5;241m.\u001b[39m_original_iterator \u001b[38;5;129;01mis\u001b[39;00m \u001b[38;5;129;01mnot\u001b[39;00m \u001b[38;5;28;01mNone\u001b[39;00m\n\u001b[0;32m-> 1046\u001b[0m \u001b[38;5;28;01mwhile\u001b[39;00m \u001b[38;5;28;43mself\u001b[39;49m\u001b[38;5;241;43m.\u001b[39;49m\u001b[43mdispatch_one_batch\u001b[49m\u001b[43m(\u001b[49m\u001b[43miterator\u001b[49m\u001b[43m)\u001b[49m:\n\u001b[1;32m   1047\u001b[0m     \u001b[38;5;28;01mpass\u001b[39;00m\n\u001b[1;32m   1049\u001b[0m \u001b[38;5;28;01mif\u001b[39;00m pre_dispatch \u001b[38;5;241m==\u001b[39m \u001b[38;5;124m\"\u001b[39m\u001b[38;5;124mall\u001b[39m\u001b[38;5;124m\"\u001b[39m \u001b[38;5;129;01mor\u001b[39;00m n_jobs \u001b[38;5;241m==\u001b[39m \u001b[38;5;241m1\u001b[39m:\n\u001b[1;32m   1050\u001b[0m     \u001b[38;5;66;03m# The iterable was consumed all at once by the above for loop.\u001b[39;00m\n\u001b[1;32m   1051\u001b[0m     \u001b[38;5;66;03m# No need to wait for async callbacks to trigger to\u001b[39;00m\n\u001b[1;32m   1052\u001b[0m     \u001b[38;5;66;03m# consumption.\u001b[39;00m\n",
      "File \u001b[0;32m/data/icarus/olsen/miniconda3/envs/oas-update/lib/python3.10/site-packages/joblib/parallel.py:861\u001b[0m, in \u001b[0;36mParallel.dispatch_one_batch\u001b[0;34m(self, iterator)\u001b[0m\n\u001b[1;32m    859\u001b[0m     \u001b[38;5;28;01mreturn\u001b[39;00m \u001b[38;5;28;01mFalse\u001b[39;00m\n\u001b[1;32m    860\u001b[0m \u001b[38;5;28;01melse\u001b[39;00m:\n\u001b[0;32m--> 861\u001b[0m     \u001b[38;5;28;43mself\u001b[39;49m\u001b[38;5;241;43m.\u001b[39;49m\u001b[43m_dispatch\u001b[49m\u001b[43m(\u001b[49m\u001b[43mtasks\u001b[49m\u001b[43m)\u001b[49m\n\u001b[1;32m    862\u001b[0m     \u001b[38;5;28;01mreturn\u001b[39;00m \u001b[38;5;28;01mTrue\u001b[39;00m\n",
      "File \u001b[0;32m/data/icarus/olsen/miniconda3/envs/oas-update/lib/python3.10/site-packages/joblib/parallel.py:779\u001b[0m, in \u001b[0;36mParallel._dispatch\u001b[0;34m(self, batch)\u001b[0m\n\u001b[1;32m    777\u001b[0m \u001b[38;5;28;01mwith\u001b[39;00m \u001b[38;5;28mself\u001b[39m\u001b[38;5;241m.\u001b[39m_lock:\n\u001b[1;32m    778\u001b[0m     job_idx \u001b[38;5;241m=\u001b[39m \u001b[38;5;28mlen\u001b[39m(\u001b[38;5;28mself\u001b[39m\u001b[38;5;241m.\u001b[39m_jobs)\n\u001b[0;32m--> 779\u001b[0m     job \u001b[38;5;241m=\u001b[39m \u001b[38;5;28;43mself\u001b[39;49m\u001b[38;5;241;43m.\u001b[39;49m\u001b[43m_backend\u001b[49m\u001b[38;5;241;43m.\u001b[39;49m\u001b[43mapply_async\u001b[49m\u001b[43m(\u001b[49m\u001b[43mbatch\u001b[49m\u001b[43m,\u001b[49m\u001b[43m \u001b[49m\u001b[43mcallback\u001b[49m\u001b[38;5;241;43m=\u001b[39;49m\u001b[43mcb\u001b[49m\u001b[43m)\u001b[49m\n\u001b[1;32m    780\u001b[0m     \u001b[38;5;66;03m# A job can complete so quickly than its callback is\u001b[39;00m\n\u001b[1;32m    781\u001b[0m     \u001b[38;5;66;03m# called before we get here, causing self._jobs to\u001b[39;00m\n\u001b[1;32m    782\u001b[0m     \u001b[38;5;66;03m# grow. To ensure correct results ordering, .insert is\u001b[39;00m\n\u001b[1;32m    783\u001b[0m     \u001b[38;5;66;03m# used (rather than .append) in the following line\u001b[39;00m\n\u001b[1;32m    784\u001b[0m     \u001b[38;5;28mself\u001b[39m\u001b[38;5;241m.\u001b[39m_jobs\u001b[38;5;241m.\u001b[39minsert(job_idx, job)\n",
      "File \u001b[0;32m/data/icarus/olsen/miniconda3/envs/oas-update/lib/python3.10/site-packages/joblib/_parallel_backends.py:208\u001b[0m, in \u001b[0;36mSequentialBackend.apply_async\u001b[0;34m(self, func, callback)\u001b[0m\n\u001b[1;32m    206\u001b[0m \u001b[38;5;28;01mdef\u001b[39;00m \u001b[38;5;21mapply_async\u001b[39m(\u001b[38;5;28mself\u001b[39m, func, callback\u001b[38;5;241m=\u001b[39m\u001b[38;5;28;01mNone\u001b[39;00m):\n\u001b[1;32m    207\u001b[0m     \u001b[38;5;124;03m\"\"\"Schedule a func to be run\"\"\"\u001b[39;00m\n\u001b[0;32m--> 208\u001b[0m     result \u001b[38;5;241m=\u001b[39m \u001b[43mImmediateResult\u001b[49m\u001b[43m(\u001b[49m\u001b[43mfunc\u001b[49m\u001b[43m)\u001b[49m\n\u001b[1;32m    209\u001b[0m     \u001b[38;5;28;01mif\u001b[39;00m callback:\n\u001b[1;32m    210\u001b[0m         callback(result)\n",
      "File \u001b[0;32m/data/icarus/olsen/miniconda3/envs/oas-update/lib/python3.10/site-packages/joblib/_parallel_backends.py:572\u001b[0m, in \u001b[0;36mImmediateResult.__init__\u001b[0;34m(self, batch)\u001b[0m\n\u001b[1;32m    569\u001b[0m \u001b[38;5;28;01mdef\u001b[39;00m \u001b[38;5;21m__init__\u001b[39m(\u001b[38;5;28mself\u001b[39m, batch):\n\u001b[1;32m    570\u001b[0m     \u001b[38;5;66;03m# Don't delay the application, to avoid keeping the input\u001b[39;00m\n\u001b[1;32m    571\u001b[0m     \u001b[38;5;66;03m# arguments in memory\u001b[39;00m\n\u001b[0;32m--> 572\u001b[0m     \u001b[38;5;28mself\u001b[39m\u001b[38;5;241m.\u001b[39mresults \u001b[38;5;241m=\u001b[39m \u001b[43mbatch\u001b[49m\u001b[43m(\u001b[49m\u001b[43m)\u001b[49m\n",
      "File \u001b[0;32m/data/icarus/olsen/miniconda3/envs/oas-update/lib/python3.10/site-packages/joblib/parallel.py:262\u001b[0m, in \u001b[0;36mBatchedCalls.__call__\u001b[0;34m(self)\u001b[0m\n\u001b[1;32m    258\u001b[0m \u001b[38;5;28;01mdef\u001b[39;00m \u001b[38;5;21m__call__\u001b[39m(\u001b[38;5;28mself\u001b[39m):\n\u001b[1;32m    259\u001b[0m     \u001b[38;5;66;03m# Set the default nested backend to self._backend but do not set the\u001b[39;00m\n\u001b[1;32m    260\u001b[0m     \u001b[38;5;66;03m# change the default number of processes to -1\u001b[39;00m\n\u001b[1;32m    261\u001b[0m     \u001b[38;5;28;01mwith\u001b[39;00m parallel_backend(\u001b[38;5;28mself\u001b[39m\u001b[38;5;241m.\u001b[39m_backend, n_jobs\u001b[38;5;241m=\u001b[39m\u001b[38;5;28mself\u001b[39m\u001b[38;5;241m.\u001b[39m_n_jobs):\n\u001b[0;32m--> 262\u001b[0m         \u001b[38;5;28;01mreturn\u001b[39;00m [func(\u001b[38;5;241m*\u001b[39margs, \u001b[38;5;241m*\u001b[39m\u001b[38;5;241m*\u001b[39mkwargs)\n\u001b[1;32m    263\u001b[0m                 \u001b[38;5;28;01mfor\u001b[39;00m func, args, kwargs \u001b[38;5;129;01min\u001b[39;00m \u001b[38;5;28mself\u001b[39m\u001b[38;5;241m.\u001b[39mitems]\n",
      "File \u001b[0;32m/data/icarus/olsen/miniconda3/envs/oas-update/lib/python3.10/site-packages/joblib/parallel.py:262\u001b[0m, in \u001b[0;36m<listcomp>\u001b[0;34m(.0)\u001b[0m\n\u001b[1;32m    258\u001b[0m \u001b[38;5;28;01mdef\u001b[39;00m \u001b[38;5;21m__call__\u001b[39m(\u001b[38;5;28mself\u001b[39m):\n\u001b[1;32m    259\u001b[0m     \u001b[38;5;66;03m# Set the default nested backend to self._backend but do not set the\u001b[39;00m\n\u001b[1;32m    260\u001b[0m     \u001b[38;5;66;03m# change the default number of processes to -1\u001b[39;00m\n\u001b[1;32m    261\u001b[0m     \u001b[38;5;28;01mwith\u001b[39;00m parallel_backend(\u001b[38;5;28mself\u001b[39m\u001b[38;5;241m.\u001b[39m_backend, n_jobs\u001b[38;5;241m=\u001b[39m\u001b[38;5;28mself\u001b[39m\u001b[38;5;241m.\u001b[39m_n_jobs):\n\u001b[0;32m--> 262\u001b[0m         \u001b[38;5;28;01mreturn\u001b[39;00m [\u001b[43mfunc\u001b[49m\u001b[43m(\u001b[49m\u001b[38;5;241;43m*\u001b[39;49m\u001b[43margs\u001b[49m\u001b[43m,\u001b[49m\u001b[43m \u001b[49m\u001b[38;5;241;43m*\u001b[39;49m\u001b[38;5;241;43m*\u001b[39;49m\u001b[43mkwargs\u001b[49m\u001b[43m)\u001b[49m\n\u001b[1;32m    263\u001b[0m                 \u001b[38;5;28;01mfor\u001b[39;00m func, args, kwargs \u001b[38;5;129;01min\u001b[39;00m \u001b[38;5;28mself\u001b[39m\u001b[38;5;241m.\u001b[39mitems]\n",
      "File \u001b[0;32m/data/icarus/olsen/projects/ka-search-project/pkg/kasearch/kasearch/meta_extract.py:22\u001b[0m, in \u001b[0;36mExtractMetadata._get_single_meta\u001b[0;34m(self, idx)\u001b[0m\n\u001b[1;32m     19\u001b[0m \u001b[38;5;28;01mdef\u001b[39;00m \u001b[38;5;21m_get_single_meta\u001b[39m(\u001b[38;5;28mself\u001b[39m, idx):\n\u001b[1;32m     21\u001b[0m     study_id, line_id \u001b[38;5;241m=\u001b[39m idx\n\u001b[0;32m---> 22\u001b[0m     study_file \u001b[38;5;241m=\u001b[39m \u001b[38;5;28;43mself\u001b[39;49m\u001b[38;5;241;43m.\u001b[39;49m\u001b[43mid_to_study\u001b[49m\u001b[43m[\u001b[49m\u001b[43mstudy_id\u001b[49m\u001b[43m]\u001b[49m\n\u001b[1;32m     23\u001b[0m     sequence_meta \u001b[38;5;241m=\u001b[39m pd\u001b[38;5;241m.\u001b[39mSeries(json\u001b[38;5;241m.\u001b[39mloads(\u001b[38;5;124m'\u001b[39m\u001b[38;5;124m,\u001b[39m\u001b[38;5;124m'\u001b[39m\u001b[38;5;241m.\u001b[39mjoin(pd\u001b[38;5;241m.\u001b[39mread_csv(study_file, nrows\u001b[38;5;241m=\u001b[39m\u001b[38;5;241m0\u001b[39m)\u001b[38;5;241m.\u001b[39mcolumns)))\n\u001b[1;32m     24\u001b[0m     sequence_data \u001b[38;5;241m=\u001b[39m pd\u001b[38;5;241m.\u001b[39mread_csv(study_file, \n\u001b[1;32m     25\u001b[0m                                 header\u001b[38;5;241m=\u001b[39m\u001b[38;5;241m1\u001b[39m, \n\u001b[1;32m     26\u001b[0m                                 skiprows\u001b[38;5;241m=\u001b[39m\u001b[38;5;28mlist\u001b[39m(\u001b[38;5;28mrange\u001b[39m(\u001b[38;5;241m2\u001b[39m,line_id\u001b[38;5;241m+\u001b[39m\u001b[38;5;241m2\u001b[39m)), \n\u001b[1;32m     27\u001b[0m                                 nrows\u001b[38;5;241m=\u001b[39m\u001b[38;5;241m1\u001b[39m)\u001b[38;5;241m.\u001b[39miloc[\u001b[38;5;241m0\u001b[39m]\n",
      "\u001b[0;31mKeyError\u001b[0m: 12645"
     ]
    }
   ],
   "source": [
    "n_best_sequences_whole = meta_db.get_meta(oasdb.current_best_ids[:,0])\n",
    "n_best_sequences_cdrs = meta_db.get_meta(oasdb.current_best_ids[:,1])\n",
    "n_best_sequences_cdr3 = meta_db.get_meta(oasdb.current_best_ids[:,2])"
   ]
  },
  {
   "cell_type": "code",
   "execution_count": 13,
   "id": "cf8706c1-9a56-4187-b5ba-d8fd50778eb1",
   "metadata": {},
   "outputs": [
    {
     "data": {
      "text/plain": [
       "0    SARS-COV-2\n",
       "1    SARS-COV-2\n",
       "Name: Disease, dtype: object"
      ]
     },
     "execution_count": 13,
     "metadata": {},
     "output_type": "execute_result"
    }
   ],
   "source": [
    "n_best_sequences.Disease"
   ]
  },
  {
   "cell_type": "code",
   "execution_count": null,
   "id": "8b36cdd3-7bdd-4c5c-b421-0a753a597985",
   "metadata": {},
   "outputs": [],
   "source": [
    "QVQLVQSGPEVKKPGTSVKVSCKASGFTFTTSAVQWVRQARGQRLEWIGWIVVGSGNTNYAQKFQERVTITRDMSTTTAYMELSSLRSEDTAVYFCAAPHCNSTSCYDAFDIWGQGTMVTVSS"
   ]
  },
  {
   "cell_type": "markdown",
   "id": "9ee5b315-111d-4a01-919a-841b0b48b0f8",
   "metadata": {},
   "source": [
    "----------\n",
    "## Create custom database\n",
    "\n",
    "\n",
    "To create your own database you first need to create a csv file in the OAS format. For an example file, look at data/custom-data-example.csv. This file consists of a dictionary containing the metadata in the first line and then rows of the individual sequences afterwards. Only the Species and Chain is strictly needed in the metadata, and only the amino acids sequence of the antibodies is required for each antibody sequence.\n",
    "\n",
    "### 1. Format your data into OAS files"
   ]
  },
  {
   "cell_type": "code",
   "execution_count": 16,
   "id": "f07a5cef-7e66-4c5b-b150-59a07554f93d",
   "metadata": {},
   "outputs": [],
   "source": [
    "import json\n",
    "import os\n",
    "import pandas as pd\n",
    "\n",
    "from kasearch.species_anarci import number\n",
    "from kasearch.merge_db import merge_files"
   ]
  },
  {
   "cell_type": "code",
   "execution_count": 17,
   "id": "17165675-2b54-4f31-8c2e-8269e2cfc999",
   "metadata": {},
   "outputs": [],
   "source": [
    "metadata = {\"Species\":\"Human\", \"Chain\":\"Heavy\"}\n",
    "metadata = pd.Series(name=json.dumps(metadata), dtype='object')\n",
    "seqsdata = pd.DataFrame([[\"EVQLVESGGGLAKPGGSLRLHCAASGFAFSSYWMNWVRQAPGKRLEWVSAINLGGGLTYYAASVKGRFTISRDNSKNTLSLQMNSLRAEDTAVYYCATDYCSSTYCSPVGDYWGQGVLVTVSS\"],\n",
    "                          [\"EVQLVQSGAEVKRPGESLKISCKTSGYSFTSYWISWVRQMPGKGLEWMGAIDPSDSDTRYNPSFQGQVTISADKSISTAYLQWSRLKASDTATYYCAIKKYCTGSGCRRWYFDLWGPGT\"]\n",
    "                         ], columns = ['sequence_alignment_aa'])"
   ]
  },
  {
   "cell_type": "code",
   "execution_count": 18,
   "id": "4ef0325e-74dd-4961-82b6-d88d2d3b6cd2",
   "metadata": {},
   "outputs": [],
   "source": [
    "save_file = \"../data/custom-data-example-2.csv\"\n",
    "metadata.to_csv(save_file, index=False)\n",
    "seqsdata.to_csv(save_file, index=False, mode='a')"
   ]
  },
  {
   "cell_type": "markdown",
   "id": "486c8742-e8e4-4d69-b500-4e9b3b34d8ab",
   "metadata": {},
   "source": [
    "### 2. Turn your OAS formatted files into a custom database\n",
    "\n",
    "After creating all the files you want to include in the new database, you can run the following code to create the database."
   ]
  },
  {
   "cell_type": "code",
   "execution_count": 19,
   "id": "a1913f01-9100-428f-b0ab-c41b5f2ac4ce",
   "metadata": {},
   "outputs": [],
   "source": [
    "db_folder = \"../data/my_db\"\n",
    "db_files = ['../data/custom-data-example.csv']"
   ]
  },
  {
   "cell_type": "code",
   "execution_count": 20,
   "id": "ea1a4e7f-f0a0-4747-a545-e8676769f599",
   "metadata": {
    "tags": []
   },
   "outputs": [],
   "source": [
    "newDB = PrepareDB(db_path=db_folder)\n",
    "\n",
    "db_dict = {}\n",
    "for num, data_unit_file in enumerate(db_files):\n",
    "\n",
    "    db_dict[num] = data_unit_file\n",
    "    \n",
    "    metadata = json.loads(','.join(pd.read_csv(data_unit_file, nrows=0).columns))\n",
    "    seqsdata = pd.read_csv(data_unit_file, header=1, usecols=['sequence_alignment_aa']).iloc[:,0].values\n",
    "    numbered_sequences = [number(sequence, allowed_species=None)[0] for sequence in seqsdata]\n",
    "\n",
    "    newDB.prepare_database(numbered_sequences, \n",
    "                           file_id=num, \n",
    "                           chain=metadata['Chain'], \n",
    "                           species=metadata['Species'])\n",
    "    \n",
    "newDB.save_database()\n",
    "\n",
    "merge_files(db_folder)\n",
    "\n",
    "with open(os.path.join(db_folder, \"my_db_id_to_study.txt\"), \"w\") as handle: handle.write(str(db_dict))"
   ]
  },
  {
   "cell_type": "markdown",
   "id": "dbf8a980-c639-4850-add9-15f045810e48",
   "metadata": {},
   "source": [
    "### 3. Initiate the search class with your custom database\n"
   ]
  },
  {
   "cell_type": "code",
   "execution_count": 21,
   "id": "a39722cf-b564-4038-b6ac-09560ac30b15",
   "metadata": {},
   "outputs": [],
   "source": [
    "mydb = SearchDB(database_path=db_folder,      # Path to your database. Default will be to download a prepared version of OAS.\n",
    "                 allowed_chain='Heavy',       # Search against a specific chain. Default is any chain.\n",
    "                 allowed_species='Any',       # Search against a specific species. Default is any species.\n",
    "                 n_jobs=1                     # Allocated number for jobs/threads for the search.\n",
    "                )"
   ]
  }
 ],
 "metadata": {
  "kernelspec": {
   "display_name": "Python [conda env:oas-update]",
   "language": "python",
   "name": "conda-env-oas-update-py"
  },
  "language_info": {
   "codemirror_mode": {
    "name": "ipython",
    "version": 3
   },
   "file_extension": ".py",
   "mimetype": "text/x-python",
   "name": "python",
   "nbconvert_exporter": "python",
   "pygments_lexer": "ipython3",
   "version": "3.10.4"
  }
 },
 "nbformat": 4,
 "nbformat_minor": 5
}
