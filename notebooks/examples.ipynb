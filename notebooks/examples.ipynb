{
 "cells": [
  {
   "cell_type": "code",
   "execution_count": 1,
   "id": "aa193bab-5157-4d4a-a989-535bc222ca2f",
   "metadata": {},
   "outputs": [],
   "source": [
    "%load_ext autoreload\n",
    "%autoreload 2\n",
    "\n",
    "from kasearch import AlignSequences, SearchDB, ExtractMetadata, PrepareDB"
   ]
  },
  {
   "cell_type": "markdown",
   "id": "892d573e-8b1b-4fa2-8973-db4f40588292",
   "metadata": {},
   "source": [
    "## Prepare query sequence (sequence to search with)"
   ]
  },
  {
   "cell_type": "code",
   "execution_count": 2,
   "id": "3422c094-eca4-47bb-a1a7-750daa50f10e",
   "metadata": {},
   "outputs": [],
   "source": [
    "raw_queries = [\n",
    "    'QVKLQESGAELARPGASVKLSCKASGYTFTNYWMQWVKQRPGQGLDWIGAIYPGDGNTRYTHKFKGKATLTADKSSSTAYMQLSSLASEDSGVYYCARGEGNYAWFAYWGQGTTVTVSS',\n",
    "    'EVQLQQSGTVLARPGASVKMSCEASGYTFTNYWMHWVKQRPGQGLEWIGAIYPGNSDTSYIQKFKGKAKLTAVTSTTSVYMELSSLTNEDSAVYYCTLYDGYYVFAYWGQGTLVTVSA',\n",
    "]"
   ]
  },
  {
   "cell_type": "code",
   "execution_count": 3,
   "id": "bc3153a4-41f0-4358-8283-702d6da74706",
   "metadata": {
    "tags": []
   },
   "outputs": [
    {
     "data": {
      "text/plain": [
       "array([[81, 86, 75,  0, 76, 81, 69, 83, 71, 65,  0, 69, 76, 65, 82, 80,\n",
       "        71, 65, 83, 86, 75, 76, 83, 67, 75, 65, 83, 71, 89, 84, 70,  0,\n",
       "         0,  0,  0,  0,  0,  0,  0,  0, 84, 78, 89, 87, 77, 81,  0, 87,\n",
       "        86, 75, 81,  0, 82,  0, 80,  0, 71,  0, 81,  0,  0, 71,  0, 76,\n",
       "        68,  0, 87, 73, 71, 65, 73, 89, 80, 71,  0,  0,  0,  0,  0,  0,\n",
       "         0,  0,  0,  0,  0, 68, 71, 78, 84, 82, 89,  0,  0, 84,  0,  0,\n",
       "        72,  0,  0, 75, 70,  0,  0, 75,  0,  0,  0, 71, 75, 65, 84, 76,\n",
       "        84, 65,  0, 68,  0,  0,  0, 75,  0, 83,  0,  0, 83, 83,  0,  0,\n",
       "         0,  0, 84,  0, 65, 89, 77, 81, 76, 83, 83, 76, 65, 83,  0, 69,\n",
       "        68, 83, 71, 86, 89, 89, 67, 65, 82, 71, 69, 71, 78,  0,  0,  0,\n",
       "         0,  0,  0,  0,  0,  0,  0,  0,  0,  0,  0,  0,  0,  0,  0,  0,\n",
       "         0,  0,  0,  0,  0,  0, 89, 65, 87, 70, 65, 89, 87, 71,  0, 81,\n",
       "        71, 84, 84, 86, 84, 86, 83, 83],\n",
       "       [69, 86, 81,  0, 76, 81, 81, 83, 71, 84,  0, 86, 76, 65, 82, 80,\n",
       "        71, 65, 83, 86, 75, 77, 83, 67, 69, 65, 83, 71, 89, 84, 70,  0,\n",
       "         0,  0,  0,  0,  0,  0,  0,  0, 84, 78, 89, 87, 77, 72,  0, 87,\n",
       "        86, 75, 81,  0, 82,  0, 80,  0, 71,  0, 81,  0,  0, 71,  0, 76,\n",
       "        69,  0, 87, 73, 71, 65, 73, 89, 80, 71,  0,  0,  0,  0,  0,  0,\n",
       "         0,  0,  0,  0,  0, 78, 83, 68, 84, 83, 89,  0,  0, 73,  0,  0,\n",
       "        81,  0,  0, 75, 70,  0,  0, 75,  0,  0,  0, 71, 75, 65, 75, 76,\n",
       "        84, 65,  0, 86,  0,  0,  0, 84,  0, 83,  0,  0, 84, 84,  0,  0,\n",
       "         0,  0, 83,  0, 86, 89, 77, 69, 76, 83, 83, 76, 84, 78,  0, 69,\n",
       "        68, 83, 65, 86, 89, 89, 67, 84, 76, 89, 68, 71, 89,  0,  0,  0,\n",
       "         0,  0,  0,  0,  0,  0,  0,  0,  0,  0,  0,  0,  0,  0,  0,  0,\n",
       "         0,  0,  0,  0,  0,  0,  0, 89, 86, 70, 65, 89, 87, 71,  0, 81,\n",
       "        71, 84, 76, 86, 84, 86, 83, 65],\n",
       "       [81, 86, 81,  0, 76, 86, 81, 83, 71, 80,  0, 69, 86, 75, 75, 80,\n",
       "        71, 84, 83, 86, 75, 86, 83, 67, 75, 65, 83, 71, 70, 84, 70,  0,\n",
       "         0,  0,  0,  0,  0,  0,  0,  0, 84, 84, 83, 65, 86, 81,  0, 87,\n",
       "        86, 82, 81,  0, 65,  0, 82,  0, 71,  0, 81,  0,  0, 82,  0, 76,\n",
       "        69,  0, 87, 73, 71, 87, 73, 86, 86, 71,  0,  0,  0,  0,  0,  0,\n",
       "         0,  0,  0,  0,  0, 83, 71, 78, 84, 78, 89,  0,  0, 65,  0,  0,\n",
       "        81,  0,  0, 75, 70,  0,  0, 81,  0,  0,  0, 69, 82, 86, 84, 73,\n",
       "        84, 82,  0, 68,  0,  0,  0, 77,  0, 83,  0,  0, 84, 84,  0,  0,\n",
       "         0,  0, 84,  0, 65, 89, 77, 69, 76, 83, 83, 76, 82, 83,  0, 69,\n",
       "        68, 84, 65, 86, 89, 70, 67, 65, 65, 80, 72, 67, 78, 83, 84,  0,\n",
       "         0,  0,  0,  0,  0,  0,  0,  0,  0,  0,  0,  0,  0,  0,  0,  0,\n",
       "         0,  0,  0,  0, 83, 67, 89, 68, 65, 70, 68, 73, 87, 71,  0, 81,\n",
       "        71, 84, 77, 86, 84, 86, 83, 83]], dtype=int8)"
      ]
     },
     "execution_count": 3,
     "metadata": {},
     "output_type": "execute_result"
    }
   ],
   "source": [
    "query_db = AlignSequences(raw_queries, # Sequences as strings to align.\n",
    "                          n_jobs=1     # Allocated number for jobs/threads for the search.\n",
    "                         )\n",
    "query_db.db.aligned_seqs"
   ]
  },
  {
   "cell_type": "markdown",
   "id": "45f8cd27-90b7-48af-83ed-06412c802d11",
   "metadata": {},
   "source": [
    "--------------\n",
    "## Initiate search class \n",
    "\n",
    "- Default will download a prepared version of OAS to search against\n",
    "- Alternatively, you can give it the path for a custom database to search against. (See below for how to create a custom database)."
   ]
  },
  {
   "cell_type": "code",
   "execution_count": 4,
   "id": "23231856-1b3d-4b30-9c61-74a972fc7340",
   "metadata": {},
   "outputs": [],
   "source": [
    "DB_PATH = \"../data/db-example\"\n",
    "\n",
    "oasdb = SearchDB(database_path=DB_PATH,       # Path to your database. Default will be to download a prepared version of OAS.\n",
    "                 allowed_chain='Heavy',       # Search against a specific chain. Default is any chain.\n",
    "                 allowed_species='Any',       # Search against a specific species. Default is any species.\n",
    "                 n_jobs=5                     # Allocated number for jobs/threads for the search.\n",
    "                )"
   ]
  },
  {
   "cell_type": "markdown",
   "id": "4792402c-509e-42da-983b-cde0f3548b0b",
   "metadata": {},
   "source": [
    "-----------\n",
    "## Run search\n",
    "\n",
    "A search against all of OAS takes ~22min for each sequence.\n"
   ]
  },
  {
   "cell_type": "code",
   "execution_count": 5,
   "id": "af64af6a-28fe-478d-be4d-48f4c9b31dbf",
   "metadata": {
    "tags": []
   },
   "outputs": [
    {
     "name": "stdout",
     "output_type": "stream",
     "text": [
      "CPU times: user 1h 32min 21s, sys: 6min 12s, total: 1h 38min 33s\n",
      "Wall time: 23min 39s\n"
     ]
    }
   ],
   "source": [
    "%%time \n",
    "oasdb.search(query_db.db.aligned_seqs[2], # Input can only be a single aligned sequence at a time.\n",
    "             keep_best_n=5,               # You can define how many most similar sequences to return\n",
    "             reset_best=True              # In cases where you want to search with the same sequence against multiple databases, you might want to not reset_best. (True is default)\n",
    "            )"
   ]
  },
  {
   "cell_type": "markdown",
   "id": "a8f03f7f-3660-4c50-bf6a-7815ecb5966e",
   "metadata": {},
   "source": [
    "### Get N best identities\n",
    "\n",
    "Identities of the most similar sequence (1st column), CDRs (2nd column) and CDR3 (3rd column) in all of OAS, can be fetched from the object with the bellow command."
   ]
  },
  {
   "cell_type": "code",
   "execution_count": 6,
   "id": "115a3e0f-102c-48c8-952c-3827b1572d89",
   "metadata": {
    "tags": []
   },
   "outputs": [
    {
     "data": {
      "text/plain": [
       "array([[0.93495935, 0.96875   , 1.        ],\n",
       "       [0.9268293 , 0.96875   , 1.        ],\n",
       "       [0.9255785 , 0.96875   , 1.        ],\n",
       "       ...,\n",
       "       [0.90495384, 0.875     , 0.875     ],\n",
       "       [0.90495384, 0.875     , 0.875     ],\n",
       "       [0.90495384, 0.875     , 0.875     ]], dtype=float32)"
      ]
     },
     "execution_count": 6,
     "metadata": {},
     "output_type": "execute_result"
    }
   ],
   "source": [
    "oasdb.current_best_identities"
   ]
  },
  {
   "cell_type": "markdown",
   "id": "37afb021-1dc9-4145-9775-33691fa3268b",
   "metadata": {},
   "source": [
    "### Get ID's of sequences with the N best identities\n",
    "\n",
    "ID's of the most similar sequence (1st column), CDRs (2nd column) and CDR3 (3rd column) in all of OAS, can be fetched from the object with the bellow command. \n",
    "\n",
    "With ExtractMetadata, these ID's can be used to extract the sequence and its meta data (species, isotype, whole sequence etc.)."
   ]
  },
  {
   "cell_type": "code",
   "execution_count": 7,
   "id": "d2a2dfbc-f58e-415d-95ae-1191e8d7b2e1",
   "metadata": {
    "collapsed": true,
    "jupyter": {
     "outputs_hidden": true
    },
    "tags": []
   },
   "outputs": [
    {
     "data": {
      "text/plain": [
       "array([[[  2938,      4],\n",
       "        [  2957, 172944],\n",
       "        [  2924, 168790]],\n",
       "\n",
       "       [[  2928,     36],\n",
       "        [  2957,  79578],\n",
       "        [  2924, 136494]],\n",
       "\n",
       "       [[  2928,     55],\n",
       "        [  6942,   3044],\n",
       "        [  2924,  53063]],\n",
       "\n",
       "       [[  2928,     41],\n",
       "        [  2924, 105998],\n",
       "        [  2924, 147799]],\n",
       "\n",
       "       [[  2928,     51],\n",
       "        [  6942,  15432],\n",
       "        [  2924,  59586]],\n",
       "\n",
       "       [[  2928,     34],\n",
       "        [  6942,   4113],\n",
       "        [  2924, 134754]],\n",
       "\n",
       "       [[  2916,    300],\n",
       "        [  2957, 141349],\n",
       "        [  2924,  78300]],\n",
       "\n",
       "       [[  2902,      0],\n",
       "        [  2940,  72010],\n",
       "        [  2924, 115282]],\n",
       "\n",
       "       [[  2916,    101],\n",
       "        [  2940, 187233],\n",
       "        [  2924,  54467]],\n",
       "\n",
       "       [[  2928,     44],\n",
       "        [  2957,   5350],\n",
       "        [  2924, 213888]]], dtype=int32)"
      ]
     },
     "execution_count": 7,
     "metadata": {},
     "output_type": "execute_result"
    }
   ],
   "source": [
    "oasdb.current_best_ids"
   ]
  },
  {
   "cell_type": "markdown",
   "id": "55cd9816-07a4-4ad1-8cba-19e830d70fd8",
   "metadata": {},
   "source": [
    "---------\n",
    "## Extract the meta data from matched sequences\n",
    "\n",
    "\n",
    "The meta data for the N best of the different regions, can be extracted with the following indexes.\n",
    "- 0: whole sequence\n",
    "- 1: CDRs\n",
    "- 2: CDR3\n",
    "\n",
    "e.g. \"oasdb.current_best_ids\\[:,0\\]\\\" returns meta data for the N best whole sequence identities.\n",
    "\n",
    "NB: The column \"sequence_alignment_aa\" holds the antibody sequence."
   ]
  },
  {
   "cell_type": "code",
   "execution_count": 17,
   "id": "c5498bf7-7368-4bd6-9c95-8e29e81184db",
   "metadata": {},
   "outputs": [],
   "source": [
    "meta_db = ExtractMetadata()"
   ]
  },
  {
   "cell_type": "code",
   "execution_count": 18,
   "id": "2d58a3a9-ff0a-4359-9738-a89596ac1781",
   "metadata": {
    "tags": []
   },
   "outputs": [],
   "source": [
    "n_best_sequences = meta_db.get_meta(oasdb.current_best_ids[:,0])\n",
    "n_best_sequences"
   ]
  },
  {
   "cell_type": "markdown",
   "id": "9ee5b315-111d-4a01-919a-841b0b48b0f8",
   "metadata": {},
   "source": [
    "----------\n",
    "## Create custom database\n",
    "\n",
    "\n",
    "To create your own database you first need to create a csv file in the OAS format. For an example file, look at data/custom-data-example.csv. This file consists of a dictionary containing the metadata in the first line and then rows of the individual sequences afterwards. Only the Species and Chain is strictly needed in the metadata, and only the amino acids sequence of the antibodies is required for each antibody sequence.\n",
    "\n",
    "### 1. Format your data into OAS files"
   ]
  },
  {
   "cell_type": "code",
   "execution_count": 16,
   "id": "f07a5cef-7e66-4c5b-b150-59a07554f93d",
   "metadata": {},
   "outputs": [],
   "source": [
    "import json\n",
    "import os\n",
    "import pandas as pd\n",
    "\n",
    "from kasearch.species_anarci import number\n",
    "from kasearch.merge_db import merge_files"
   ]
  },
  {
   "cell_type": "code",
   "execution_count": 17,
   "id": "17165675-2b54-4f31-8c2e-8269e2cfc999",
   "metadata": {},
   "outputs": [],
   "source": [
    "metadata = {\"Species\":\"Human\", \"Chain\":\"Heavy\"}\n",
    "metadata = pd.Series(name=json.dumps(metadata), dtype='object')\n",
    "seqsdata = pd.DataFrame([[\"EVQLVESGGGLAKPGGSLRLHCAASGFAFSSYWMNWVRQAPGKRLEWVSAINLGGGLTYYAASVKGRFTISRDNSKNTLSLQMNSLRAEDTAVYYCATDYCSSTYCSPVGDYWGQGVLVTVSS\"],\n",
    "                          [\"EVQLVQSGAEVKRPGESLKISCKTSGYSFTSYWISWVRQMPGKGLEWMGAIDPSDSDTRYNPSFQGQVTISADKSISTAYLQWSRLKASDTATYYCAIKKYCTGSGCRRWYFDLWGPGT\"]\n",
    "                         ], columns = ['sequence_alignment_aa'])"
   ]
  },
  {
   "cell_type": "code",
   "execution_count": 18,
   "id": "4ef0325e-74dd-4961-82b6-d88d2d3b6cd2",
   "metadata": {},
   "outputs": [],
   "source": [
    "save_file = \"../data/custom-data-example-2.csv\"\n",
    "metadata.to_csv(save_file, index=False)\n",
    "seqsdata.to_csv(save_file, index=False, mode='a')"
   ]
  },
  {
   "cell_type": "markdown",
   "id": "486c8742-e8e4-4d69-b500-4e9b3b34d8ab",
   "metadata": {},
   "source": [
    "### 2. Turn your OAS formatted files into a custom database\n",
    "\n",
    "After creating all the files you want to include in the new database, you can run the following code to create the database."
   ]
  },
  {
   "cell_type": "code",
   "execution_count": 19,
   "id": "a1913f01-9100-428f-b0ab-c41b5f2ac4ce",
   "metadata": {},
   "outputs": [],
   "source": [
    "db_folder = \"../data/my_db\"\n",
    "db_files = ['../data/custom-data-example.csv']"
   ]
  },
  {
   "cell_type": "code",
   "execution_count": 20,
   "id": "ea1a4e7f-f0a0-4747-a545-e8676769f599",
   "metadata": {
    "tags": []
   },
   "outputs": [],
   "source": [
    "newDB = PrepareDB(db_path=db_folder)\n",
    "\n",
    "db_dict = {}\n",
    "for num, data_unit_file in enumerate(db_files):\n",
    "\n",
    "    db_dict[num] = data_unit_file\n",
    "    \n",
    "    metadata = json.loads(','.join(pd.read_csv(data_unit_file, nrows=0).columns))\n",
    "    seqsdata = pd.read_csv(data_unit_file, header=1, usecols=['sequence_alignment_aa']).iloc[:,0].values\n",
    "    numbered_sequences = [number(sequence, allowed_species=None)[0] for sequence in seqsdata]\n",
    "\n",
    "    newDB.prepare_database(numbered_sequences, \n",
    "                           file_id=num, \n",
    "                           chain=metadata['Chain'], \n",
    "                           species=metadata['Species'])\n",
    "    \n",
    "newDB.save_database()\n",
    "\n",
    "merge_files(db_folder)\n",
    "\n",
    "with open(os.path.join(db_folder, \"my_db_id_to_study.txt\"), \"w\") as handle: handle.write(str(db_dict))"
   ]
  },
  {
   "cell_type": "markdown",
   "id": "dbf8a980-c639-4850-add9-15f045810e48",
   "metadata": {},
   "source": [
    "### 3. Initiate the search class with your custom database\n"
   ]
  },
  {
   "cell_type": "code",
   "execution_count": 21,
   "id": "a39722cf-b564-4038-b6ac-09560ac30b15",
   "metadata": {},
   "outputs": [],
   "source": [
    "mydb = SearchDB(database_path=db_folder,      # Path to your database. Default will be to download a prepared version of OAS.\n",
    "                 allowed_chain='Heavy',       # Search against a specific chain. Default is any chain.\n",
    "                 allowed_species='Any',       # Search against a specific species. Default is any species.\n",
    "                 n_jobs=1                     # Allocated number for jobs/threads for the search.\n",
    "                )"
   ]
  }
 ],
 "metadata": {
  "kernelspec": {
   "display_name": "Python [conda env:oas-update]",
   "language": "python",
   "name": "conda-env-oas-update-py"
  },
  "language_info": {
   "codemirror_mode": {
    "name": "ipython",
    "version": 3
   },
   "file_extension": ".py",
   "mimetype": "text/x-python",
   "name": "python",
   "nbconvert_exporter": "python",
   "pygments_lexer": "ipython3",
   "version": "3.10.4"
  }
 },
 "nbformat": 4,
 "nbformat_minor": 5
}
