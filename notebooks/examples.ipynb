{
 "cells": [
  {
   "cell_type": "code",
   "execution_count": 1,
   "id": "aa193bab-5157-4d4a-a989-535bc222ca2f",
   "metadata": {},
   "outputs": [],
   "source": [
    "from kasearch import AlignSequences, SearchDB, PrepareDB"
   ]
  },
  {
   "cell_type": "markdown",
   "id": "892d573e-8b1b-4fa2-8973-db4f40588292",
   "metadata": {
    "tags": []
   },
   "source": [
    "## **Prepare query sequence (sequence to search with)**"
   ]
  },
  {
   "cell_type": "code",
   "execution_count": 2,
   "id": "3422c094-eca4-47bb-a1a7-750daa50f10e",
   "metadata": {
    "tags": []
   },
   "outputs": [
    {
     "data": {
      "text/plain": [
       "array([[81, 86, 81,  0, 76, 86, 69, 83, 71, 71,  0, 71, 86, 86, 81, 80,\n",
       "        71, 82, 83, 76, 82, 76, 83, 67, 65, 65, 83, 71, 70, 84, 70,  0,\n",
       "         0,  0,  0,  0,  0,  0,  0,  0, 83, 83, 70, 71, 77, 72,  0, 87,\n",
       "        86, 82, 81,  0, 65,  0, 80,  0, 71,  0, 75,  0,  0, 71,  0, 76,\n",
       "        69,  0, 87, 86, 65, 86, 73, 83, 70, 68,  0,  0,  0,  0,  0,  0,\n",
       "         0,  0,  0,  0,  0,  0, 71, 83, 73, 75, 89,  0,  0, 83, 86,  0,\n",
       "        68,  0,  0, 83, 86,  0,  0, 75,  0,  0,  0, 71, 82, 70, 84, 73,\n",
       "        83, 82,  0, 68,  0,  0,  0, 78,  0, 83,  0,  0, 75, 78,  0,  0,\n",
       "         0,  0, 84,  0, 76, 70, 76, 81, 77, 78, 83, 76, 82, 65,  0, 69,\n",
       "        68, 84, 65, 86, 89, 89, 67, 65, 82, 68, 82, 76, 78, 89, 89, 68,\n",
       "        83, 83, 71,  0,  0,  0,  0,  0,  0,  0,  0,  0,  0,  0,  0,  0,\n",
       "         0, 89, 89, 72, 89, 75, 89, 89, 71, 77, 65, 86, 87, 71,  0, 81,\n",
       "        71, 84, 84, 86, 84, 86, 83, 83]], dtype=int8)"
      ]
     },
     "execution_count": 2,
     "metadata": {},
     "output_type": "execute_result"
    }
   ],
   "source": [
    "raw_queries = [\n",
    "    'QVQLVESGGGVVQPGRSLRLSCAASGFTFSSFGMHWVRQAPGKGLEWVAVISFDGSIKYSVDSVKGRFTISRDNSKNTLFLQMNSLRAEDTAVYYCARDRLNYYDSSGYYHYKYYGMAVWGQGTTVTVSS',\n",
    "]\n",
    "query_db = AlignSequences(raw_queries, # Sequences as strings to align.\n",
    "                          n_jobs=1,     # Allocated number for jobs/threads for the search.\n",
    "                         )\n",
    "\n",
    "query_db.db.aligned_seqs"
   ]
  },
  {
   "cell_type": "markdown",
   "id": "45f8cd27-90b7-48af-83ed-06412c802d11",
   "metadata": {},
   "source": [
    "--------------\n",
    "## **Initiate search class**\n",
    "\n",
    "### Database to search against\n",
    "- If no database path is give, a small OAS version will be downloaded to search against.\n",
    "- The full version of OAS can be downloaded here ().\n",
    "- You can also give it the path for a custom database to search against. (See below for how to create a custom database).\n",
    "\n",
    "### Regions to search with\n",
    "- Default regions are the whole chain, CDRs or CDR3.\n",
    "- User-defined regions can be added, as seen with the paratope search below.\n",
    "- For each region, the search can either be based on exact length match or not.\n",
    "- For a more specific search, the search can be focused on a specific chain and species."
   ]
  },
  {
   "cell_type": "code",
   "execution_count": 3,
   "id": "a017dfcb-57cf-403f-8fba-441412638b63",
   "metadata": {},
   "outputs": [],
   "source": [
    "paratope = [\"107 \", \"108 \",\"111C\", \"114 \",\"115 \"]"
   ]
  },
  {
   "cell_type": "code",
   "execution_count": 4,
   "id": "23231856-1b3d-4b30-9c61-74a972fc7340",
   "metadata": {},
   "outputs": [],
   "source": [
    "oasdb = SearchDB(\n",
    "    database_path='oasdb-small', # Path to your database. Default will be to download a small prepared version of OAS.\n",
    "    allowed_chain='Heavy',         # Search against a specific chain. Default is any chain.\n",
    "    allowed_species='Human',       # Search against a specific species. Default is any species.\n",
    "    regions=['whole', 'cdrs', 'cdr3', paratope],\n",
    "    length_matched=[False, True, True, True],\n",
    ")"
   ]
  },
  {
   "cell_type": "markdown",
   "id": "4792402c-509e-42da-983b-cde0f3548b0b",
   "metadata": {},
   "source": [
    "-----------\n",
    "## **Run search**\n",
    "\n",
    "A search takes ~23min per sequence against all of OAS and ~2min per sequence against the small OAS.\n",
    "\n",
    "To specify the number of highest similar sequences to keep, you can change the keep_best_n parameter."
   ]
  },
  {
   "cell_type": "code",
   "execution_count": 5,
   "id": "074ce657-63f2-49e5-aa89-03667b332db7",
   "metadata": {
    "tags": []
   },
   "outputs": [
    {
     "name": "stderr",
     "output_type": "stream",
     "text": [
      "WARNING:absl:No GPU/TPU found, falling back to CPU. (Set TF_CPP_MIN_LOG_LEVEL=0 and rerun for more info.)\n"
     ]
    },
    {
     "name": "stdout",
     "output_type": "stream",
     "text": [
      "CPU times: user 3min 11s, sys: 33.2 s, total: 3min 44s\n",
      "Wall time: 2min 1s\n"
     ]
    }
   ],
   "source": [
    "%%time \n",
    "oasdb.search(query_db.db.aligned_seqs, # Input can be a single or multiple aligned sequences at a time.\n",
    "             keep_best_n=10,               # You can define how many most similar sequences to return\n",
    "            )"
   ]
  },
  {
   "cell_type": "markdown",
   "id": "a8f03f7f-3660-4c50-bf6a-7815ecb5966e",
   "metadata": {},
   "source": [
    "### Get N best identities\n",
    "\n",
    "Identities of the most similar sequence for each of the regions can be fetched from the object with the bellow command."
   ]
  },
  {
   "cell_type": "code",
   "execution_count": 6,
   "id": "45bf0786-af61-4660-b08e-98410e11b607",
   "metadata": {},
   "outputs": [
    {
     "data": {
      "text/plain": [
       "array([[[0.8923077 , 0.7105263 , 0.8695652 , 1.        ],\n",
       "        [0.8923077 , 0.7105263 , 0.8695652 , 1.        ],\n",
       "        [0.8880441 , 0.7105263 , 0.8695652 , 1.        ],\n",
       "        [0.8880441 , 0.7105263 , 0.8695652 , 1.        ],\n",
       "        [0.8880441 , 0.7105263 , 0.82608694, 1.        ],\n",
       "        [0.88461536, 0.7105263 , 0.82608694, 1.        ],\n",
       "        [0.88461536, 0.7105263 , 0.82608694, 1.        ],\n",
       "        [0.88461536, 0.7105263 , 0.82608694, 1.        ],\n",
       "        [0.88461536, 0.68421054, 0.82608694, 1.        ],\n",
       "        [0.88461536, 0.68421054, 0.82608694, 1.        ]]], dtype=float32)"
      ]
     },
     "execution_count": 6,
     "metadata": {},
     "output_type": "execute_result"
    }
   ],
   "source": [
    "oasdb.current_best_identities"
   ]
  },
  {
   "cell_type": "markdown",
   "id": "37afb021-1dc9-4145-9775-33691fa3268b",
   "metadata": {},
   "source": [
    "### Get ID's of sequences with the N best identities\n",
    "\n",
    "Similarly, the ID's of the most similar sequences can be fetched from the object with the bellow command."
   ]
  },
  {
   "cell_type": "code",
   "execution_count": 7,
   "id": "d2a2dfbc-f58e-415d-95ae-1191e8d7b2e1",
   "metadata": {
    "tags": []
   },
   "outputs": [
    {
     "data": {
      "text/plain": [
       "array([[[[   3536,  185703],\n",
       "         [   9281,  303840],\n",
       "         [   9562,  770192],\n",
       "         [   9333,  169872]],\n",
       "\n",
       "        [[   2231,    4292],\n",
       "         [   9970,  607648],\n",
       "         [   9253,   81478],\n",
       "         [   3799,  291364]],\n",
       "\n",
       "        [[   2070, 1685168],\n",
       "         [   9281,    2566],\n",
       "         [   9253,  516624],\n",
       "         [   1989,  606221]],\n",
       "\n",
       "        [[   2140,  886583],\n",
       "         [   5039,  133318],\n",
       "         [   9562,  255745],\n",
       "         [   5013,   64721]],\n",
       "\n",
       "        [[   4903,  125092],\n",
       "         [   2070, 1685168],\n",
       "         [   2025, 1170341],\n",
       "         [   2644, 1882235]],\n",
       "\n",
       "        [[   3280, 2379245],\n",
       "         [   4903,  125092],\n",
       "         [   3536,  185703],\n",
       "         [   3536, 1062161]],\n",
       "\n",
       "        [[   3085, 2376838],\n",
       "         [   2140,  886583],\n",
       "         [   3174,  554092],\n",
       "         [   1989, 3434206]],\n",
       "\n",
       "        [[   1989, 2804021],\n",
       "         [   4512, 1968848],\n",
       "         [   5039,  133318],\n",
       "         [  10443,  184024]],\n",
       "\n",
       "        [[   3119, 3406137],\n",
       "         [   2904,  339796],\n",
       "         [   2533, 3616316],\n",
       "         [   6077,   23340]],\n",
       "\n",
       "        [[   2644,   55253],\n",
       "         [   8947,  243583],\n",
       "         [   2241, 2185835],\n",
       "         [   2316, 3247674]]]], dtype=int32)"
      ]
     },
     "execution_count": 7,
     "metadata": {},
     "output_type": "execute_result"
    }
   ],
   "source": [
    "oasdb.current_best_ids"
   ]
  },
  {
   "cell_type": "markdown",
   "id": "55cd9816-07a4-4ad1-8cba-19e830d70fd8",
   "metadata": {},
   "source": [
    "---------\n",
    "## Extract the meta data from matched sequences\n",
    "\n",
    "Using the get_meta function, the meta data for all matched sequences for each query and region can be extracted as seen below.\n",
    "\n",
    "Zero (0) is the first query or the first region in the list when initiating the search class. \n",
    "\n",
    "NB: The column \"sequence_alignment_aa\" holds the antibody sequence."
   ]
  },
  {
   "cell_type": "code",
   "execution_count": null,
   "id": "733289bf-138b-4f0e-95b1-ae8620449270",
   "metadata": {},
   "outputs": [],
   "source": [
    "n_best_sequences = oasdb.get_meta(n_query = 0,          # Which query to extract meta data from\n",
    "                                  n_region = 0,         # Which region to extract meta data from\n",
    "                                  n_sequences = 'all',  # Number of sequences to extract (default is all, which is keep_best_n)\n",
    "                                  n_jobs=10             # Allocated number for jobs/threads for the extraction\n",
    "                                 )\n",
    "n_best_sequences"
   ]
  },
  {
   "cell_type": "code",
   "execution_count": null,
   "id": "346cd1d0-1544-47d8-af74-228299c00dcb",
   "metadata": {},
   "outputs": [],
   "source": [
    "n_best_sequences.sequence_alignment_aa.values"
   ]
  },
  {
   "cell_type": "markdown",
   "id": "9ee5b315-111d-4a01-919a-841b0b48b0f8",
   "metadata": {},
   "source": [
    "----------\n",
    "## Create custom database\n",
    "\n",
    "\n",
    "To create your own database you first need to create a csv file in the OAS format. For an example file, look at data/custom-data-example.csv. This file consists of a dictionary containing the metadata in the first line and then rows of the individual sequences afterwards. Only the Species and Chain is strictly needed in the metadata, and only the amino acids sequence of the antibodies is required for each antibody sequence.\n",
    "\n",
    "### 1. Format your data into OAS files"
   ]
  },
  {
   "cell_type": "code",
   "execution_count": null,
   "id": "f07a5cef-7e66-4c5b-b150-59a07554f93d",
   "metadata": {},
   "outputs": [],
   "source": [
    "import json\n",
    "import pandas as pd"
   ]
  },
  {
   "cell_type": "code",
   "execution_count": null,
   "id": "17165675-2b54-4f31-8c2e-8269e2cfc999",
   "metadata": {},
   "outputs": [],
   "source": [
    "metadata = {\"Species\":\"Human\", \"Chain\":\"Heavy\"}\n",
    "metadata = pd.Series(name=json.dumps(metadata), dtype='object')\n",
    "seqsdata = pd.DataFrame([[\"EVQLVESGGGLAKPGGSLRLHCAASGFAFSSYWMNWVRQAPGKRLEWVSAINLGGGLTYYAASVKGRFTISRDNSKNTLSLQMNSLRAEDTAVYYCATDYCSSTYCSPVGDYWGQGVLVTVSS\"],\n",
    "                          [\"EVQLVQSGAEVKRPGESLKISCKTSGYSFTSYWISWVRQMPGKGLEWMGAIDPSDSDTRYNPSFQGQVTISADKSISTAYLQWSRLKASDTATYYCAIKKYCTGSGCRRWYFDLWGPGT\"]\n",
    "                         ], columns = ['sequence_alignment_aa'])"
   ]
  },
  {
   "cell_type": "code",
   "execution_count": null,
   "id": "4ef0325e-74dd-4961-82b6-d88d2d3b6cd2",
   "metadata": {},
   "outputs": [],
   "source": [
    "save_file = \"../data/custom-data-examples.csv\"\n",
    "metadata.to_csv(save_file, index=False)\n",
    "seqsdata.to_csv(save_file, index=False, mode='a')"
   ]
  },
  {
   "cell_type": "markdown",
   "id": "486c8742-e8e4-4d69-b500-4e9b3b34d8ab",
   "metadata": {},
   "source": [
    "### 2. Turn your OAS formatted files into a custom database\n",
    "\n",
    "After creating all the files you want to include in the new database, you can run the following code to create the database."
   ]
  },
  {
   "cell_type": "code",
   "execution_count": null,
   "id": "a1913f01-9100-428f-b0ab-c41b5f2ac4ce",
   "metadata": {},
   "outputs": [],
   "source": [
    "db_folder = \"../data/my_db\"\n",
    "db_files = ['../data/custom-data-examples.csv']"
   ]
  },
  {
   "cell_type": "code",
   "execution_count": null,
   "id": "ea1a4e7f-f0a0-4747-a545-e8676769f599",
   "metadata": {
    "tags": []
   },
   "outputs": [],
   "source": [
    "%%timeit -n 1 -r 1\n",
    "newDB = PrepareDB(db_path=db_folder, n_jobs=20)\n",
    "\n",
    "for num, data_unit_file in enumerate(db_files):\n",
    "\n",
    "    metadata = json.loads(','.join(pd.read_csv(data_unit_file, nrows=0).columns))\n",
    "    newDB.prepare_sequences(data_unit_file,\n",
    "                            file_id=num, \n",
    "                            chain=metadata['Chain'], \n",
    "                            species=metadata['Species'])\n",
    "    \n",
    "newDB.save_database()\n",
    "newDB.merge_sequence_files()"
   ]
  },
  {
   "cell_type": "markdown",
   "id": "dbf8a980-c639-4850-add9-15f045810e48",
   "metadata": {},
   "source": [
    "### 3. Initiate the search class with your custom database\n"
   ]
  },
  {
   "cell_type": "code",
   "execution_count": null,
   "id": "a39722cf-b564-4038-b6ac-09560ac30b15",
   "metadata": {},
   "outputs": [],
   "source": [
    "mydb = SearchDB(database_path=db_folder,      # Path to your database. Default will be to download a prepared version of OAS.\n",
    "                 allowed_chain='Heavy',       # Search against a specific chain. Default is any chain.\n",
    "                 allowed_species='Any',       # Search against a specific species. Default is any species.\n",
    "                )"
   ]
  }
 ],
 "metadata": {
  "kernelspec": {
   "display_name": "Python [conda env:oas-update]",
   "language": "python",
   "name": "conda-env-oas-update-py"
  },
  "language_info": {
   "codemirror_mode": {
    "name": "ipython",
    "version": 3
   },
   "file_extension": ".py",
   "mimetype": "text/x-python",
   "name": "python",
   "nbconvert_exporter": "python",
   "pygments_lexer": "ipython3",
   "version": "3.10.4"
  }
 },
 "nbformat": 4,
 "nbformat_minor": 5
}
