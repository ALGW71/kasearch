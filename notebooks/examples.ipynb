{
 "cells": [
  {
   "cell_type": "code",
   "execution_count": 1,
   "id": "aa193bab-5157-4d4a-a989-535bc222ca2f",
   "metadata": {},
   "outputs": [],
   "source": [
    "%load_ext autoreload\n",
    "%autoreload 2\n",
    "\n",
    "from kasearch import AlignSequences, SearchDB, PrepareDB"
   ]
  },
  {
   "cell_type": "markdown",
   "id": "892d573e-8b1b-4fa2-8973-db4f40588292",
   "metadata": {},
   "source": [
    "## Prepare query sequence (sequence to search with)"
   ]
  },
  {
   "cell_type": "code",
   "execution_count": 2,
   "id": "3422c094-eca4-47bb-a1a7-750daa50f10e",
   "metadata": {},
   "outputs": [],
   "source": [
    "raw_queries = [\n",
    "    'QVKLQESGAELARPGASVKLSCKASGYTFTNYWMQWVKQRPGQGLDWIGAIYPGDGNTRYTHKFKGKATLTADKSSSTAYMQLSSLASEDSGVYYCARGEGNYAWFAYWGQGTTVTVSS',\n",
    "    'EVQLQQSGTVLARPGASVKMSCEASGYTFTNYWMHWVKQRPGQGLEWIGAIYPGNSDTSYIQKFKGKAKLTAVTSTTSVYMELSSLTNEDSAVYYCTLYDGYYVFAYWGQGTLVTVSA',\n",
    "]"
   ]
  },
  {
   "cell_type": "code",
   "execution_count": 3,
   "id": "bc3153a4-41f0-4358-8283-702d6da74706",
   "metadata": {
    "tags": []
   },
   "outputs": [
    {
     "data": {
      "text/plain": [
       "array([[81, 86, 75,  0, 76, 81, 69, 83, 71, 65,  0, 69, 76, 65, 82, 80,\n",
       "        71, 65, 83, 86, 75, 76, 83, 67, 75, 65, 83, 71, 89, 84, 70,  0,\n",
       "         0,  0,  0,  0,  0,  0,  0,  0, 84, 78, 89, 87, 77, 81,  0, 87,\n",
       "        86, 75, 81,  0, 82,  0, 80,  0, 71,  0, 81,  0,  0, 71,  0, 76,\n",
       "        68,  0, 87, 73, 71, 65, 73, 89, 80, 71,  0,  0,  0,  0,  0,  0,\n",
       "         0,  0,  0,  0,  0, 68, 71, 78, 84, 82, 89,  0,  0, 84,  0,  0,\n",
       "        72,  0,  0, 75, 70,  0,  0, 75,  0,  0,  0, 71, 75, 65, 84, 76,\n",
       "        84, 65,  0, 68,  0,  0,  0, 75,  0, 83,  0,  0, 83, 83,  0,  0,\n",
       "         0,  0, 84,  0, 65, 89, 77, 81, 76, 83, 83, 76, 65, 83,  0, 69,\n",
       "        68, 83, 71, 86, 89, 89, 67, 65, 82, 71, 69, 71, 78,  0,  0,  0,\n",
       "         0,  0,  0,  0,  0,  0,  0,  0,  0,  0,  0,  0,  0,  0,  0,  0,\n",
       "         0,  0,  0,  0,  0,  0, 89, 65, 87, 70, 65, 89, 87, 71,  0, 81,\n",
       "        71, 84, 84, 86, 84, 86, 83, 83],\n",
       "       [69, 86, 81,  0, 76, 81, 81, 83, 71, 84,  0, 86, 76, 65, 82, 80,\n",
       "        71, 65, 83, 86, 75, 77, 83, 67, 69, 65, 83, 71, 89, 84, 70,  0,\n",
       "         0,  0,  0,  0,  0,  0,  0,  0, 84, 78, 89, 87, 77, 72,  0, 87,\n",
       "        86, 75, 81,  0, 82,  0, 80,  0, 71,  0, 81,  0,  0, 71,  0, 76,\n",
       "        69,  0, 87, 73, 71, 65, 73, 89, 80, 71,  0,  0,  0,  0,  0,  0,\n",
       "         0,  0,  0,  0,  0, 78, 83, 68, 84, 83, 89,  0,  0, 73,  0,  0,\n",
       "        81,  0,  0, 75, 70,  0,  0, 75,  0,  0,  0, 71, 75, 65, 75, 76,\n",
       "        84, 65,  0, 86,  0,  0,  0, 84,  0, 83,  0,  0, 84, 84,  0,  0,\n",
       "         0,  0, 83,  0, 86, 89, 77, 69, 76, 83, 83, 76, 84, 78,  0, 69,\n",
       "        68, 83, 65, 86, 89, 89, 67, 84, 76, 89, 68, 71, 89,  0,  0,  0,\n",
       "         0,  0,  0,  0,  0,  0,  0,  0,  0,  0,  0,  0,  0,  0,  0,  0,\n",
       "         0,  0,  0,  0,  0,  0,  0, 89, 86, 70, 65, 89, 87, 71,  0, 81,\n",
       "        71, 84, 76, 86, 84, 86, 83, 65]], dtype=int8)"
      ]
     },
     "execution_count": 3,
     "metadata": {},
     "output_type": "execute_result"
    }
   ],
   "source": [
    "query_db = AlignSequences(raw_queries, # Sequences as strings to align.\n",
    "                          n_jobs=1     # Allocated number for jobs/threads for the search.\n",
    "                         )\n",
    "query_db.db.aligned_seqs"
   ]
  },
  {
   "cell_type": "markdown",
   "id": "45f8cd27-90b7-48af-83ed-06412c802d11",
   "metadata": {},
   "source": [
    "--------------\n",
    "## Initiate search class \n",
    "\n",
    "- Default will download a prepared version of OAS to search against\n",
    "- Alternatively, you can give it the path for a custom database to search against. (See below for how to create a custom database)."
   ]
  },
  {
   "cell_type": "code",
   "execution_count": 4,
   "id": "23231856-1b3d-4b30-9c61-74a972fc7340",
   "metadata": {},
   "outputs": [],
   "source": [
    "oasdb = SearchDB(database_path='oasdb-small', # Path to your database. Default will be to download a small prepared version of OAS.\n",
    "                 allowed_chain='Heavy',       # Search against a specific chain. Default is any chain.\n",
    "                 allowed_species='Rat',       # Search against a specific species. Default is any species.\n",
    "                 n_jobs=1                     # Allocated number for jobs/threads for the search.\n",
    "                )"
   ]
  },
  {
   "cell_type": "markdown",
   "id": "4792402c-509e-42da-983b-cde0f3548b0b",
   "metadata": {},
   "source": [
    "-----------\n",
    "## Run search\n",
    "\n",
    "A search against all of OAS takes ~2min for each sequence.\n"
   ]
  },
  {
   "cell_type": "code",
   "execution_count": 5,
   "id": "af64af6a-28fe-478d-be4d-48f4c9b31dbf",
   "metadata": {
    "tags": []
   },
   "outputs": [
    {
     "name": "stdout",
     "output_type": "stream",
     "text": [
      "CPU times: user 618 ms, sys: 7.97 ms, total: 626 ms\n",
      "Wall time: 1.58 s\n"
     ]
    }
   ],
   "source": [
    "%%time \n",
    "oasdb.search(query_db.db.aligned_seqs, # Input can only be a single aligned sequence at a time.\n",
    "             keep_best_n=4,               # You can define how many most similar sequences to return\n",
    "             reset_best=True              # In cases where you want to search with the same sequence against multiple databases, you might want to not reset_best. (True is default)\n",
    "            )"
   ]
  },
  {
   "cell_type": "markdown",
   "id": "a8f03f7f-3660-4c50-bf6a-7815ecb5966e",
   "metadata": {},
   "source": [
    "### Get N best identities\n",
    "\n",
    "Identities of the most similar sequence (1st column), CDRs (2nd column) and CDR3 (3rd column) in all of OAS, can be fetched from the object with the bellow command."
   ]
  },
  {
   "cell_type": "code",
   "execution_count": 6,
   "id": "5594fb40-8e73-4fe4-abf3-210d2a5a136b",
   "metadata": {},
   "outputs": [
    {
     "data": {
      "text/plain": [
       "array([[[0.7660823 , 0.6785714 , 0.75      ],\n",
       "        [0.7545546 , 0.6785714 , 0.75      ],\n",
       "        [0.746353  , 0.64285713, 0.75      ],\n",
       "        [0.7458163 , 0.64285713, 0.75      ]],\n",
       "\n",
       "       [[0.6864407 , 0.5555556 , 0.6363636 ],\n",
       "        [0.68381065, 0.5555556 , 0.6363636 ],\n",
       "        [0.6808634 , 0.5555556 , 0.6363636 ],\n",
       "        [0.6779311 , 0.5185185 , 0.54545456]]], dtype=float32)"
      ]
     },
     "execution_count": 6,
     "metadata": {},
     "output_type": "execute_result"
    }
   ],
   "source": [
    "oasdb.current_best_identities"
   ]
  },
  {
   "cell_type": "markdown",
   "id": "37afb021-1dc9-4145-9775-33691fa3268b",
   "metadata": {},
   "source": [
    "### Get ID's of sequences with the N best identities\n",
    "\n",
    "ID's of the most similar sequence (1st column), CDRs (2nd column) and CDR3 (3rd column) in all of OAS, can be fetched from the object with the bellow command. \n",
    "\n",
    "With ExtractMetadata, these ID's can be used to extract the sequence and its meta data (species, isotype, whole sequence etc.)."
   ]
  },
  {
   "cell_type": "code",
   "execution_count": 7,
   "id": "d2a2dfbc-f58e-415d-95ae-1191e8d7b2e1",
   "metadata": {},
   "outputs": [
    {
     "data": {
      "text/plain": [
       "array([[[[ 13619,  44954],\n",
       "         [ 13590,  48248],\n",
       "         [ 13572,    884]],\n",
       "\n",
       "        [[ 13591,  13614],\n",
       "         [ 13572,  68747],\n",
       "         [ 13608,  80523]],\n",
       "\n",
       "        [[ 13591,  29438],\n",
       "         [ 13605,  12566],\n",
       "         [ 13605,  61535]],\n",
       "\n",
       "        [[ 13608,  35406],\n",
       "         [ 13597, 147730],\n",
       "         [ 13605,   7611]]],\n",
       "\n",
       "\n",
       "       [[[ 13615,  18993],\n",
       "         [ 13602,  42681],\n",
       "         [ 13573,  31570]],\n",
       "\n",
       "        [[ 13619,  44954],\n",
       "         [ 13615,   4042],\n",
       "         [ 13569,   7078]],\n",
       "\n",
       "        [[ 13602,  83775],\n",
       "         [ 13602,  32964],\n",
       "         [ 13604,  12380]],\n",
       "\n",
       "        [[ 13625,  19612],\n",
       "         [ 13602,  20418],\n",
       "         [ 13569,   1035]]]], dtype=int32)"
      ]
     },
     "execution_count": 7,
     "metadata": {},
     "output_type": "execute_result"
    }
   ],
   "source": [
    "oasdb.current_best_ids"
   ]
  },
  {
   "cell_type": "markdown",
   "id": "55cd9816-07a4-4ad1-8cba-19e830d70fd8",
   "metadata": {},
   "source": [
    "---------\n",
    "## Extract the meta data from matched sequences\n",
    "\n",
    "\n",
    "The meta data for the N best of the different regions, can be extracted with the following n_regions.\n",
    "- 0: whole sequence\n",
    "- 1: CDRs\n",
    "- 2: CDR3\n",
    "\n",
    "e.g. \"oasdb.get_meta\\[n_query0,0\\]\\\" returns meta data for the N best whole sequence identities.\n",
    "\n",
    "NB: The column \"sequence_alignment_aa\" holds the antibody sequence."
   ]
  },
  {
   "cell_type": "code",
   "execution_count": 8,
   "id": "733289bf-138b-4f0e-95b1-ae8620449270",
   "metadata": {},
   "outputs": [
    {
     "data": {
      "text/html": [
       "<div>\n",
       "<style scoped>\n",
       "    .dataframe tbody tr th:only-of-type {\n",
       "        vertical-align: middle;\n",
       "    }\n",
       "\n",
       "    .dataframe tbody tr th {\n",
       "        vertical-align: top;\n",
       "    }\n",
       "\n",
       "    .dataframe thead th {\n",
       "        text-align: right;\n",
       "    }\n",
       "</style>\n",
       "<table border=\"1\" class=\"dataframe\">\n",
       "  <thead>\n",
       "    <tr style=\"text-align: right;\">\n",
       "      <th></th>\n",
       "      <th>sequence</th>\n",
       "      <th>locus</th>\n",
       "      <th>stop_codon</th>\n",
       "      <th>vj_in_frame</th>\n",
       "      <th>v_frameshift</th>\n",
       "      <th>productive</th>\n",
       "      <th>rev_comp</th>\n",
       "      <th>complete_vdj</th>\n",
       "      <th>v_call</th>\n",
       "      <th>d_call</th>\n",
       "      <th>...</th>\n",
       "      <th>BType</th>\n",
       "      <th>Subject</th>\n",
       "      <th>Disease</th>\n",
       "      <th>Vaccine</th>\n",
       "      <th>Longitudinal</th>\n",
       "      <th>Chain</th>\n",
       "      <th>Unique sequences</th>\n",
       "      <th>Isotype</th>\n",
       "      <th>Total sequences</th>\n",
       "      <th>Identity</th>\n",
       "    </tr>\n",
       "  </thead>\n",
       "  <tbody>\n",
       "    <tr>\n",
       "      <th>0</th>\n",
       "      <td>CGCAGGAGGGTGTTTACTCTCAGGTCCAGCTGCAACAATCTGGGGC...</td>\n",
       "      <td>H</td>\n",
       "      <td>F</td>\n",
       "      <td>T</td>\n",
       "      <td>F</td>\n",
       "      <td>T</td>\n",
       "      <td>F</td>\n",
       "      <td>T</td>\n",
       "      <td>IGHV1-28*01</td>\n",
       "      <td>NaN</td>\n",
       "      <td>...</td>\n",
       "      <td>Unsorted-B-Cells</td>\n",
       "      <td>no</td>\n",
       "      <td>None</td>\n",
       "      <td>HuD</td>\n",
       "      <td>no</td>\n",
       "      <td>Heavy</td>\n",
       "      <td>156152</td>\n",
       "      <td>IGHG</td>\n",
       "      <td>438157</td>\n",
       "      <td>0.766082</td>\n",
       "    </tr>\n",
       "    <tr>\n",
       "      <th>1</th>\n",
       "      <td>AAGCGGTGTCTACTCCCAGGTTCAGCTGCAGCAATCTGGGGCTGAG...</td>\n",
       "      <td>H</td>\n",
       "      <td>F</td>\n",
       "      <td>T</td>\n",
       "      <td>F</td>\n",
       "      <td>T</td>\n",
       "      <td>T</td>\n",
       "      <td>T</td>\n",
       "      <td>IGHV1-28*01</td>\n",
       "      <td>IGHD1-12*02</td>\n",
       "      <td>...</td>\n",
       "      <td>Unsorted-B-Cells</td>\n",
       "      <td>no</td>\n",
       "      <td>None</td>\n",
       "      <td>HuD</td>\n",
       "      <td>no</td>\n",
       "      <td>Heavy</td>\n",
       "      <td>92608</td>\n",
       "      <td>IGHA</td>\n",
       "      <td>123653</td>\n",
       "      <td>0.754555</td>\n",
       "    </tr>\n",
       "    <tr>\n",
       "      <th>2</th>\n",
       "      <td>TAACGGTGTCTACTCTCAGGTTCAGCTGCAGCAATCTGGGGCTGAG...</td>\n",
       "      <td>H</td>\n",
       "      <td>F</td>\n",
       "      <td>T</td>\n",
       "      <td>F</td>\n",
       "      <td>T</td>\n",
       "      <td>F</td>\n",
       "      <td>T</td>\n",
       "      <td>IGHV1-28*01</td>\n",
       "      <td>IGHD1-12*02</td>\n",
       "      <td>...</td>\n",
       "      <td>Unsorted-B-Cells</td>\n",
       "      <td>no</td>\n",
       "      <td>None</td>\n",
       "      <td>HuD</td>\n",
       "      <td>no</td>\n",
       "      <td>Heavy</td>\n",
       "      <td>92608</td>\n",
       "      <td>IGHA</td>\n",
       "      <td>123653</td>\n",
       "      <td>0.746353</td>\n",
       "    </tr>\n",
       "    <tr>\n",
       "      <th>3</th>\n",
       "      <td>ATTCAGGTGTTCACTCTCAGGTTCAGCTGCAGCAATCTGGGGCTGA...</td>\n",
       "      <td>H</td>\n",
       "      <td>F</td>\n",
       "      <td>T</td>\n",
       "      <td>F</td>\n",
       "      <td>T</td>\n",
       "      <td>T</td>\n",
       "      <td>T</td>\n",
       "      <td>IGHV1-28*01</td>\n",
       "      <td>IGHD4-3*01</td>\n",
       "      <td>...</td>\n",
       "      <td>Unsorted-B-Cells</td>\n",
       "      <td>no</td>\n",
       "      <td>None</td>\n",
       "      <td>HuD</td>\n",
       "      <td>no</td>\n",
       "      <td>Heavy</td>\n",
       "      <td>433065</td>\n",
       "      <td>IGHG</td>\n",
       "      <td>757476</td>\n",
       "      <td>0.745816</td>\n",
       "    </tr>\n",
       "  </tbody>\n",
       "</table>\n",
       "<p>4 rows × 113 columns</p>\n",
       "</div>"
      ],
      "text/plain": [
       "                                            sequence locus stop_codon  \\\n",
       "0  CGCAGGAGGGTGTTTACTCTCAGGTCCAGCTGCAACAATCTGGGGC...     H          F   \n",
       "1  AAGCGGTGTCTACTCCCAGGTTCAGCTGCAGCAATCTGGGGCTGAG...     H          F   \n",
       "2  TAACGGTGTCTACTCTCAGGTTCAGCTGCAGCAATCTGGGGCTGAG...     H          F   \n",
       "3  ATTCAGGTGTTCACTCTCAGGTTCAGCTGCAGCAATCTGGGGCTGA...     H          F   \n",
       "\n",
       "  vj_in_frame v_frameshift productive rev_comp complete_vdj       v_call  \\\n",
       "0           T            F          T        F            T  IGHV1-28*01   \n",
       "1           T            F          T        T            T  IGHV1-28*01   \n",
       "2           T            F          T        F            T  IGHV1-28*01   \n",
       "3           T            F          T        T            T  IGHV1-28*01   \n",
       "\n",
       "        d_call  ...             BType Subject Disease Vaccine Longitudinal  \\\n",
       "0          NaN  ...  Unsorted-B-Cells      no    None     HuD           no   \n",
       "1  IGHD1-12*02  ...  Unsorted-B-Cells      no    None     HuD           no   \n",
       "2  IGHD1-12*02  ...  Unsorted-B-Cells      no    None     HuD           no   \n",
       "3   IGHD4-3*01  ...  Unsorted-B-Cells      no    None     HuD           no   \n",
       "\n",
       "   Chain  Unique sequences  Isotype  Total sequences  Identity  \n",
       "0  Heavy            156152     IGHG           438157  0.766082  \n",
       "1  Heavy             92608     IGHA           123653  0.754555  \n",
       "2  Heavy             92608     IGHA           123653  0.746353  \n",
       "3  Heavy            433065     IGHG           757476  0.745816  \n",
       "\n",
       "[4 rows x 113 columns]"
      ]
     },
     "execution_count": 8,
     "metadata": {},
     "output_type": "execute_result"
    }
   ],
   "source": [
    "n_best_sequences = oasdb.get_meta(n_query = 0,          # Which query to extract meta data from\n",
    "                                  n_region = 0,         # Which region to extract meta data from\n",
    "                                  n_sequences = 'all',  # Number of sequences to extract (default is all, which is keep_best_n)\n",
    "                                  n_jobs=10             # Allocated number for jobs/threads for the extraction\n",
    "                                 )\n",
    "n_best_sequences"
   ]
  },
  {
   "cell_type": "markdown",
   "id": "9ee5b315-111d-4a01-919a-841b0b48b0f8",
   "metadata": {},
   "source": [
    "----------\n",
    "## Create custom database\n",
    "\n",
    "\n",
    "To create your own database you first need to create a csv file in the OAS format. For an example file, look at data/custom-data-example.csv. This file consists of a dictionary containing the metadata in the first line and then rows of the individual sequences afterwards. Only the Species and Chain is strictly needed in the metadata, and only the amino acids sequence of the antibodies is required for each antibody sequence.\n",
    "\n",
    "### 1. Format your data into OAS files"
   ]
  },
  {
   "cell_type": "code",
   "execution_count": 9,
   "id": "f07a5cef-7e66-4c5b-b150-59a07554f93d",
   "metadata": {},
   "outputs": [],
   "source": [
    "import json\n",
    "import os\n",
    "import pandas as pd\n",
    "\n",
    "from kasearch.species_anarci import number\n",
    "from kasearch.merge_db import merge_files"
   ]
  },
  {
   "cell_type": "code",
   "execution_count": 10,
   "id": "17165675-2b54-4f31-8c2e-8269e2cfc999",
   "metadata": {},
   "outputs": [],
   "source": [
    "metadata = {\"Species\":\"Human\", \"Chain\":\"Heavy\"}\n",
    "metadata = pd.Series(name=json.dumps(metadata), dtype='object')\n",
    "seqsdata = pd.DataFrame([[\"EVQLVESGGGLAKPGGSLRLHCAASGFAFSSYWMNWVRQAPGKRLEWVSAINLGGGLTYYAASVKGRFTISRDNSKNTLSLQMNSLRAEDTAVYYCATDYCSSTYCSPVGDYWGQGVLVTVSS\"],\n",
    "                          [\"EVQLVQSGAEVKRPGESLKISCKTSGYSFTSYWISWVRQMPGKGLEWMGAIDPSDSDTRYNPSFQGQVTISADKSISTAYLQWSRLKASDTATYYCAIKKYCTGSGCRRWYFDLWGPGT\"]\n",
    "                         ], columns = ['sequence_alignment_aa'])"
   ]
  },
  {
   "cell_type": "code",
   "execution_count": 11,
   "id": "4ef0325e-74dd-4961-82b6-d88d2d3b6cd2",
   "metadata": {},
   "outputs": [],
   "source": [
    "save_file = \"../data/custom-data-example-2.csv\"\n",
    "metadata.to_csv(save_file, index=False)\n",
    "seqsdata.to_csv(save_file, index=False, mode='a')"
   ]
  },
  {
   "cell_type": "markdown",
   "id": "486c8742-e8e4-4d69-b500-4e9b3b34d8ab",
   "metadata": {},
   "source": [
    "### 2. Turn your OAS formatted files into a custom database\n",
    "\n",
    "After creating all the files you want to include in the new database, you can run the following code to create the database."
   ]
  },
  {
   "cell_type": "code",
   "execution_count": 12,
   "id": "a1913f01-9100-428f-b0ab-c41b5f2ac4ce",
   "metadata": {},
   "outputs": [],
   "source": [
    "db_folder = \"../data/my_db\"\n",
    "db_files = ['../data/custom-data-example.csv']"
   ]
  },
  {
   "cell_type": "code",
   "execution_count": 13,
   "id": "ea1a4e7f-f0a0-4747-a545-e8676769f599",
   "metadata": {
    "tags": []
   },
   "outputs": [],
   "source": [
    "newDB = PrepareDB(db_path=db_folder)\n",
    "\n",
    "db_dict = {}\n",
    "for num, data_unit_file in enumerate(db_files):\n",
    "\n",
    "    db_dict[num] = data_unit_file\n",
    "    \n",
    "    metadata = json.loads(','.join(pd.read_csv(data_unit_file, nrows=0).columns))\n",
    "    seqsdata = pd.read_csv(data_unit_file, header=1, usecols=['sequence_alignment_aa']).iloc[:,0].values\n",
    "    numbered_sequences = [number(sequence, allowed_species=None)[0] for sequence in seqsdata]\n",
    "\n",
    "    newDB.prepare_database(numbered_sequences, \n",
    "                           file_id=num, \n",
    "                           chain=metadata['Chain'], \n",
    "                           species=metadata['Species'])\n",
    "    \n",
    "newDB.save_database()\n",
    "\n",
    "merge_files(db_folder)\n",
    "\n",
    "with open(os.path.join(db_folder, \"id_to_study.txt\"), \"w\") as handle: handle.write(str(db_dict))"
   ]
  },
  {
   "cell_type": "markdown",
   "id": "dbf8a980-c639-4850-add9-15f045810e48",
   "metadata": {},
   "source": [
    "### 3. Initiate the search class with your custom database\n"
   ]
  },
  {
   "cell_type": "code",
   "execution_count": 14,
   "id": "a39722cf-b564-4038-b6ac-09560ac30b15",
   "metadata": {},
   "outputs": [],
   "source": [
    "mydb = SearchDB(database_path=db_folder,      # Path to your database. Default will be to download a prepared version of OAS.\n",
    "                 allowed_chain='Heavy',       # Search against a specific chain. Default is any chain.\n",
    "                 allowed_species='Any',       # Search against a specific species. Default is any species.\n",
    "                 n_jobs=1                     # Allocated number for jobs/threads for the search.\n",
    "                )"
   ]
  }
 ],
 "metadata": {
  "kernelspec": {
   "display_name": "Python [conda env:kasearch]",
   "language": "python",
   "name": "conda-env-kasearch-py"
  },
  "language_info": {
   "codemirror_mode": {
    "name": "ipython",
    "version": 3
   },
   "file_extension": ".py",
   "mimetype": "text/x-python",
   "name": "python",
   "nbconvert_exporter": "python",
   "pygments_lexer": "ipython3",
   "version": "3.8.13"
  }
 },
 "nbformat": 4,
 "nbformat_minor": 5
}
