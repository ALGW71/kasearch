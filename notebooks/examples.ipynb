{
 "cells": [
  {
   "cell_type": "code",
   "execution_count": 1,
   "metadata": {},
   "outputs": [],
   "source": [
    "%load_ext autoreload\n",
    "%autoreload 2\n",
    "\n",
    "import os\n",
    "\n",
    "import pandas as pd\n",
    "\n",
    "from kasearch import AlignSequences, PrepareDB, SearchDB, ExtractMetadata"
   ]
  },
  {
   "cell_type": "markdown",
   "metadata": {},
   "source": [
    "## Prepare query sequence (sequence to search with)"
   ]
  },
  {
   "cell_type": "code",
   "execution_count": 2,
   "metadata": {},
   "outputs": [],
   "source": [
    "raw_queries = [\n",
    "    'QVKLQESGAELARPGASVKLSCKASGYTFTNYWMQWVKQRPGQGLDWIGAIYPGDGNTRYTHKFKGKATLTADKSSSTAYMQLSSLASEDSGVYYCARGEGNYAWFAYWGQGTTVTVSS',\n",
    "    'EVQLQQSGTVLARPGASVKMSCEASGYTFTNYWMHWVKQRPGQGLEWIGAIYPGNSDTSYIQKFKGKAKLTAVTSTTSVYMELSSLTNEDSAVYYCTLYDGYYVFAYWGQGTLVTVSA',\n",
    "]"
   ]
  },
  {
   "cell_type": "code",
   "execution_count": 3,
   "metadata": {
    "tags": []
   },
   "outputs": [
    {
     "data": {
      "text/plain": [
       "array([[81, 86, 75,  0, 76, 81, 69, 83, 71, 65,  0, 69, 76, 65, 82, 80,\n",
       "        71, 65, 83, 86, 75, 76, 83, 67, 75, 65, 83, 71, 89, 84, 70,  0,\n",
       "         0,  0,  0,  0,  0,  0,  0,  0, 84, 78, 89, 87, 77, 81,  0, 87,\n",
       "        86, 75, 81,  0, 82,  0, 80,  0, 71,  0, 81,  0,  0, 71,  0, 76,\n",
       "        68,  0, 87, 73, 71, 65, 73, 89, 80, 71,  0,  0,  0,  0,  0,  0,\n",
       "         0,  0,  0,  0,  0, 68, 71, 78, 84, 82, 89,  0,  0, 84,  0,  0,\n",
       "        72,  0,  0, 75, 70,  0,  0, 75,  0,  0,  0, 71, 75, 65, 84, 76,\n",
       "        84, 65,  0, 68,  0,  0,  0, 75,  0, 83,  0,  0, 83, 83,  0,  0,\n",
       "         0,  0, 84,  0, 65, 89, 77, 81, 76, 83, 83, 76, 65, 83,  0, 69,\n",
       "        68, 83, 71, 86, 89, 89, 67, 65, 82, 71, 69, 71, 78,  0,  0,  0,\n",
       "         0,  0,  0,  0,  0,  0,  0,  0,  0,  0,  0,  0,  0,  0,  0,  0,\n",
       "         0,  0,  0,  0,  0,  0, 89, 65, 87, 70, 65, 89, 87, 71,  0, 81,\n",
       "        71, 84, 84, 86, 84, 86, 83, 83],\n",
       "       [69, 86, 81,  0, 76, 81, 81, 83, 71, 84,  0, 86, 76, 65, 82, 80,\n",
       "        71, 65, 83, 86, 75, 77, 83, 67, 69, 65, 83, 71, 89, 84, 70,  0,\n",
       "         0,  0,  0,  0,  0,  0,  0,  0, 84, 78, 89, 87, 77, 72,  0, 87,\n",
       "        86, 75, 81,  0, 82,  0, 80,  0, 71,  0, 81,  0,  0, 71,  0, 76,\n",
       "        69,  0, 87, 73, 71, 65, 73, 89, 80, 71,  0,  0,  0,  0,  0,  0,\n",
       "         0,  0,  0,  0,  0, 78, 83, 68, 84, 83, 89,  0,  0, 73,  0,  0,\n",
       "        81,  0,  0, 75, 70,  0,  0, 75,  0,  0,  0, 71, 75, 65, 75, 76,\n",
       "        84, 65,  0, 86,  0,  0,  0, 84,  0, 83,  0,  0, 84, 84,  0,  0,\n",
       "         0,  0, 83,  0, 86, 89, 77, 69, 76, 83, 83, 76, 84, 78,  0, 69,\n",
       "        68, 83, 65, 86, 89, 89, 67, 84, 76, 89, 68, 71, 89,  0,  0,  0,\n",
       "         0,  0,  0,  0,  0,  0,  0,  0,  0,  0,  0,  0,  0,  0,  0,  0,\n",
       "         0,  0,  0,  0,  0,  0,  0, 89, 86, 70, 65, 89, 87, 71,  0, 81,\n",
       "        71, 84, 76, 86, 84, 86, 83, 65]], dtype=int8)"
      ]
     },
     "execution_count": 3,
     "metadata": {},
     "output_type": "execute_result"
    }
   ],
   "source": [
    "query_db = AlignSequences(raw_queries, # Sequences as strings to align.\n",
    "                          n_jobs=2     # Allocated number for jobs/threads for the search.\n",
    "                         )\n",
    "query_db.db.aligned_seqs"
   ]
  },
  {
   "cell_type": "markdown",
   "metadata": {},
   "source": [
    "--------------\n",
    "## Initiate search class \n",
    "\n",
    "- Default will download a prepared version of OAS to search against\n",
    "- Alternatively, you can give it the path for a custom database to search against. (See below for how to create a custom database)."
   ]
  },
  {
   "cell_type": "code",
   "execution_count": null,
   "metadata": {},
   "outputs": [],
   "source": []
  },
  {
   "cell_type": "code",
   "execution_count": 17,
   "metadata": {},
   "outputs": [],
   "source": [
    "DB_PATH = \"../data/db-example/\"\n",
    "\n",
    "oasdb = SearchDB(database_path=DB_PATH,       # Path to your database. Default will be to download a prepared version of OAS.\n",
    "                 allowed_chain='Heavy',       # Search against a specific chain. Default is any chain.\n",
    "                 allowed_species='Any',       # Search against a specific species. Default is any species.\n",
    "                 n_jobs=1                 # Allocated number for jobs/threads for the search.\n",
    "                )"
   ]
  },
  {
   "cell_type": "markdown",
   "metadata": {},
   "source": [
    "-----------\n",
    "## Run search\n",
    "\n",
    "A search against all of OAS takes ~2min for each sequence.\n"
   ]
  },
  {
   "cell_type": "code",
   "execution_count": 18,
   "metadata": {},
   "outputs": [
    {
     "name": "stdout",
     "output_type": "stream",
     "text": [
      "1.05 s ± 11.4 ms per loop (mean ± std. dev. of 7 runs, 1 loop each)\n"
     ]
    }
   ],
   "source": [
    "%%timeit\n",
    "\n",
    "oasdb.search(query_db.db.aligned_seqs[0], # Input can only be a single aligned sequence at a time.\n",
    "             keep_best_n=10,               # You can define how many most similar sequences to return\n",
    "             reset_best=True              # In cases where you want to search with the same sequence against multiple databases, you might want to not reset_best. (True is default)\n",
    "            )             "
   ]
  },
  {
   "cell_type": "markdown",
   "metadata": {},
   "source": [
    "### Get N best identities\n",
    "\n",
    "Identities of the most similar sequence (1st column), CDRs (2nd column) and CDR3 (3rd column) in all of OAS, can be fetched from the object with the bellow command."
   ]
  },
  {
   "cell_type": "code",
   "execution_count": 20,
   "metadata": {},
   "outputs": [
    {
     "data": {
      "text/plain": [
       "array([[0.53370893, 0.5300752 , 0.5833333 ],\n",
       "       [0.53370893, 0.5275974 , 0.5833333 ],\n",
       "       [0.51995796, 0.51475155, 0.5833333 ],\n",
       "       [0.51073253, 0.51428574, 0.5833333 ],\n",
       "       [0.50833446, 0.51428574, 0.5833333 ],\n",
       "       [0.50770307, 0.5       , 0.5833333 ],\n",
       "       [0.5073892 , 0.48590225, 0.5833333 ],\n",
       "       [0.50597703, 0.47268906, 0.5833333 ],\n",
       "       [0.50597703, 0.47268906, 0.5608974 ],\n",
       "       [0.5052413 , 0.4642857 , 0.5608974 ]], dtype=float32)"
      ]
     },
     "execution_count": 20,
     "metadata": {},
     "output_type": "execute_result"
    }
   ],
   "source": [
    "oasdb.current_best_identities"
   ]
  },
  {
   "cell_type": "code",
   "execution_count": 7,
   "metadata": {},
   "outputs": [
    {
     "data": {
      "text/plain": [
       "array([[0.53370893, 0.5300752 , 0.5833333 ],\n",
       "       [0.53370893, 0.5275974 , 0.5833333 ],\n",
       "       [0.51995796, 0.51475155, 0.5833333 ],\n",
       "       [0.50833446, 0.51428574, 0.5833333 ],\n",
       "       [0.50770307, 0.51428574, 0.5833333 ],\n",
       "       [0.5073892 , 0.5       , 0.5833333 ],\n",
       "       [0.50597703, 0.48590225, 0.5833333 ],\n",
       "       [0.50597703, 0.47268906, 0.5833333 ],\n",
       "       [0.5052413 , 0.47268906, 0.5       ],\n",
       "       [0.5046628 , 0.4642857 , 0.5       ]], dtype=float32)"
      ]
     },
     "execution_count": 7,
     "metadata": {},
     "output_type": "execute_result"
    }
   ],
   "source": [
    "oasdb.current_best_identities"
   ]
  },
  {
   "cell_type": "markdown",
   "metadata": {},
   "source": [
    "### Get ID's of sequences with the N best identities\n",
    "\n",
    "ID's of the most similar sequence (1st column), CDRs (2nd column) and CDR3 (3rd column) in all of OAS, can be fetched from the object with the bellow command. \n",
    "\n",
    "With ExtractMetadata, these ID's can be used to extract the sequence and its meta data (species, isotype, whole sequence etc.)."
   ]
  },
  {
   "cell_type": "code",
   "execution_count": 8,
   "metadata": {},
   "outputs": [
    {
     "data": {
      "text/plain": [
       "array([[[   7, 1705],\n",
       "        [   9, 1021],\n",
       "        [   1,    0]],\n",
       "\n",
       "       [[   6,  365],\n",
       "        [   9,   74],\n",
       "        [   1,  229]],\n",
       "\n",
       "       [[   3,  108],\n",
       "        [   9,  964],\n",
       "        [   1,  274]],\n",
       "\n",
       "       [[   5,  466],\n",
       "        [   9,  327],\n",
       "        [   3, 1611]],\n",
       "\n",
       "       [[   8,   21],\n",
       "        [   9,  658],\n",
       "        [   1, 1022]],\n",
       "\n",
       "       [[   9,  952],\n",
       "        [   9,  796],\n",
       "        [   1,  638]],\n",
       "\n",
       "       [[   7, 1557],\n",
       "        [   3,  740],\n",
       "        [   1,  290]],\n",
       "\n",
       "       [[   5,   82],\n",
       "        [   3, 2306],\n",
       "        [   1,  728]],\n",
       "\n",
       "       [[   9,  200],\n",
       "        [   3,  108],\n",
       "        [   3, 2067]],\n",
       "\n",
       "       [[   9,  151],\n",
       "        [   9,  243],\n",
       "        [   6,  528]]], dtype=int32)"
      ]
     },
     "execution_count": 8,
     "metadata": {},
     "output_type": "execute_result"
    }
   ],
   "source": [
    "oasdb.current_best_ids"
   ]
  },
  {
   "cell_type": "markdown",
   "metadata": {},
   "source": [
    "---------\n",
    "## Extract the meta data from matched sequences\n",
    "\n",
    "\n",
    "The meta data for the N best of the different regions, can be extracted with the following indexes.\n",
    "- 0: whole sequence\n",
    "- 1: CDRs\n",
    "- 2: CDR3\n",
    "\n",
    "e.g. \"oasdb.current_best_ids\\[:,0\\]\\\" returns meta data for the N best whole sequence identities.\n",
    "\n",
    "NB: The column \"sequence_alignment_aa\" holds the antibody sequence."
   ]
  },
  {
   "cell_type": "code",
   "execution_count": 9,
   "metadata": {},
   "outputs": [],
   "source": [
    "meta_db = ExtractMetadata()"
   ]
  },
  {
   "cell_type": "code",
   "execution_count": 10,
   "metadata": {
    "tags": []
   },
   "outputs": [
    {
     "data": {
      "text/html": [
       "<div>\n",
       "<style scoped>\n",
       "    .dataframe tbody tr th:only-of-type {\n",
       "        vertical-align: middle;\n",
       "    }\n",
       "\n",
       "    .dataframe tbody tr th {\n",
       "        vertical-align: top;\n",
       "    }\n",
       "\n",
       "    .dataframe thead th {\n",
       "        text-align: right;\n",
       "    }\n",
       "</style>\n",
       "<table border=\"1\" class=\"dataframe\">\n",
       "  <thead>\n",
       "    <tr style=\"text-align: right;\">\n",
       "      <th></th>\n",
       "      <th>sequence</th>\n",
       "      <th>locus</th>\n",
       "      <th>stop_codon</th>\n",
       "      <th>vj_in_frame</th>\n",
       "      <th>v_frameshift</th>\n",
       "      <th>productive</th>\n",
       "      <th>rev_comp</th>\n",
       "      <th>complete_vdj</th>\n",
       "      <th>v_call</th>\n",
       "      <th>d_call</th>\n",
       "      <th>...</th>\n",
       "      <th>BType</th>\n",
       "      <th>Vaccine</th>\n",
       "      <th>Disease</th>\n",
       "      <th>Subject</th>\n",
       "      <th>Longitudinal</th>\n",
       "      <th>Organism</th>\n",
       "      <th>Unique sequences</th>\n",
       "      <th>Total sequences</th>\n",
       "      <th>Isotype</th>\n",
       "      <th>Chain</th>\n",
       "    </tr>\n",
       "  </thead>\n",
       "  <tbody>\n",
       "    <tr>\n",
       "      <th>0</th>\n",
       "      <td>GTGGCTGGGAAGGACATACTACAGGTCCAAGTGGTATAATGAATAT...</td>\n",
       "      <td>H</td>\n",
       "      <td>F</td>\n",
       "      <td>T</td>\n",
       "      <td>F</td>\n",
       "      <td>T</td>\n",
       "      <td>F</td>\n",
       "      <td>F</td>\n",
       "      <td>IGHV6-1*01</td>\n",
       "      <td>NaN</td>\n",
       "      <td>...</td>\n",
       "      <td>ASC</td>\n",
       "      <td>None</td>\n",
       "      <td>SARS-COV-2</td>\n",
       "      <td>Patient-1</td>\n",
       "      <td>no</td>\n",
       "      <td>human</td>\n",
       "      <td>3323</td>\n",
       "      <td>6909</td>\n",
       "      <td>IGHM</td>\n",
       "      <td>Heavy</td>\n",
       "    </tr>\n",
       "    <tr>\n",
       "      <th>1</th>\n",
       "      <td>TGGGGTTTTGATCCTGAAGATGGTGAAACAATATACGCACAGAAGT...</td>\n",
       "      <td>H</td>\n",
       "      <td>F</td>\n",
       "      <td>T</td>\n",
       "      <td>F</td>\n",
       "      <td>T</td>\n",
       "      <td>T</td>\n",
       "      <td>F</td>\n",
       "      <td>IGHV1-24*01</td>\n",
       "      <td>IGHD3-10*01</td>\n",
       "      <td>...</td>\n",
       "      <td>ASC</td>\n",
       "      <td>None</td>\n",
       "      <td>SARS-COV-2</td>\n",
       "      <td>Patient-1</td>\n",
       "      <td>no</td>\n",
       "      <td>human</td>\n",
       "      <td>1184</td>\n",
       "      <td>1602</td>\n",
       "      <td>IGHG</td>\n",
       "      <td>Heavy</td>\n",
       "    </tr>\n",
       "    <tr>\n",
       "      <th>2</th>\n",
       "      <td>CTAGTGATCTTGCCGTGCGTCGAGGCTCTCTGATATCGGGATTCAC...</td>\n",
       "      <td>H</td>\n",
       "      <td>F</td>\n",
       "      <td>T</td>\n",
       "      <td>F</td>\n",
       "      <td>T</td>\n",
       "      <td>F</td>\n",
       "      <td>F</td>\n",
       "      <td>IGHV3-48*03</td>\n",
       "      <td>IGHD3-10*01</td>\n",
       "      <td>...</td>\n",
       "      <td>Naive-B-Cells</td>\n",
       "      <td>None</td>\n",
       "      <td>SARS-COV-2</td>\n",
       "      <td>Patient-1</td>\n",
       "      <td>no</td>\n",
       "      <td>human</td>\n",
       "      <td>2423</td>\n",
       "      <td>8445</td>\n",
       "      <td>IGHM</td>\n",
       "      <td>Heavy</td>\n",
       "    </tr>\n",
       "    <tr>\n",
       "      <th>3</th>\n",
       "      <td>TTCACCATCTCCAGAGACAATTCCAAGAACACGCTGTATCTGCAAA...</td>\n",
       "      <td>H</td>\n",
       "      <td>F</td>\n",
       "      <td>T</td>\n",
       "      <td>F</td>\n",
       "      <td>T</td>\n",
       "      <td>T</td>\n",
       "      <td>F</td>\n",
       "      <td>IGHV3-23*01</td>\n",
       "      <td>IGHD1-1*01</td>\n",
       "      <td>...</td>\n",
       "      <td>Naive-B-Cells</td>\n",
       "      <td>None</td>\n",
       "      <td>SARS-COV-2</td>\n",
       "      <td>Patient-1</td>\n",
       "      <td>no</td>\n",
       "      <td>human</td>\n",
       "      <td>491</td>\n",
       "      <td>1234</td>\n",
       "      <td>IGHD</td>\n",
       "      <td>Heavy</td>\n",
       "    </tr>\n",
       "    <tr>\n",
       "      <th>4</th>\n",
       "      <td>GGGTGCGACAGGCCCCTGGACAAGGGCTTGAGTGGATGGGAGGGAT...</td>\n",
       "      <td>H</td>\n",
       "      <td>F</td>\n",
       "      <td>T</td>\n",
       "      <td>F</td>\n",
       "      <td>T</td>\n",
       "      <td>T</td>\n",
       "      <td>F</td>\n",
       "      <td>IGHV1-69*01</td>\n",
       "      <td>IGHD3-10*01</td>\n",
       "      <td>...</td>\n",
       "      <td>Naive-B-Cells</td>\n",
       "      <td>None</td>\n",
       "      <td>SARS-COV-2</td>\n",
       "      <td>Patient-1</td>\n",
       "      <td>no</td>\n",
       "      <td>human</td>\n",
       "      <td>33</td>\n",
       "      <td>84</td>\n",
       "      <td>IGHG</td>\n",
       "      <td>Heavy</td>\n",
       "    </tr>\n",
       "    <tr>\n",
       "      <th>5</th>\n",
       "      <td>GCCTCTATCGCGATCGGCAGAGCTCATATCTTATATCCTGGAAGCA...</td>\n",
       "      <td>H</td>\n",
       "      <td>F</td>\n",
       "      <td>T</td>\n",
       "      <td>F</td>\n",
       "      <td>T</td>\n",
       "      <td>F</td>\n",
       "      <td>F</td>\n",
       "      <td>IGHV4-34*01</td>\n",
       "      <td>IGHD3-10*01</td>\n",
       "      <td>...</td>\n",
       "      <td>Naive-B-Cells</td>\n",
       "      <td>None</td>\n",
       "      <td>SARS-COV-2</td>\n",
       "      <td>Patient-1</td>\n",
       "      <td>no</td>\n",
       "      <td>human</td>\n",
       "      <td>2619</td>\n",
       "      <td>4005</td>\n",
       "      <td>Bulk</td>\n",
       "      <td>Heavy</td>\n",
       "    </tr>\n",
       "    <tr>\n",
       "      <th>6</th>\n",
       "      <td>AAATGCCTCATCGCTCGGCTCCGGGCTATCTTAGCTGCGAAGCAAA...</td>\n",
       "      <td>H</td>\n",
       "      <td>F</td>\n",
       "      <td>T</td>\n",
       "      <td>F</td>\n",
       "      <td>T</td>\n",
       "      <td>T</td>\n",
       "      <td>F</td>\n",
       "      <td>IGHV3-15*01</td>\n",
       "      <td>IGHD3-22*01</td>\n",
       "      <td>...</td>\n",
       "      <td>ASC</td>\n",
       "      <td>None</td>\n",
       "      <td>SARS-COV-2</td>\n",
       "      <td>Patient-1</td>\n",
       "      <td>no</td>\n",
       "      <td>human</td>\n",
       "      <td>3323</td>\n",
       "      <td>6909</td>\n",
       "      <td>IGHM</td>\n",
       "      <td>Heavy</td>\n",
       "    </tr>\n",
       "    <tr>\n",
       "      <th>7</th>\n",
       "      <td>ACAATCTACGCACAGAAGTTCCAGGGCAGAGTCACCATGACCGAGG...</td>\n",
       "      <td>H</td>\n",
       "      <td>F</td>\n",
       "      <td>T</td>\n",
       "      <td>F</td>\n",
       "      <td>T</td>\n",
       "      <td>T</td>\n",
       "      <td>F</td>\n",
       "      <td>IGHV1-24*01</td>\n",
       "      <td>NaN</td>\n",
       "      <td>...</td>\n",
       "      <td>Naive-B-Cells</td>\n",
       "      <td>None</td>\n",
       "      <td>SARS-COV-2</td>\n",
       "      <td>Patient-1</td>\n",
       "      <td>no</td>\n",
       "      <td>human</td>\n",
       "      <td>491</td>\n",
       "      <td>1234</td>\n",
       "      <td>IGHD</td>\n",
       "      <td>Heavy</td>\n",
       "    </tr>\n",
       "    <tr>\n",
       "      <th>8</th>\n",
       "      <td>CTCGGGAGTTGGAGGTTCGAATCGTCTTTCTTATATCTGGGGGCTG...</td>\n",
       "      <td>H</td>\n",
       "      <td>F</td>\n",
       "      <td>T</td>\n",
       "      <td>F</td>\n",
       "      <td>T</td>\n",
       "      <td>F</td>\n",
       "      <td>F</td>\n",
       "      <td>IGHV4-38-2*01</td>\n",
       "      <td>IGHD2-15*01</td>\n",
       "      <td>...</td>\n",
       "      <td>Naive-B-Cells</td>\n",
       "      <td>None</td>\n",
       "      <td>SARS-COV-2</td>\n",
       "      <td>Patient-1</td>\n",
       "      <td>no</td>\n",
       "      <td>human</td>\n",
       "      <td>2619</td>\n",
       "      <td>4005</td>\n",
       "      <td>Bulk</td>\n",
       "      <td>Heavy</td>\n",
       "    </tr>\n",
       "    <tr>\n",
       "      <th>9</th>\n",
       "      <td>TGGTTCCAGGACGAAAACCATCACCGATTCTTATATCCGGGAGCTA...</td>\n",
       "      <td>H</td>\n",
       "      <td>F</td>\n",
       "      <td>T</td>\n",
       "      <td>F</td>\n",
       "      <td>T</td>\n",
       "      <td>F</td>\n",
       "      <td>F</td>\n",
       "      <td>IGHV3-30*18</td>\n",
       "      <td>IGHD3-10*01</td>\n",
       "      <td>...</td>\n",
       "      <td>Naive-B-Cells</td>\n",
       "      <td>None</td>\n",
       "      <td>SARS-COV-2</td>\n",
       "      <td>Patient-1</td>\n",
       "      <td>no</td>\n",
       "      <td>human</td>\n",
       "      <td>2619</td>\n",
       "      <td>4005</td>\n",
       "      <td>Bulk</td>\n",
       "      <td>Heavy</td>\n",
       "    </tr>\n",
       "  </tbody>\n",
       "</table>\n",
       "<p>10 rows × 113 columns</p>\n",
       "</div>"
      ],
      "text/plain": [
       "                                            sequence locus stop_codon  \\\n",
       "0  GTGGCTGGGAAGGACATACTACAGGTCCAAGTGGTATAATGAATAT...     H          F   \n",
       "1  TGGGGTTTTGATCCTGAAGATGGTGAAACAATATACGCACAGAAGT...     H          F   \n",
       "2  CTAGTGATCTTGCCGTGCGTCGAGGCTCTCTGATATCGGGATTCAC...     H          F   \n",
       "3  TTCACCATCTCCAGAGACAATTCCAAGAACACGCTGTATCTGCAAA...     H          F   \n",
       "4  GGGTGCGACAGGCCCCTGGACAAGGGCTTGAGTGGATGGGAGGGAT...     H          F   \n",
       "5  GCCTCTATCGCGATCGGCAGAGCTCATATCTTATATCCTGGAAGCA...     H          F   \n",
       "6  AAATGCCTCATCGCTCGGCTCCGGGCTATCTTAGCTGCGAAGCAAA...     H          F   \n",
       "7  ACAATCTACGCACAGAAGTTCCAGGGCAGAGTCACCATGACCGAGG...     H          F   \n",
       "8  CTCGGGAGTTGGAGGTTCGAATCGTCTTTCTTATATCTGGGGGCTG...     H          F   \n",
       "9  TGGTTCCAGGACGAAAACCATCACCGATTCTTATATCCGGGAGCTA...     H          F   \n",
       "\n",
       "  vj_in_frame v_frameshift productive rev_comp complete_vdj         v_call  \\\n",
       "0           T            F          T        F            F     IGHV6-1*01   \n",
       "1           T            F          T        T            F    IGHV1-24*01   \n",
       "2           T            F          T        F            F    IGHV3-48*03   \n",
       "3           T            F          T        T            F    IGHV3-23*01   \n",
       "4           T            F          T        T            F    IGHV1-69*01   \n",
       "5           T            F          T        F            F    IGHV4-34*01   \n",
       "6           T            F          T        T            F    IGHV3-15*01   \n",
       "7           T            F          T        T            F    IGHV1-24*01   \n",
       "8           T            F          T        F            F  IGHV4-38-2*01   \n",
       "9           T            F          T        F            F    IGHV3-30*18   \n",
       "\n",
       "        d_call  ...          BType Vaccine     Disease    Subject  \\\n",
       "0          NaN  ...            ASC    None  SARS-COV-2  Patient-1   \n",
       "1  IGHD3-10*01  ...            ASC    None  SARS-COV-2  Patient-1   \n",
       "2  IGHD3-10*01  ...  Naive-B-Cells    None  SARS-COV-2  Patient-1   \n",
       "3   IGHD1-1*01  ...  Naive-B-Cells    None  SARS-COV-2  Patient-1   \n",
       "4  IGHD3-10*01  ...  Naive-B-Cells    None  SARS-COV-2  Patient-1   \n",
       "5  IGHD3-10*01  ...  Naive-B-Cells    None  SARS-COV-2  Patient-1   \n",
       "6  IGHD3-22*01  ...            ASC    None  SARS-COV-2  Patient-1   \n",
       "7          NaN  ...  Naive-B-Cells    None  SARS-COV-2  Patient-1   \n",
       "8  IGHD2-15*01  ...  Naive-B-Cells    None  SARS-COV-2  Patient-1   \n",
       "9  IGHD3-10*01  ...  Naive-B-Cells    None  SARS-COV-2  Patient-1   \n",
       "\n",
       "  Longitudinal Organism Unique sequences Total sequences Isotype  Chain  \n",
       "0           no    human             3323            6909    IGHM  Heavy  \n",
       "1           no    human             1184            1602    IGHG  Heavy  \n",
       "2           no    human             2423            8445    IGHM  Heavy  \n",
       "3           no    human              491            1234    IGHD  Heavy  \n",
       "4           no    human               33              84    IGHG  Heavy  \n",
       "5           no    human             2619            4005    Bulk  Heavy  \n",
       "6           no    human             3323            6909    IGHM  Heavy  \n",
       "7           no    human              491            1234    IGHD  Heavy  \n",
       "8           no    human             2619            4005    Bulk  Heavy  \n",
       "9           no    human             2619            4005    Bulk  Heavy  \n",
       "\n",
       "[10 rows x 113 columns]"
      ]
     },
     "execution_count": 10,
     "metadata": {},
     "output_type": "execute_result"
    }
   ],
   "source": [
    "n_best_sequences = meta_db.get_meta(oasdb.current_best_ids[:,0])\n",
    "n_best_sequences"
   ]
  },
  {
   "cell_type": "code",
   "execution_count": 11,
   "metadata": {},
   "outputs": [
    {
     "data": {
      "text/plain": [
       "array(['WLGRTYYRSKWYNEYAVSVKGRITINPDTSKNQFSLQLNSVTPEDTAVYYCSRARDGYVDFWGQGTLVTVSS',\n",
       "       'GFDPEDGETIYAQKFQGRVTMTEDTSTDTAYMELSSLRSEDTAVYYCATASPITIHHNWFDPWGQGTLVTVSS',\n",
       "       'GSLISGFTISRDNAKNSLYLQMNSLRAEDTAVYYCASLWFGELSRLYYFDYWGQGTLVTVSS',\n",
       "       'FTISRDNSKNTLYLQMNSLRAEDTAVYYCAANWPPGDYYYMDVWGKGTTVTVSS',\n",
       "       'VRQAPGQGLEWMGGIIPIFGTANYAQKFQGRVTITADESTSTAYMELSSLRSEDTAVYYCARDGGFGDYYMDVWGKGTTVTVSS',\n",
       "       'GSTNYNPSLKSRVTISVDTSKNQFSLKLSSVTAADTAVYYCARGSELTMVRGMDVWGKGTTVTVSS',\n",
       "       'SKTDGGTADYAAPVKGRFTISRDDAKNTLYLQMSSLKTEDIAVYYCTTDPDDSSGGWGQGTLVTVAS',\n",
       "       'TIYAQKFQGRVTMTEDTSTDTAYMELSSLRSEDPAVYYCATAPPNFDYWGQGTLVTVSS',\n",
       "       'GWIRQPPGKGLEWIGSIYHSGSTYYNPSLKSRVTISVDTSKNQFSLKLSSVTAADTAVYYCARWLGYCSGGSCYSGLRDAFD',\n",
       "       'SYGMHWVRQAPGKGLEWVAVISYDGSNKYYADSVKGRFTISRDNSKNTLYLQMNSLRAEDTAVYYCAKDSKLYYYGSGDPYYM'],\n",
       "      dtype=object)"
      ]
     },
     "execution_count": 11,
     "metadata": {},
     "output_type": "execute_result"
    }
   ],
   "source": [
    "n_best_sequences.sequence_alignment_aa.values"
   ]
  },
  {
   "cell_type": "markdown",
   "metadata": {},
   "source": [
    "----------\n",
    "## Create custom database\n",
    "\n",
    "\n",
    "To create your own database you first need to create a csv file in the OAS format. For an example file, look at data/custom-data-example.csv. This file consists of a dictionary containing the metadata in the first line and then rows of the individual sequences afterwards. Only the Species and Chain is strictly needed in the metadata, and only the amino acids sequence of the antibodies is required for each antibody sequence.\n",
    "\n",
    "### 1. Format your data into OAS files"
   ]
  },
  {
   "cell_type": "code",
   "execution_count": 12,
   "metadata": {},
   "outputs": [],
   "source": [
    "import json\n",
    "\n",
    "from kasearch.species_anarci import number\n",
    "from kasearch.merge_db import merge_files"
   ]
  },
  {
   "cell_type": "code",
   "execution_count": 13,
   "metadata": {},
   "outputs": [],
   "source": [
    "metadata = {\"Species\":\"Human\", \"Chain\":\"Heavy\"}\n",
    "metadata = pd.Series(name=json.dumps(metadata), dtype='object')\n",
    "seqsdata = pd.DataFrame([[\"EVQLVESGGGLAKPGGSLRLHCAASGFAFSSYWMNWVRQAPGKRLEWVSAINLGGGLTYYAASVKGRFTISRDNSKNTLSLQMNSLRAEDTAVYYCATDYCSSTYCSPVGDYWGQGVLVTVSS\"],\n",
    "                          [\"EVQLVQSGAEVKRPGESLKISCKTSGYSFTSYWISWVRQMPGKGLEWMGAIDPSDSDTRYNPSFQGQVTISADKSISTAYLQWSRLKASDTATYYCAIKKYCTGSGCRRWYFDLWGPGT\"]\n",
    "                         ], columns = ['sequence_alignment_aa'])"
   ]
  },
  {
   "cell_type": "code",
   "execution_count": 14,
   "metadata": {},
   "outputs": [],
   "source": [
    "save_file = \"../data/custom-data-example-2.csv\"\n",
    "metadata.to_csv(save_file, index=False)\n",
    "seqsdata.to_csv(save_file, index=False, mode='a')"
   ]
  },
  {
   "cell_type": "markdown",
   "metadata": {},
   "source": [
    "### 2. Turn your OAS formatted files into a custom database\n",
    "\n",
    "After creating all the files you want to include in the new database, you can run the following code to create the database."
   ]
  },
  {
   "cell_type": "code",
   "execution_count": 15,
   "metadata": {},
   "outputs": [],
   "source": [
    "db_folder = \"../data/my_db\"\n",
    "db_files = ['../data/custom-data-example.csv']"
   ]
  },
  {
   "cell_type": "code",
   "execution_count": 16,
   "metadata": {
    "tags": []
   },
   "outputs": [
    {
     "ename": "KeyboardInterrupt",
     "evalue": "",
     "output_type": "error",
     "traceback": [
      "\u001b[0;31m---------------------------------------------------------------------------\u001b[0m",
      "\u001b[0;31mKeyboardInterrupt\u001b[0m                         Traceback (most recent call last)",
      "\u001b[0;32m<ipython-input-16-3c59e49e0bf0>\u001b[0m in \u001b[0;36m<module>\u001b[0;34m\u001b[0m\n\u001b[1;32m      8\u001b[0m     \u001b[0mmetadata\u001b[0m \u001b[0;34m=\u001b[0m \u001b[0mjson\u001b[0m\u001b[0;34m.\u001b[0m\u001b[0mloads\u001b[0m\u001b[0;34m(\u001b[0m\u001b[0;34m','\u001b[0m\u001b[0;34m.\u001b[0m\u001b[0mjoin\u001b[0m\u001b[0;34m(\u001b[0m\u001b[0mpd\u001b[0m\u001b[0;34m.\u001b[0m\u001b[0mread_csv\u001b[0m\u001b[0;34m(\u001b[0m\u001b[0mdata_unit_file\u001b[0m\u001b[0;34m,\u001b[0m \u001b[0mnrows\u001b[0m\u001b[0;34m=\u001b[0m\u001b[0;36m0\u001b[0m\u001b[0;34m)\u001b[0m\u001b[0;34m.\u001b[0m\u001b[0mcolumns\u001b[0m\u001b[0;34m)\u001b[0m\u001b[0;34m)\u001b[0m\u001b[0;34m\u001b[0m\u001b[0;34m\u001b[0m\u001b[0m\n\u001b[1;32m      9\u001b[0m     \u001b[0mseqsdata\u001b[0m \u001b[0;34m=\u001b[0m \u001b[0mpd\u001b[0m\u001b[0;34m.\u001b[0m\u001b[0mread_csv\u001b[0m\u001b[0;34m(\u001b[0m\u001b[0mdata_unit_file\u001b[0m\u001b[0;34m,\u001b[0m \u001b[0mheader\u001b[0m\u001b[0;34m=\u001b[0m\u001b[0;36m1\u001b[0m\u001b[0;34m,\u001b[0m \u001b[0musecols\u001b[0m\u001b[0;34m=\u001b[0m\u001b[0;34m[\u001b[0m\u001b[0;34m'sequence_alignment_aa'\u001b[0m\u001b[0;34m]\u001b[0m\u001b[0;34m)\u001b[0m\u001b[0;34m.\u001b[0m\u001b[0miloc\u001b[0m\u001b[0;34m[\u001b[0m\u001b[0;34m:\u001b[0m\u001b[0;34m,\u001b[0m\u001b[0;36m0\u001b[0m\u001b[0;34m]\u001b[0m\u001b[0;34m.\u001b[0m\u001b[0mvalues\u001b[0m\u001b[0;34m\u001b[0m\u001b[0;34m\u001b[0m\u001b[0m\n\u001b[0;32m---> 10\u001b[0;31m     \u001b[0mnumbered_sequences\u001b[0m \u001b[0;34m=\u001b[0m \u001b[0;34m[\u001b[0m\u001b[0mnumber\u001b[0m\u001b[0;34m(\u001b[0m\u001b[0msequence\u001b[0m\u001b[0;34m,\u001b[0m \u001b[0mallowed_species\u001b[0m\u001b[0;34m=\u001b[0m\u001b[0;32mNone\u001b[0m\u001b[0;34m)\u001b[0m\u001b[0;34m[\u001b[0m\u001b[0;36m0\u001b[0m\u001b[0;34m]\u001b[0m \u001b[0;32mfor\u001b[0m \u001b[0msequence\u001b[0m \u001b[0;32min\u001b[0m \u001b[0mseqsdata\u001b[0m\u001b[0;34m]\u001b[0m\u001b[0;34m\u001b[0m\u001b[0;34m\u001b[0m\u001b[0m\n\u001b[0m\u001b[1;32m     11\u001b[0m \u001b[0;34m\u001b[0m\u001b[0m\n\u001b[1;32m     12\u001b[0m     newDB.prepare_database(numbered_sequences, \n",
      "\u001b[0;32m<ipython-input-16-3c59e49e0bf0>\u001b[0m in \u001b[0;36m<listcomp>\u001b[0;34m(.0)\u001b[0m\n\u001b[1;32m      8\u001b[0m     \u001b[0mmetadata\u001b[0m \u001b[0;34m=\u001b[0m \u001b[0mjson\u001b[0m\u001b[0;34m.\u001b[0m\u001b[0mloads\u001b[0m\u001b[0;34m(\u001b[0m\u001b[0;34m','\u001b[0m\u001b[0;34m.\u001b[0m\u001b[0mjoin\u001b[0m\u001b[0;34m(\u001b[0m\u001b[0mpd\u001b[0m\u001b[0;34m.\u001b[0m\u001b[0mread_csv\u001b[0m\u001b[0;34m(\u001b[0m\u001b[0mdata_unit_file\u001b[0m\u001b[0;34m,\u001b[0m \u001b[0mnrows\u001b[0m\u001b[0;34m=\u001b[0m\u001b[0;36m0\u001b[0m\u001b[0;34m)\u001b[0m\u001b[0;34m.\u001b[0m\u001b[0mcolumns\u001b[0m\u001b[0;34m)\u001b[0m\u001b[0;34m)\u001b[0m\u001b[0;34m\u001b[0m\u001b[0;34m\u001b[0m\u001b[0m\n\u001b[1;32m      9\u001b[0m     \u001b[0mseqsdata\u001b[0m \u001b[0;34m=\u001b[0m \u001b[0mpd\u001b[0m\u001b[0;34m.\u001b[0m\u001b[0mread_csv\u001b[0m\u001b[0;34m(\u001b[0m\u001b[0mdata_unit_file\u001b[0m\u001b[0;34m,\u001b[0m \u001b[0mheader\u001b[0m\u001b[0;34m=\u001b[0m\u001b[0;36m1\u001b[0m\u001b[0;34m,\u001b[0m \u001b[0musecols\u001b[0m\u001b[0;34m=\u001b[0m\u001b[0;34m[\u001b[0m\u001b[0;34m'sequence_alignment_aa'\u001b[0m\u001b[0;34m]\u001b[0m\u001b[0;34m)\u001b[0m\u001b[0;34m.\u001b[0m\u001b[0miloc\u001b[0m\u001b[0;34m[\u001b[0m\u001b[0;34m:\u001b[0m\u001b[0;34m,\u001b[0m\u001b[0;36m0\u001b[0m\u001b[0;34m]\u001b[0m\u001b[0;34m.\u001b[0m\u001b[0mvalues\u001b[0m\u001b[0;34m\u001b[0m\u001b[0;34m\u001b[0m\u001b[0m\n\u001b[0;32m---> 10\u001b[0;31m     \u001b[0mnumbered_sequences\u001b[0m \u001b[0;34m=\u001b[0m \u001b[0;34m[\u001b[0m\u001b[0mnumber\u001b[0m\u001b[0;34m(\u001b[0m\u001b[0msequence\u001b[0m\u001b[0;34m,\u001b[0m \u001b[0mallowed_species\u001b[0m\u001b[0;34m=\u001b[0m\u001b[0;32mNone\u001b[0m\u001b[0;34m)\u001b[0m\u001b[0;34m[\u001b[0m\u001b[0;36m0\u001b[0m\u001b[0;34m]\u001b[0m \u001b[0;32mfor\u001b[0m \u001b[0msequence\u001b[0m \u001b[0;32min\u001b[0m \u001b[0mseqsdata\u001b[0m\u001b[0;34m]\u001b[0m\u001b[0;34m\u001b[0m\u001b[0;34m\u001b[0m\u001b[0m\n\u001b[0m\u001b[1;32m     11\u001b[0m \u001b[0;34m\u001b[0m\u001b[0m\n\u001b[1;32m     12\u001b[0m     newDB.prepare_database(numbered_sequences, \n",
      "\u001b[0;32m/data/localhost/kenyon/miniconda/envs/envH3/lib/python3.8/site-packages/kasearch/species_anarci.py\u001b[0m in \u001b[0;36mnumber\u001b[0;34m(sequence, scheme, database, allow, allowed_species)\u001b[0m\n\u001b[1;32m     29\u001b[0m \u001b[0;34m\u001b[0m\u001b[0m\n\u001b[1;32m     30\u001b[0m     \u001b[0;32mtry\u001b[0m\u001b[0;34m:\u001b[0m\u001b[0;34m\u001b[0m\u001b[0;34m\u001b[0m\u001b[0m\n\u001b[0;32m---> 31\u001b[0;31m         numbered, alignment_details, _ = anarci([(\"sequence_0\", sequence)], scheme=scheme, database=database,\n\u001b[0m\u001b[1;32m     32\u001b[0m                                                 output=False, allow=allow, allowed_species=allowed_species)\n\u001b[1;32m     33\u001b[0m     \u001b[0;32mexcept\u001b[0m \u001b[0mAssertionError\u001b[0m\u001b[0;34m:\u001b[0m  \u001b[0;31m# Catch where the user has tried to number a TCR with an antibody scheme\u001b[0m\u001b[0;34m\u001b[0m\u001b[0;34m\u001b[0m\u001b[0m\n",
      "\u001b[0;32m/data/localhost/kenyon/miniconda/envs/envH3/lib/python3.8/site-packages/anarci/anarci.py\u001b[0m in \u001b[0;36manarci\u001b[0;34m(sequences, scheme, database, output, outfile, csv, allow, hmmerpath, ncpu, assign_germline, allowed_species, bit_score_threshold)\u001b[0m\n\u001b[1;32m    809\u001b[0m \u001b[0;34m\u001b[0m\u001b[0m\n\u001b[1;32m    810\u001b[0m     \u001b[0;31m# Perform the alignments of the sequences to the hmm database\u001b[0m\u001b[0;34m\u001b[0m\u001b[0;34m\u001b[0m\u001b[0;34m\u001b[0m\u001b[0m\n\u001b[0;32m--> 811\u001b[0;31m     \u001b[0malignments\u001b[0m \u001b[0;34m=\u001b[0m \u001b[0mrun_hmmer\u001b[0m\u001b[0;34m(\u001b[0m\u001b[0msequences\u001b[0m\u001b[0;34m,\u001b[0m\u001b[0mhmm_database\u001b[0m\u001b[0;34m=\u001b[0m\u001b[0mdatabase\u001b[0m\u001b[0;34m,\u001b[0m\u001b[0mhmmerpath\u001b[0m\u001b[0;34m=\u001b[0m\u001b[0mhmmerpath\u001b[0m\u001b[0;34m,\u001b[0m\u001b[0mncpu\u001b[0m\u001b[0;34m=\u001b[0m\u001b[0mncpu\u001b[0m\u001b[0;34m,\u001b[0m\u001b[0mbit_score_threshold\u001b[0m\u001b[0;34m=\u001b[0m\u001b[0mbit_score_threshold\u001b[0m \u001b[0;34m)\u001b[0m\u001b[0;34m\u001b[0m\u001b[0;34m\u001b[0m\u001b[0m\n\u001b[0m\u001b[1;32m    812\u001b[0m \u001b[0;34m\u001b[0m\u001b[0m\n\u001b[1;32m    813\u001b[0m     \u001b[0;31m# Check the numbering for likely very long CDR3s that will have been missed by the first pass.\u001b[0m\u001b[0;34m\u001b[0m\u001b[0;34m\u001b[0m\u001b[0;34m\u001b[0m\u001b[0m\n",
      "\u001b[0;32m/data/localhost/kenyon/miniconda/envs/envH3/lib/python3.8/site-packages/anarci/anarci.py\u001b[0m in \u001b[0;36mrun_hmmer\u001b[0;34m(sequence_list, hmm_database, hmmerpath, ncpu, bit_score_threshold)\u001b[0m\n\u001b[1;32m    499\u001b[0m         \u001b[0;32melse\u001b[0m\u001b[0;34m:\u001b[0m\u001b[0;34m\u001b[0m\u001b[0;34m\u001b[0m\u001b[0m\n\u001b[1;32m    500\u001b[0m             \u001b[0mcommand\u001b[0m \u001b[0;34m=\u001b[0m \u001b[0;34m[\u001b[0m \u001b[0mhmmscan\u001b[0m\u001b[0;34m,\u001b[0m \u001b[0;34m\"-o\"\u001b[0m\u001b[0;34m,\u001b[0m \u001b[0moutput_filename\u001b[0m\u001b[0;34m,\u001b[0m \u001b[0;34m\"--cpu\"\u001b[0m\u001b[0;34m,\u001b[0m \u001b[0mstr\u001b[0m\u001b[0;34m(\u001b[0m\u001b[0mncpu\u001b[0m\u001b[0;34m)\u001b[0m\u001b[0;34m,\u001b[0m \u001b[0mHMM\u001b[0m\u001b[0;34m,\u001b[0m  \u001b[0mfasta_filename\u001b[0m\u001b[0;34m]\u001b[0m\u001b[0;34m\u001b[0m\u001b[0;34m\u001b[0m\u001b[0m\n\u001b[0;32m--> 501\u001b[0;31m         \u001b[0mprocess\u001b[0m \u001b[0;34m=\u001b[0m \u001b[0mPopen\u001b[0m\u001b[0;34m(\u001b[0m \u001b[0mcommand\u001b[0m\u001b[0;34m,\u001b[0m \u001b[0mstdout\u001b[0m\u001b[0;34m=\u001b[0m\u001b[0mPIPE\u001b[0m\u001b[0;34m,\u001b[0m \u001b[0mstderr\u001b[0m\u001b[0;34m=\u001b[0m\u001b[0mPIPE\u001b[0m  \u001b[0;34m)\u001b[0m\u001b[0;34m\u001b[0m\u001b[0;34m\u001b[0m\u001b[0m\n\u001b[0m\u001b[1;32m    502\u001b[0m         \u001b[0m_\u001b[0m\u001b[0;34m,\u001b[0m \u001b[0mpr_stderr\u001b[0m \u001b[0;34m=\u001b[0m \u001b[0mprocess\u001b[0m\u001b[0;34m.\u001b[0m\u001b[0mcommunicate\u001b[0m\u001b[0;34m(\u001b[0m\u001b[0;34m)\u001b[0m\u001b[0;34m\u001b[0m\u001b[0;34m\u001b[0m\u001b[0m\n\u001b[1;32m    503\u001b[0m \u001b[0;34m\u001b[0m\u001b[0m\n",
      "\u001b[0;32m/data/localhost/kenyon/miniconda/envs/envH3/lib/python3.8/subprocess.py\u001b[0m in \u001b[0;36m__init__\u001b[0;34m(self, args, bufsize, executable, stdin, stdout, stderr, preexec_fn, close_fds, shell, cwd, env, universal_newlines, startupinfo, creationflags, restore_signals, start_new_session, pass_fds, encoding, errors, text)\u001b[0m\n\u001b[1;32m    852\u001b[0m                             encoding=encoding, errors=errors)\n\u001b[1;32m    853\u001b[0m \u001b[0;34m\u001b[0m\u001b[0m\n\u001b[0;32m--> 854\u001b[0;31m             self._execute_child(args, executable, preexec_fn, close_fds,\n\u001b[0m\u001b[1;32m    855\u001b[0m                                 \u001b[0mpass_fds\u001b[0m\u001b[0;34m,\u001b[0m \u001b[0mcwd\u001b[0m\u001b[0;34m,\u001b[0m \u001b[0menv\u001b[0m\u001b[0;34m,\u001b[0m\u001b[0;34m\u001b[0m\u001b[0;34m\u001b[0m\u001b[0m\n\u001b[1;32m    856\u001b[0m                                 \u001b[0mstartupinfo\u001b[0m\u001b[0;34m,\u001b[0m \u001b[0mcreationflags\u001b[0m\u001b[0;34m,\u001b[0m \u001b[0mshell\u001b[0m\u001b[0;34m,\u001b[0m\u001b[0;34m\u001b[0m\u001b[0;34m\u001b[0m\u001b[0m\n",
      "\u001b[0;32m/data/localhost/kenyon/miniconda/envs/envH3/lib/python3.8/subprocess.py\u001b[0m in \u001b[0;36m_execute_child\u001b[0;34m(self, args, executable, preexec_fn, close_fds, pass_fds, cwd, env, startupinfo, creationflags, shell, p2cread, p2cwrite, c2pread, c2pwrite, errread, errwrite, restore_signals, start_new_session)\u001b[0m\n\u001b[1;32m   1635\u001b[0m                     \u001b[0mfds_to_keep\u001b[0m \u001b[0;34m=\u001b[0m \u001b[0mset\u001b[0m\u001b[0;34m(\u001b[0m\u001b[0mpass_fds\u001b[0m\u001b[0;34m)\u001b[0m\u001b[0;34m\u001b[0m\u001b[0;34m\u001b[0m\u001b[0m\n\u001b[1;32m   1636\u001b[0m                     \u001b[0mfds_to_keep\u001b[0m\u001b[0;34m.\u001b[0m\u001b[0madd\u001b[0m\u001b[0;34m(\u001b[0m\u001b[0merrpipe_write\u001b[0m\u001b[0;34m)\u001b[0m\u001b[0;34m\u001b[0m\u001b[0;34m\u001b[0m\u001b[0m\n\u001b[0;32m-> 1637\u001b[0;31m                     self.pid = _posixsubprocess.fork_exec(\n\u001b[0m\u001b[1;32m   1638\u001b[0m                             \u001b[0margs\u001b[0m\u001b[0;34m,\u001b[0m \u001b[0mexecutable_list\u001b[0m\u001b[0;34m,\u001b[0m\u001b[0;34m\u001b[0m\u001b[0;34m\u001b[0m\u001b[0m\n\u001b[1;32m   1639\u001b[0m                             \u001b[0mclose_fds\u001b[0m\u001b[0;34m,\u001b[0m \u001b[0mtuple\u001b[0m\u001b[0;34m(\u001b[0m\u001b[0msorted\u001b[0m\u001b[0;34m(\u001b[0m\u001b[0mmap\u001b[0m\u001b[0;34m(\u001b[0m\u001b[0mint\u001b[0m\u001b[0;34m,\u001b[0m \u001b[0mfds_to_keep\u001b[0m\u001b[0;34m)\u001b[0m\u001b[0;34m)\u001b[0m\u001b[0;34m)\u001b[0m\u001b[0;34m,\u001b[0m\u001b[0;34m\u001b[0m\u001b[0;34m\u001b[0m\u001b[0m\n",
      "\u001b[0;31mKeyboardInterrupt\u001b[0m: "
     ]
    }
   ],
   "source": [
    "newDB = PrepareDB(db_path=db_folder)\n",
    "\n",
    "db_dict = {}\n",
    "for num, data_unit_file in enumerate(db_files):\n",
    "\n",
    "    db_dict[num] = data_unit_file\n",
    "    \n",
    "    metadata = json.loads(','.join(pd.read_csv(data_unit_file, nrows=0).columns))\n",
    "    seqsdata = pd.read_csv(data_unit_file, header=1, usecols=['sequence_alignment_aa']).iloc[:,0].values\n",
    "    numbered_sequences = [number(sequence, allowed_species=None)[0] for sequence in seqsdata]\n",
    "\n",
    "    newDB.prepare_database(numbered_sequences, \n",
    "                           file_id=num, \n",
    "                           chain=metadata['Chain'], \n",
    "                           species=metadata['Species'])\n",
    "    \n",
    "newDB.save_database()\n",
    "\n",
    "merge_files(db_folder)\n",
    "\n",
    "with open(os.path.join(db_folder, \"my_db_id_to_study.txt\"), \"w\") as handle: handle.write(str(db_dict))"
   ]
  },
  {
   "cell_type": "markdown",
   "metadata": {},
   "source": [
    "###You can now create your own database to search from."
   ]
  },
  {
   "cell_type": "code",
   "execution_count": null,
   "metadata": {},
   "outputs": [],
   "source": [
    "mydb = SearchDB(database_path=db_folder,      # Path to your database. Default will be to download a prepared version of OAS.\n",
    "                 allowed_chain='Heavy',       # Search against a specific chain. Default is any chain.\n",
    "                 allowed_species='Any',       # Search against a specific species. Default is any species.\n",
    "                 n_jobs=1                     # Allocated number for jobs/threads for the search.\n",
    "                )"
   ]
  },
  {
   "cell_type": "code",
   "execution_count": null,
   "metadata": {},
   "outputs": [
    {
     "ename": "IndexError",
     "evalue": "list index out of range",
     "output_type": "error",
     "traceback": [
      "\u001b[0;31m---------------------------------------------------------------------------\u001b[0m",
      "\u001b[0;31mIndexError\u001b[0m                                Traceback (most recent call last)",
      "\u001b[0;32m<ipython-input-18-a6839d405311>\u001b[0m in \u001b[0;36m<module>\u001b[0;34m\u001b[0m\n\u001b[0;32m----> 1\u001b[0;31m \u001b[0mmydb\u001b[0m\u001b[0;34m.\u001b[0m\u001b[0msearch\u001b[0m\u001b[0;34m(\u001b[0m\u001b[0mquery_db\u001b[0m\u001b[0;34m.\u001b[0m\u001b[0mdb\u001b[0m\u001b[0;34m.\u001b[0m\u001b[0maligned_seqs\u001b[0m\u001b[0;34m[\u001b[0m\u001b[0;36m0\u001b[0m\u001b[0;34m]\u001b[0m\u001b[0;34m)\u001b[0m\u001b[0;34m\u001b[0m\u001b[0;34m\u001b[0m\u001b[0m\n\u001b[0m",
      "\u001b[0;32m/data/localhost/kenyon/miniconda/envs/envH3/lib/python3.8/site-packages/kasearch/kasearch.py\u001b[0m in \u001b[0;36msearch\u001b[0;34m(self, query, keep_best_n, reset_best)\u001b[0m\n\u001b[1;32m     66\u001b[0m             \u001b[0mself\u001b[0m\u001b[0;34m.\u001b[0m\u001b[0m__reset_current_best\u001b[0m\u001b[0;34m(\u001b[0m\u001b[0;34m)\u001b[0m\u001b[0;34m\u001b[0m\u001b[0;34m\u001b[0m\u001b[0m\n\u001b[1;32m     67\u001b[0m \u001b[0;34m\u001b[0m\u001b[0m\n\u001b[0;32m---> 68\u001b[0;31m         \u001b[0mdata_loader\u001b[0m \u001b[0;34m=\u001b[0m \u001b[0mDataLoader\u001b[0m\u001b[0;34m(\u001b[0m\u001b[0mself\u001b[0m\u001b[0;34m.\u001b[0m\u001b[0mallowed_files\u001b[0m\u001b[0;34m[\u001b[0m\u001b[0;36m0\u001b[0m\u001b[0;34m]\u001b[0m\u001b[0;34m)\u001b[0m\u001b[0;34m\u001b[0m\u001b[0;34m\u001b[0m\u001b[0m\n\u001b[0m\u001b[1;32m     69\u001b[0m         \u001b[0mself\u001b[0m\u001b[0;34m.\u001b[0m\u001b[0m_current_target_numbering\u001b[0m \u001b[0;34m=\u001b[0m \u001b[0mdata_loader\u001b[0m\u001b[0;34m.\u001b[0m\u001b[0mdata\u001b[0m\u001b[0;34m[\u001b[0m\u001b[0;34m'numberings'\u001b[0m\u001b[0;34m]\u001b[0m\u001b[0;34m\u001b[0m\u001b[0;34m\u001b[0m\u001b[0m\n\u001b[1;32m     70\u001b[0m         \u001b[0mself\u001b[0m\u001b[0;34m.\u001b[0m\u001b[0m_current_target_ids\u001b[0m \u001b[0;34m=\u001b[0m \u001b[0mdata_loader\u001b[0m\u001b[0;34m.\u001b[0m\u001b[0mdata\u001b[0m\u001b[0;34m[\u001b[0m\u001b[0;34m'idxs'\u001b[0m\u001b[0;34m]\u001b[0m\u001b[0;34m\u001b[0m\u001b[0;34m\u001b[0m\u001b[0m\n",
      "\u001b[0;31mIndexError\u001b[0m: list index out of range"
     ]
    }
   ],
   "source": [
    "mydb.search(query_db.db.aligned_seqs[0])"
   ]
  },
  {
   "cell_type": "code",
   "execution_count": null,
   "metadata": {},
   "outputs": [
    {
     "data": {
      "text/plain": [
       "array([[0.64705884, 0.60714287, 0.5833333 ],\n",
       "       [0.64705884, 0.60714287, 0.5833333 ],\n",
       "       [0.64705884, 0.60714287, 0.5833333 ],\n",
       "       [0.64136165, 0.577765  , 0.56666666],\n",
       "       [0.64136165, 0.577765  , 0.56666666],\n",
       "       [0.64136165, 0.577765  , 0.56666666],\n",
       "       [0.6315294 , 0.57424814, 0.56666666],\n",
       "       [0.6315294 , 0.57424814, 0.56666666],\n",
       "       [0.6315294 , 0.57424814, 0.56666666],\n",
       "       [0.63080317, 0.57424814, 0.55      ]], dtype=float32)"
      ]
     },
     "execution_count": 19,
     "metadata": {},
     "output_type": "execute_result"
    }
   ],
   "source": [
    "mydb.current_best_identities"
   ]
  },
  {
   "cell_type": "code",
   "execution_count": null,
   "metadata": {},
   "outputs": [],
   "source": []
  }
 ],
 "metadata": {
  "interpreter": {
   "hash": "3dad76314a3f3b660cf9d83334b2fbd68357d710cd787a8b8b706d2800b8791b"
  },
  "kernelspec": {
   "display_name": "Python 3.8.5 ('envH3')",
   "language": "python",
   "name": "python3"
  },
  "language_info": {
   "codemirror_mode": {
    "name": "ipython",
    "version": 3
   },
   "file_extension": ".py",
   "mimetype": "text/x-python",
   "name": "python",
   "nbconvert_exporter": "python",
   "pygments_lexer": "ipython3",
   "version": "3.8.5"
  }
 },
 "nbformat": 4,
 "nbformat_minor": 5
}
