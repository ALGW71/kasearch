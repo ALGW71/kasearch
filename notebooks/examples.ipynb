{
 "cells": [
  {
   "cell_type": "code",
   "execution_count": 1,
   "id": "aa193bab-5157-4d4a-a989-535bc222ca2f",
   "metadata": {},
   "outputs": [],
   "source": [
    "%load_ext autoreload\n",
    "%autoreload 2\n",
    "\n",
    "from kasearch import AlignSequences, SearchDB, PrepareDB"
   ]
  },
  {
   "cell_type": "markdown",
   "id": "892d573e-8b1b-4fa2-8973-db4f40588292",
   "metadata": {},
   "source": [
    "## **Prepare query sequence (sequence to search with)**"
   ]
  },
  {
   "cell_type": "code",
   "execution_count": 2,
   "id": "3422c094-eca4-47bb-a1a7-750daa50f10e",
   "metadata": {},
   "outputs": [],
   "source": [
    "raw_queries = [\n",
    "    'QVKLQESGAELARPGASVKLSCKASGYTFTNYWMQWVKQRPGQGLDWIGAIYPGDGNTRYTHKFKGKATLTADKSSSTAYMQLSSLASEDSGVYYCARGEGNYAWFAYWGQGTTVTVSS',\n",
    "    'QVQLKESGPGLVAPSQSLSITCTVSGFSLTSYGVSWVRQPPGKGLEWLGVIWGDGSTNYHSALISRLSISKENSKSQVFLKLNSLQTDDTATYYCAKPGGDYWGQGTSVTVSS',\n",
    "]"
   ]
  },
  {
   "cell_type": "code",
   "execution_count": 3,
   "id": "bc3153a4-41f0-4358-8283-702d6da74706",
   "metadata": {
    "tags": []
   },
   "outputs": [
    {
     "data": {
      "text/plain": [
       "array([[81, 86, 75,  0, 76, 81, 69, 83, 71, 65,  0, 69, 76, 65, 82, 80,\n",
       "        71, 65, 83, 86, 75, 76, 83, 67, 75, 65, 83, 71, 89, 84, 70,  0,\n",
       "         0,  0,  0,  0,  0,  0,  0,  0, 84, 78, 89, 87, 77, 81,  0, 87,\n",
       "        86, 75, 81,  0, 82,  0, 80,  0, 71,  0, 81,  0,  0, 71,  0, 76,\n",
       "        68,  0, 87, 73, 71, 65, 73, 89, 80, 71,  0,  0,  0,  0,  0,  0,\n",
       "         0,  0,  0,  0,  0, 68, 71, 78, 84, 82, 89,  0,  0, 84,  0,  0,\n",
       "        72,  0,  0, 75, 70,  0,  0, 75,  0,  0,  0, 71, 75, 65, 84, 76,\n",
       "        84, 65,  0, 68,  0,  0,  0, 75,  0, 83,  0,  0, 83, 83,  0,  0,\n",
       "         0,  0, 84,  0, 65, 89, 77, 81, 76, 83, 83, 76, 65, 83,  0, 69,\n",
       "        68, 83, 71, 86, 89, 89, 67, 65, 82, 71, 69, 71, 78,  0,  0,  0,\n",
       "         0,  0,  0,  0,  0,  0,  0,  0,  0,  0,  0,  0,  0,  0,  0,  0,\n",
       "         0,  0,  0,  0,  0,  0, 89, 65, 87, 70, 65, 89, 87, 71,  0, 81,\n",
       "        71, 84, 84, 86, 84, 86, 83, 83]], dtype=int8)"
      ]
     },
     "execution_count": 3,
     "metadata": {},
     "output_type": "execute_result"
    }
   ],
   "source": [
    "query_db = AlignSequences(raw_queries, # Sequences as strings to align.\n",
    "                          n_jobs=1     # Allocated number for jobs/threads for the search.\n",
    "                         )\n",
    "query_db.db.aligned_seqs"
   ]
  },
  {
   "cell_type": "markdown",
   "id": "45f8cd27-90b7-48af-83ed-06412c802d11",
   "metadata": {},
   "source": [
    "--------------\n",
    "## **Initiate search class**\n",
    "\n",
    "### Database to search against\n",
    "- If no database path is give, a small OAS version will be downloaded to search against.\n",
    "- The full version of OAS can be downloaded here ().\n",
    "- You can also give it the path for a custom database to search against. (See below for how to create a custom database).\n",
    "\n",
    "### Regions to search with\n",
    "- Default regions are the whole chain, CDRs or CDR3.\n",
    "- User-defined regions can be added, as seen with the paratope search below.\n",
    "- For each region, the search can either be based on exact length match or not.\n",
    "- For a more specific search, the search can be focused on a specific chain and species."
   ]
  },
  {
   "cell_type": "code",
   "execution_count": 4,
   "id": "a017dfcb-57cf-403f-8fba-441412638b63",
   "metadata": {},
   "outputs": [],
   "source": [
    "paratope = [\"107 \", \"108 \",\"111C\", \"114 \",\"115 \"]"
   ]
  },
  {
   "cell_type": "code",
   "execution_count": 5,
   "id": "23231856-1b3d-4b30-9c61-74a972fc7340",
   "metadata": {},
   "outputs": [
    {
     "name": "stdout",
     "output_type": "stream",
     "text": [
      "Downloading a small version of OAS (4.4GB) ...\n"
     ]
    }
   ],
   "source": [
    "oasdb = SearchDB(\n",
    "    #database_path='oasdb-small', # Path to your database. Default will be to download a small prepared version of OAS.\n",
    "    allowed_chain='Heavy',         # Search against a specific chain. Default is any chain.\n",
    "    allowed_species='Human',       # Search against a specific species. Default is any species.\n",
    "    regions=['whole', 'cdrs', 'cdr3', paratope],\n",
    "    length_matched=[False, True, True, True],\n",
    ")"
   ]
  },
  {
   "cell_type": "markdown",
   "id": "4792402c-509e-42da-983b-cde0f3548b0b",
   "metadata": {},
   "source": [
    "-----------\n",
    "## **Run search**\n",
    "\n",
    "A search takes ~23min per sequence against all of OAS and ~2min per sequence against the small OAS.\n",
    "\n",
    "To specify the number of highest similar sequences to keep, you can change the keep_best_n parameter."
   ]
  },
  {
   "cell_type": "code",
   "execution_count": 6,
   "id": "074ce657-63f2-49e5-aa89-03667b332db7",
   "metadata": {},
   "outputs": [
    {
     "name": "stderr",
     "output_type": "stream",
     "text": [
      "WARNING:absl:No GPU/TPU found, falling back to CPU. (Set TF_CPP_MIN_LOG_LEVEL=0 and rerun for more info.)\n"
     ]
    },
    {
     "name": "stdout",
     "output_type": "stream",
     "text": [
      "CPU times: user 2min 34s, sys: 15.3 s, total: 2min 50s\n",
      "Wall time: 1min 2s\n"
     ]
    }
   ],
   "source": [
    "%%time \n",
    "oasdb.search(query_db.db.aligned_seqs, # Input can be a single or multiple aligned sequences at a time.\n",
    "             keep_best_n=10,               # You can define how many most similar sequences to return\n",
    "            )"
   ]
  },
  {
   "cell_type": "markdown",
   "id": "a8f03f7f-3660-4c50-bf6a-7815ecb5966e",
   "metadata": {},
   "source": [
    "### Get N best identities\n",
    "\n",
    "Identities of the most similar sequence for each of the regions can be fetched from the object with the bellow command."
   ]
  },
  {
   "cell_type": "code",
   "execution_count": 7,
   "id": "5594fb40-8e73-4fe4-abf3-210d2a5a136b",
   "metadata": {
    "tags": []
   },
   "outputs": [
    {
     "data": {
      "text/plain": [
       "array([[[0.8333334, 0.8333333, 1.       ],\n",
       "        [0.8333334, 0.8333333, 1.       ],\n",
       "        [0.8333334, 0.8333333, 1.       ],\n",
       "        [0.8333334, 0.8333333, 1.       ],\n",
       "        [0.8333334, 0.8333333, 1.       ],\n",
       "        [0.8333334, 0.75     , 1.       ],\n",
       "        [0.8333333, 0.75     , 1.       ],\n",
       "        [0.8333333, 0.75     , 1.       ],\n",
       "        [0.8333333, 0.75     , 1.       ],\n",
       "        [0.8333333, 0.75     , 1.       ]]], dtype=float32)"
      ]
     },
     "execution_count": 7,
     "metadata": {},
     "output_type": "execute_result"
    }
   ],
   "source": [
    "oasdb.current_best_identities"
   ]
  },
  {
   "cell_type": "markdown",
   "id": "37afb021-1dc9-4145-9775-33691fa3268b",
   "metadata": {},
   "source": [
    "### Get ID's of sequences with the N best identities\n",
    "\n",
    "Similarly, the ID's of the most similar sequences can be fetched from the object with the bellow command."
   ]
  },
  {
   "cell_type": "code",
   "execution_count": 8,
   "id": "d2a2dfbc-f58e-415d-95ae-1191e8d7b2e1",
   "metadata": {},
   "outputs": [
    {
     "data": {
      "text/plain": [
       "array([[[[   3574,     439],\n",
       "         [   3580,    1736],\n",
       "         [   8999,   34163]],\n",
       "\n",
       "        [[   3574,   14330],\n",
       "         [   3611,    2027],\n",
       "         [  13687,   11125]],\n",
       "\n",
       "        [[   3574,    4608],\n",
       "         [   3574,   20140],\n",
       "         [   4008,    1239]],\n",
       "\n",
       "        [[   4059,    3259],\n",
       "         [   3595,     904],\n",
       "         [   2791,   20061]],\n",
       "\n",
       "        [[   4059,   33660],\n",
       "         [   3611,     391],\n",
       "         [   5484,   88906]],\n",
       "\n",
       "        [[   4059,     925],\n",
       "         [  10012,   61994],\n",
       "         [  11076,   69071]],\n",
       "\n",
       "        [[   3580,    1736],\n",
       "         [   3358, 1405904],\n",
       "         [  11447,   69843]],\n",
       "\n",
       "        [[   3611,    2027],\n",
       "         [  10012, 1383316],\n",
       "         [   4121,   10306]],\n",
       "\n",
       "        [[   3611,     391],\n",
       "         [   8614,   74371],\n",
       "         [   9516, 1187568]],\n",
       "\n",
       "        [[   3574,   20140],\n",
       "         [   3358,  178333],\n",
       "         [   3119, 3727905]]]], dtype=int32)"
      ]
     },
     "execution_count": 8,
     "metadata": {},
     "output_type": "execute_result"
    }
   ],
   "source": [
    "oasdb.current_best_ids"
   ]
  },
  {
   "cell_type": "markdown",
   "id": "55cd9816-07a4-4ad1-8cba-19e830d70fd8",
   "metadata": {},
   "source": [
    "---------\n",
    "## Extract the meta data from matched sequences\n",
    "\n",
    "Using the get_meta function, the meta data for all matched sequences for each query and region can be extracted as seen below.\n",
    "\n",
    "Zero (0) is the first query or the first region in the list when initiating the search class. \n",
    "\n",
    "NB: The column \"sequence_alignment_aa\" holds the antibody sequence."
   ]
  },
  {
   "cell_type": "code",
   "execution_count": 9,
   "id": "733289bf-138b-4f0e-95b1-ae8620449270",
   "metadata": {},
   "outputs": [
    {
     "data": {
      "text/html": [
       "<div>\n",
       "<style scoped>\n",
       "    .dataframe tbody tr th:only-of-type {\n",
       "        vertical-align: middle;\n",
       "    }\n",
       "\n",
       "    .dataframe tbody tr th {\n",
       "        vertical-align: top;\n",
       "    }\n",
       "\n",
       "    .dataframe thead th {\n",
       "        text-align: right;\n",
       "    }\n",
       "</style>\n",
       "<table border=\"1\" class=\"dataframe\">\n",
       "  <thead>\n",
       "    <tr style=\"text-align: right;\">\n",
       "      <th></th>\n",
       "      <th>sequence</th>\n",
       "      <th>locus</th>\n",
       "      <th>stop_codon</th>\n",
       "      <th>vj_in_frame</th>\n",
       "      <th>v_frameshift</th>\n",
       "      <th>productive</th>\n",
       "      <th>rev_comp</th>\n",
       "      <th>complete_vdj</th>\n",
       "      <th>v_call</th>\n",
       "      <th>d_call</th>\n",
       "      <th>...</th>\n",
       "      <th>Longitudinal</th>\n",
       "      <th>Age</th>\n",
       "      <th>Disease</th>\n",
       "      <th>Subject</th>\n",
       "      <th>Vaccine</th>\n",
       "      <th>Chain</th>\n",
       "      <th>Unique sequences</th>\n",
       "      <th>Total sequences</th>\n",
       "      <th>Isotype</th>\n",
       "      <th>Identity</th>\n",
       "    </tr>\n",
       "  </thead>\n",
       "  <tbody>\n",
       "    <tr>\n",
       "      <th>0</th>\n",
       "      <td>GATGAGATCACTGTTCTCTTTACAGTTACTGAGCACACAGGACCTC...</td>\n",
       "      <td>H</td>\n",
       "      <td>F</td>\n",
       "      <td>T</td>\n",
       "      <td>F</td>\n",
       "      <td>T</td>\n",
       "      <td>F</td>\n",
       "      <td>F</td>\n",
       "      <td>IGHV1-2*02</td>\n",
       "      <td>IGHD3-3*01</td>\n",
       "      <td>...</td>\n",
       "      <td>no</td>\n",
       "      <td>no</td>\n",
       "      <td>POEMS</td>\n",
       "      <td>Patient_19</td>\n",
       "      <td>None</td>\n",
       "      <td>Heavy</td>\n",
       "      <td>38304</td>\n",
       "      <td>108623</td>\n",
       "      <td>Bulk</td>\n",
       "      <td>0.833333</td>\n",
       "    </tr>\n",
       "    <tr>\n",
       "      <th>1</th>\n",
       "      <td>GACAGTTACTGAGCACACAGGACCTCACCATGGGATGGAGCTGTAT...</td>\n",
       "      <td>H</td>\n",
       "      <td>F</td>\n",
       "      <td>T</td>\n",
       "      <td>F</td>\n",
       "      <td>T</td>\n",
       "      <td>F</td>\n",
       "      <td>F</td>\n",
       "      <td>IGHV1-2*02</td>\n",
       "      <td>IGHD3-3*01</td>\n",
       "      <td>...</td>\n",
       "      <td>no</td>\n",
       "      <td>no</td>\n",
       "      <td>POEMS</td>\n",
       "      <td>Patient_19</td>\n",
       "      <td>None</td>\n",
       "      <td>Heavy</td>\n",
       "      <td>38304</td>\n",
       "      <td>108623</td>\n",
       "      <td>Bulk</td>\n",
       "      <td>0.833333</td>\n",
       "    </tr>\n",
       "  </tbody>\n",
       "</table>\n",
       "<p>2 rows × 113 columns</p>\n",
       "</div>"
      ],
      "text/plain": [
       "                                            sequence locus stop_codon  \\\n",
       "0  GATGAGATCACTGTTCTCTTTACAGTTACTGAGCACACAGGACCTC...     H          F   \n",
       "1  GACAGTTACTGAGCACACAGGACCTCACCATGGGATGGAGCTGTAT...     H          F   \n",
       "\n",
       "  vj_in_frame v_frameshift productive rev_comp complete_vdj      v_call  \\\n",
       "0           T            F          T        F            F  IGHV1-2*02   \n",
       "1           T            F          T        F            F  IGHV1-2*02   \n",
       "\n",
       "       d_call  ... Longitudinal Age Disease     Subject Vaccine  Chain  \\\n",
       "0  IGHD3-3*01  ...           no  no   POEMS  Patient_19    None  Heavy   \n",
       "1  IGHD3-3*01  ...           no  no   POEMS  Patient_19    None  Heavy   \n",
       "\n",
       "   Unique sequences  Total sequences  Isotype  Identity  \n",
       "0             38304           108623     Bulk  0.833333  \n",
       "1             38304           108623     Bulk  0.833333  \n",
       "\n",
       "[2 rows x 113 columns]"
      ]
     },
     "execution_count": 9,
     "metadata": {},
     "output_type": "execute_result"
    }
   ],
   "source": [
    "n_best_sequences = oasdb.get_meta(n_query = 0,          # Which query to extract meta data from\n",
    "                                  n_region = 0,         # Which region to extract meta data from\n",
    "                                  n_sequences = 2,  # Number of sequences to extract (default is all, which is keep_best_n)\n",
    "                                  n_jobs=10             # Allocated number for jobs/threads for the extraction\n",
    "                                 )\n",
    "n_best_sequences"
   ]
  },
  {
   "cell_type": "code",
   "execution_count": 10,
   "id": "346cd1d0-1544-47d8-af74-228299c00dcb",
   "metadata": {},
   "outputs": [
    {
     "data": {
      "text/plain": [
       "array(['QVQLQQPGAEVVKPGASVKLSCKASGYTFTSYWMHWVKQRPGRGLEWIGRIDPNSGGTKYNEKFKSKATLIVDKSSSTVYMQFSSLTSEDSAVYYCARGEWFAYWGQGTLVTVS',\n",
       "       'QVQLQQPGAEVVKPGASVKLSCKASGYTFTSYWMHWVKQRPGRGLEWIGRIDPNSGGTKYNEKFKSKATLIVDKSSSTVYMKFSSLTSEDSAVYYCARGEWFAYWGQGTLVTVS'],\n",
       "      dtype=object)"
      ]
     },
     "execution_count": 10,
     "metadata": {},
     "output_type": "execute_result"
    }
   ],
   "source": [
    "n_best_sequences.sequence_alignment_aa.values"
   ]
  },
  {
   "cell_type": "markdown",
   "id": "9ee5b315-111d-4a01-919a-841b0b48b0f8",
   "metadata": {},
   "source": [
    "----------\n",
    "## Create custom database\n",
    "\n",
    "\n",
    "To create your own database you first need to create a csv file in the OAS format. For an example file, look at data/custom-data-example.csv. This file consists of a dictionary containing the metadata in the first line and then rows of the individual sequences afterwards. Only the Species and Chain is strictly needed in the metadata, and only the amino acids sequence of the antibodies is required for each antibody sequence.\n",
    "\n",
    "### 1. Format your data into OAS files"
   ]
  },
  {
   "cell_type": "code",
   "execution_count": 11,
   "id": "f07a5cef-7e66-4c5b-b150-59a07554f93d",
   "metadata": {},
   "outputs": [],
   "source": [
    "import json\n",
    "import os\n",
    "import pandas as pd\n",
    "\n",
    "from kasearch.species_anarci import number\n",
    "from kasearch.merge_db import merge_files"
   ]
  },
  {
   "cell_type": "code",
   "execution_count": 12,
   "id": "17165675-2b54-4f31-8c2e-8269e2cfc999",
   "metadata": {},
   "outputs": [],
   "source": [
    "metadata = {\"Species\":\"Human\", \"Chain\":\"Heavy\"}\n",
    "metadata = pd.Series(name=json.dumps(metadata), dtype='object')\n",
    "seqsdata = pd.DataFrame([[\"EVQLVESGGGLAKPGGSLRLHCAASGFAFSSYWMNWVRQAPGKRLEWVSAINLGGGLTYYAASVKGRFTISRDNSKNTLSLQMNSLRAEDTAVYYCATDYCSSTYCSPVGDYWGQGVLVTVSS\"],\n",
    "                          [\"EVQLVQSGAEVKRPGESLKISCKTSGYSFTSYWISWVRQMPGKGLEWMGAIDPSDSDTRYNPSFQGQVTISADKSISTAYLQWSRLKASDTATYYCAIKKYCTGSGCRRWYFDLWGPGT\"]\n",
    "                         ], columns = ['sequence_alignment_aa'])"
   ]
  },
  {
   "cell_type": "code",
   "execution_count": 13,
   "id": "4ef0325e-74dd-4961-82b6-d88d2d3b6cd2",
   "metadata": {},
   "outputs": [],
   "source": [
    "save_file = \"../data/custom-data-examples.csv\"\n",
    "metadata.to_csv(save_file, index=False)\n",
    "seqsdata.to_csv(save_file, index=False, mode='a')"
   ]
  },
  {
   "cell_type": "markdown",
   "id": "486c8742-e8e4-4d69-b500-4e9b3b34d8ab",
   "metadata": {},
   "source": [
    "### 2. Turn your OAS formatted files into a custom database\n",
    "\n",
    "After creating all the files you want to include in the new database, you can run the following code to create the database."
   ]
  },
  {
   "cell_type": "code",
   "execution_count": 14,
   "id": "a1913f01-9100-428f-b0ab-c41b5f2ac4ce",
   "metadata": {},
   "outputs": [],
   "source": [
    "db_folder = \"../data/my_db\"\n",
    "db_files = ['../data/custom-data-examples.csv']"
   ]
  },
  {
   "cell_type": "code",
   "execution_count": 15,
   "id": "ea1a4e7f-f0a0-4747-a545-e8676769f599",
   "metadata": {
    "tags": []
   },
   "outputs": [],
   "source": [
    "newDB = PrepareDB(db_path=db_folder)\n",
    "\n",
    "db_dict = {}\n",
    "for num, data_unit_file in enumerate(db_files):\n",
    "\n",
    "    db_dict[num] = data_unit_file\n",
    "    \n",
    "    metadata = json.loads(','.join(pd.read_csv(data_unit_file, nrows=0).columns))\n",
    "    seqsdata = pd.read_csv(data_unit_file, header=1, usecols=['sequence_alignment_aa']).iloc[:,0].values\n",
    "    numbered_sequences = [number(sequence, allowed_species=None)[0] for sequence in seqsdata]\n",
    "\n",
    "    newDB.prepare_database(numbered_sequences, \n",
    "                           file_id=num, \n",
    "                           chain=metadata['Chain'], \n",
    "                           species=metadata['Species'])\n",
    "    \n",
    "newDB.save_database()\n",
    "\n",
    "merge_files(db_folder)\n",
    "\n",
    "with open(os.path.join(db_folder, \"id_to_study.txt\"), \"w\") as handle: handle.write(str(db_dict))"
   ]
  },
  {
   "cell_type": "markdown",
   "id": "dbf8a980-c639-4850-add9-15f045810e48",
   "metadata": {},
   "source": [
    "### 3. Initiate the search class with your custom database\n"
   ]
  },
  {
   "cell_type": "code",
   "execution_count": 16,
   "id": "a39722cf-b564-4038-b6ac-09560ac30b15",
   "metadata": {},
   "outputs": [],
   "source": [
    "mydb = SearchDB(database_path=db_folder,      # Path to your database. Default will be to download a prepared version of OAS.\n",
    "                 allowed_chain='Heavy',       # Search against a specific chain. Default is any chain.\n",
    "                 allowed_species='Any',       # Search against a specific species. Default is any species.\n",
    "                )"
   ]
  }
 ],
 "metadata": {
  "kernelspec": {
   "display_name": "Python [conda env:test_env]",
   "language": "python",
   "name": "conda-env-test_env-py"
  },
  "language_info": {
   "codemirror_mode": {
    "name": "ipython",
    "version": 3
   },
   "file_extension": ".py",
   "mimetype": "text/x-python",
   "name": "python",
   "nbconvert_exporter": "python",
   "pygments_lexer": "ipython3",
   "version": "3.8.13"
  }
 },
 "nbformat": 4,
 "nbformat_minor": 5
}
