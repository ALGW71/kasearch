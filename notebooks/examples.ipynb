{
 "cells": [
  {
   "cell_type": "code",
   "execution_count": null,
   "id": "aa193bab-5157-4d4a-a989-535bc222ca2f",
   "metadata": {},
   "outputs": [],
   "source": [
    "%load_ext autoreload\n",
    "%autoreload 2\n",
    "\n",
    "import os\n",
    "\n",
    "import pandas as pd\n",
    "\n",
    "from kasearch import SearchOAS, SetQueries"
   ]
  },
  {
   "cell_type": "code",
   "execution_count": null,
   "id": "3422c094-eca4-47bb-a1a7-750daa50f10e",
   "metadata": {},
   "outputs": [],
   "source": [
    "raw_queries = [\n",
    "    'QVKLQESGAELARPGASVKLSCKASGYTFTNYWMQWVKQRPGQGLDWIGAIYPGDGNTRYTHKFKGKATLTADKSSSTAYMQLSSLASEDSGVYYCARGEGNYAWFAYWGQGTTVTVSS',\n",
    "    'EVQLQQSGTVLARPGASVKMSCEASGYTFTNYWMHWVKQRPGQGLEWIGAIYPGNSDTSYIQKFKGKAKLTAVTSTTSVYMELSSLTNEDSAVYYCTLYDGYYVFAYWGQGTLVTVSA',\n",
    "    'QVQLLESGGGLVQPGGSLRLSCAASGFTFSTAAMSWVRQAPGKGLEWVSGISGSGSSTYYADSVKGRFTISRDNSKNTLYLQMNSLRAEDTAVYYCARELSYLYSGYYFDYWGQGTLVTVSS',\n",
    "]"
   ]
  },
  {
   "cell_type": "code",
   "execution_count": null,
   "id": "bc3153a4-41f0-4358-8283-702d6da74706",
   "metadata": {},
   "outputs": [],
   "source": [
    "QueryDB = SetQueries(raw_queries, n_jobs=2)\n",
    "QueryDB.queries[0]"
   ]
  },
  {
   "cell_type": "code",
   "execution_count": 4,
   "id": "23231856-1b3d-4b30-9c61-74a972fc7340",
   "metadata": {},
   "outputs": [],
   "source": [
    "DATABASE_PATH = \"/data/icarus/olsen/projects/scan_oas/reports/oas-unpaired/oas-unpaired\""
   ]
  },
  {
   "cell_type": "code",
   "execution_count": 5,
   "id": "3308d382-5c74-4368-a2f3-d02e75345358",
   "metadata": {},
   "outputs": [],
   "source": [
    "search_oas = SearchOAS(database_path=DATABASE_PATH, \n",
    "                                  chain='Heavy', \n",
    "                                  allowed_species=['Human'], \n",
    "                                  n_jobs=1)"
   ]
  },
  {
   "cell_type": "code",
   "execution_count": 6,
   "id": "009f2a34-a98c-48ba-85ed-b3d9c7f903bd",
   "metadata": {
    "tags": []
   },
   "outputs": [
    {
     "name": "stdout",
     "output_type": "stream",
     "text": [
      "3min 6s ± 0 ns per loop (mean ± std. dev. of 1 run, 1 loop each)\n"
     ]
    }
   ],
   "source": [
    "%%timeit -n 1 -r 1\n",
    "search_oas.search(QueryDB.queries[0], keep_best_n=2)"
   ]
  },
  {
   "cell_type": "code",
   "execution_count": 7,
   "id": "91dfaebc-7ac9-409e-96f4-707b70710902",
   "metadata": {},
   "outputs": [
    {
     "data": {
      "text/plain": [
       "array([[0.68947407, 0.76388889, 0.83333333],\n",
       "       [0.68907563, 0.75714286, 0.79166667]])"
      ]
     },
     "execution_count": 7,
     "metadata": {},
     "output_type": "execute_result"
    }
   ],
   "source": [
    "search_oas.current_best_identities"
   ]
  }
 ],
 "metadata": {
  "kernelspec": {
   "display_name": "oasprocess",
   "language": "python",
   "name": "oasprocess"
  },
  "language_info": {
   "codemirror_mode": {
    "name": "ipython",
    "version": 3
   },
   "file_extension": ".py",
   "mimetype": "text/x-python",
   "name": "python",
   "nbconvert_exporter": "python",
   "pygments_lexer": "ipython3",
   "version": "3.9.7"
  }
 },
 "nbformat": 4,
 "nbformat_minor": 5
}
